{
 "cells": [
  {
   "cell_type": "code",
   "execution_count": 1,
   "id": "5e20cdcc",
   "metadata": {},
   "outputs": [
    {
     "name": "stdout",
     "output_type": "stream",
     "text": [
      "[1 2 3 4 5 6]\n"
     ]
    },
    {
     "data": {
      "text/plain": [
       "[[1, 2, 3, 4], [5, 6, 7, 8]]"
      ]
     },
     "execution_count": 1,
     "metadata": {},
     "output_type": "execute_result"
    }
   ],
   "source": [
    "import numpy as np\n",
    "\n",
    "# create arrays\n",
    "data1= [1, 2, 3, 4, 5, 6]  # list\n",
    "arr1= np.array(data1)\n",
    "print(arr1)\n",
    "data2=[range(1, 5), range(5, 9)]\n",
    "arr2= np.array(data2)\n",
    "arr2.tolist() # convert array back to list\n"
   ]
  },
  {
   "cell_type": "code",
   "execution_count": 85,
   "id": "0469d64c",
   "metadata": {},
   "outputs": [
    {
     "name": "stdout",
     "output_type": "stream",
     "text": [
      "np.zeros(10) :  [0. 0. 0. 0. 0. 0. 0. 0. 0. 0.]\n",
      "np.zeros((3, 6)):  [[0. 0. 0. 0. 0. 0.]\n",
      " [0. 0. 0. 0. 0. 0.]\n",
      " [0. 0. 0. 0. 0. 0.]]\n",
      "np.ones(10):  [1. 1. 1. 1. 1. 1. 1. 1. 1. 1.]\n",
      "np.linspace (0, 1, 5):  [0.   0.25 0.5  0.75 1.  ]\n",
      "np.logspace(0, 3, 4):  [   1.   10.  100. 1000.]\n",
      "nu.full(10, 5.0):  [5. 5. 5. 5. 5. 5. 5. 5. 5. 5.]\n"
     ]
    }
   ],
   "source": [
    "# create special arrays\n",
    "print(\"np.zeros(10) : \", np.zeros(10))\n",
    "print(\"np.zeros((3, 6)): \", np.zeros((3, 6)))\n",
    "print(\"np.ones(10): \", np.ones(10))\n",
    "print(\"np.linspace (0, 1, 5): \", np.linspace(0, 1, 5)) # 0 to 1 with 5 points\n",
    "print(\"np.logspace(0, 3, 4): \", np.logspace(0, 3, 4)) # 10^0 to 10^3 with 4 points\n",
    "print(\"nu.full(10, 5.0): \", np.full(10, 5.0))"
   ]
  },
  {
   "cell_type": "code",
   "execution_count": 3,
   "id": "e956bd91",
   "metadata": {},
   "outputs": [
    {
     "data": {
      "text/plain": [
       "(array([0, 1, 2, 3, 4]), array([0., 1., 2., 3., 4.]))"
      ]
     },
     "execution_count": 3,
     "metadata": {},
     "output_type": "execute_result"
    }
   ],
   "source": [
    "# arange is like range, except it returns an array( not a list)\n",
    "int_array= np.arange(5)\n",
    "float_array=int_array.astype(float)\n",
    "int_array, float_array"
   ]
  },
  {
   "cell_type": "code",
   "execution_count": 4,
   "id": "d9933242",
   "metadata": {},
   "outputs": [
    {
     "data": {
      "text/plain": [
       "2"
      ]
     },
     "execution_count": 4,
     "metadata": {},
     "output_type": "execute_result"
    }
   ],
   "source": [
    "# Examining arrays \n",
    "arr1.dtype  # dtype(('int32'))\n",
    "arr2.dtype  # dtype(('int32'))\n",
    "arr2.ndim  # 2\n",
    "arr2.shape  # (2, 4)\n",
    "arr2.size   # 8\n",
    "len(arr2)   #2 the number of lignes "
   ]
  },
  {
   "cell_type": "code",
   "execution_count": 5,
   "id": "d5206f73",
   "metadata": {},
   "outputs": [
    {
     "name": "stdout",
     "output_type": "stream",
     "text": [
      "(2, 5)\n",
      "[[0. 1.]\n",
      " [2. 3.]\n",
      " [4. 5.]\n",
      " [6. 7.]\n",
      " [8. 9.]]\n"
     ]
    }
   ],
   "source": [
    "# Reshaping \n",
    "arr= np.arange(10, dtype=float).reshape((2, 5))\n",
    "print(arr.shape)\n",
    "print(arr.reshape(5, 2))"
   ]
  },
  {
   "cell_type": "code",
   "execution_count": 6,
   "id": "0419c460",
   "metadata": {},
   "outputs": [
    {
     "name": "stdout",
     "output_type": "stream",
     "text": [
      "[[0]\n",
      " [1]]\n"
     ]
    }
   ],
   "source": [
    "# add an axis\n",
    "a=np.array([0, 1])\n",
    "a_col= a[: , np.newaxis]\n",
    "print(a_col)"
   ]
  },
  {
   "cell_type": "code",
   "execution_count": 7,
   "id": "503e263b",
   "metadata": {},
   "outputs": [
    {
     "data": {
      "text/plain": [
       "array([[0, 1]])"
      ]
     },
     "execution_count": 7,
     "metadata": {},
     "output_type": "execute_result"
    }
   ],
   "source": [
    "# transpose\n",
    "a_col.T"
   ]
  },
  {
   "cell_type": "code",
   "execution_count": 8,
   "id": "f28206fd",
   "metadata": {},
   "outputs": [
    {
     "name": "stdout",
     "output_type": "stream",
     "text": [
      "[33.  1.  2.  3.  4.  5.  6.  7.  8.  9.]\n",
      "[[0. 1. 2. 3. 4.]\n",
      " [5. 6. 7. 8. 9.]]\n"
     ]
    }
   ],
   "source": [
    "# Flatten: always returns a flat copy of the original array\n",
    "arr=np.arange(10, dtype=float).reshape((2, 5))\n",
    "arr_flat= arr.flatten()\n",
    "arr_flat[0]=33\n",
    "\n",
    "print(arr_flat)\n",
    "print(arr)"
   ]
  },
  {
   "cell_type": "code",
   "execution_count": 9,
   "id": "9d5d5916",
   "metadata": {},
   "outputs": [
    {
     "name": "stdout",
     "output_type": "stream",
     "text": [
      "[33.  1.  2.  3.  4.  5.  6.  7.  8.  9.]\n",
      "[[33.  1.  2.  3.  4.]\n",
      " [ 5.  6.  7.  8.  9.]]\n"
     ]
    }
   ],
   "source": [
    "# ravel: returns a view of original array whenever possible \n",
    "arr_ravel= arr.ravel()\n",
    "arr_ravel[0]=33\n",
    "print(arr_ravel)\n",
    "print(arr)"
   ]
  },
  {
   "cell_type": "code",
   "execution_count": 10,
   "id": "a2378903",
   "metadata": {},
   "outputs": [
    {
     "name": "stdout",
     "output_type": "stream",
     "text": [
      "[ 0  1  2  3  4  5  6  7  8  9 10 11 12 13 14 15 16 17 18 19 20 21 22 23]\n"
     ]
    }
   ],
   "source": [
    "x=np.arange(2*3*4)\n",
    "print(x)"
   ]
  },
  {
   "cell_type": "code",
   "execution_count": 11,
   "id": "8510fb0a",
   "metadata": {},
   "outputs": [
    {
     "name": "stdout",
     "output_type": "stream",
     "text": [
      "[[[ 0  1  2  3]\n",
      "  [ 4  5  6  7]\n",
      "  [ 8  9 10 11]]\n",
      "\n",
      " [[12 13 14 15]\n",
      "  [16 17 18 19]\n",
      "  [20 21 22 23]]]\n"
     ]
    }
   ],
   "source": [
    "x=x.reshape(2, 3, 4)\n",
    "print(x)"
   ]
  },
  {
   "cell_type": "code",
   "execution_count": 12,
   "id": "cbcc7b0a",
   "metadata": {},
   "outputs": [
    {
     "name": "stdout",
     "output_type": "stream",
     "text": [
      "[[ 0  1  2  3]\n",
      " [ 4  5  6  7]\n",
      " [ 8  9 10 11]]\n"
     ]
    }
   ],
   "source": [
    "# selection get first plan\n",
    "print(x[0, :, :])"
   ]
  },
  {
   "cell_type": "code",
   "execution_count": 13,
   "id": "06b0bf0c",
   "metadata": {},
   "outputs": [
    {
     "name": "stdout",
     "output_type": "stream",
     "text": [
      "[[ 0  1  2  3]\n",
      " [12 13 14 15]]\n"
     ]
    }
   ],
   "source": [
    "# selection get first rows\n",
    "print(x[:,0,:])"
   ]
  },
  {
   "cell_type": "code",
   "execution_count": 14,
   "id": "2355d260",
   "metadata": {},
   "outputs": [
    {
     "name": "stdout",
     "output_type": "stream",
     "text": [
      "[[ 0  4  8]\n",
      " [12 16 20]]\n"
     ]
    }
   ],
   "source": [
    "# selection get first columns\n",
    "print(x[:,:,0])"
   ]
  },
  {
   "cell_type": "code",
   "execution_count": 15,
   "id": "feb7fb01",
   "metadata": {},
   "outputs": [
    {
     "name": "stdout",
     "output_type": "stream",
     "text": [
      "[[0 2]\n",
      " [1 3]]\n",
      "[[0 2]\n",
      " [1 3]]\n"
     ]
    }
   ],
   "source": [
    "# Stack arrays\n",
    "\n",
    "a= np.array([0, 1])\n",
    "b=np.array([2, 3])\n",
    "ab= np.stack((a, b)).T\n",
    "\n",
    "# or \n",
    "ab_hstack=np.hstack((a[:, None], b[:, None]))\n",
    "print(ab)\n",
    "print(ab_hstack)\n"
   ]
  },
  {
   "cell_type": "code",
   "execution_count": 16,
   "id": "0fa3ef4e",
   "metadata": {},
   "outputs": [
    {
     "name": "stdout",
     "output_type": "stream",
     "text": [
      "1.0\n",
      "[[0. 1. 2. 3. 4.]\n",
      " [5. 6. 7. 8. 9.]]\n"
     ]
    }
   ],
   "source": [
    "# Selection \n",
    "arr= np.arange(10, dtype=float).reshape((2, 5))\n",
    "print(arr[0][1])\n",
    "print(arr)"
   ]
  },
  {
   "cell_type": "code",
   "execution_count": 17,
   "id": "bcdae606",
   "metadata": {},
   "outputs": [
    {
     "name": "stdout",
     "output_type": "stream",
     "text": [
      "[0. 1. 2. 3. 4.]\n",
      "[0. 5.]\n",
      "[[0. 1.]\n",
      " [5. 6.]]\n",
      "[[2. 3. 4.]\n",
      " [7. 8. 9.]]\n",
      "[[1. 2. 3.]\n",
      " [6. 7. 8.]]\n"
     ]
    }
   ],
   "source": [
    "#slicing \n",
    "print(arr[0, :])\n",
    "print(arr[: , 0])\n",
    "print(arr[:, :2])\n",
    "print(arr[:, 2:])\n",
    "arr2= arr[:, 1:4]\n",
    "print(arr2)"
   ]
  },
  {
   "cell_type": "code",
   "execution_count": 18,
   "id": "4ff29ace",
   "metadata": {},
   "outputs": [
    {
     "name": "stdout",
     "output_type": "stream",
     "text": [
      "[[4. 3. 2. 1. 0.]\n",
      " [9. 8. 7. 6. 5.]]\n"
     ]
    }
   ],
   "source": [
    "# Row 0 reverse order\n",
    "print(arr[:, ::-1])"
   ]
  },
  {
   "cell_type": "code",
   "execution_count": 19,
   "id": "217c3b10",
   "metadata": {},
   "outputs": [
    {
     "name": "stdout",
     "output_type": "stream",
     "text": [
      "[[1. 2. 3.]\n",
      " [6. 7. 8.]]\n",
      "[[44.  2.  3.]\n",
      " [ 6.  7.  8.]]\n",
      "[[0. 1. 2. 3. 4.]\n",
      " [5. 6. 7. 8. 9.]]\n"
     ]
    }
   ],
   "source": [
    "# fancy indexing: Integer or boolean array indexing \n",
    "arr2=arr[:, [1, 2, 3]]\n",
    "print(arr2)\n",
    "arr2[0, 0]=44\n",
    "print(arr2)\n",
    "print(arr)"
   ]
  },
  {
   "cell_type": "code",
   "execution_count": 20,
   "id": "0f887db1",
   "metadata": {},
   "outputs": [
    {
     "name": "stdout",
     "output_type": "stream",
     "text": [
      "[6. 7. 8. 9.]\n",
      "[55.  7.  8.  9.]\n"
     ]
    }
   ],
   "source": [
    "# boolean arrays indexing\n",
    "arr2= arr[arr>5]\n",
    "print(arr2)\n",
    "arr2[0]=55\n",
    "print(arr2)"
   ]
  },
  {
   "cell_type": "code",
   "execution_count": 21,
   "id": "3b683780",
   "metadata": {},
   "outputs": [
    {
     "name": "stdout",
     "output_type": "stream",
     "text": [
      "[[0. 1. 2. 3. 4.]\n",
      " [5. 0. 0. 0. 0.]]\n"
     ]
    }
   ],
   "source": [
    "arr[arr>5]=0\n",
    "print(arr)"
   ]
  },
  {
   "cell_type": "code",
   "execution_count": 22,
   "id": "549d31ab",
   "metadata": {},
   "outputs": [
    {
     "name": "stdout",
     "output_type": "stream",
     "text": [
      "[ True False False  True]\n",
      "['joe' 'will']\n",
      "[ True False  True  True]\n",
      "['bob' 'joe' 'joe' 'bob']\n",
      "['bob' 'joe']\n"
     ]
    }
   ],
   "source": [
    "# boolean arrays indexing continues\n",
    "names=np.array(['bob', 'joe', 'will', 'bob'])\n",
    "\n",
    "print(names=='bob')\n",
    "print(names[names!='bob'])\n",
    "print((names=='bob')| (names=='will'))\n",
    "names[names!='bob']='joe'\n",
    "print(names)\n",
    "print(np.unique(names))"
   ]
  },
  {
   "cell_type": "code",
   "execution_count": 23,
   "id": "533dbd82",
   "metadata": {},
   "outputs": [
    {
     "name": "stdout",
     "output_type": "stream",
     "text": [
      "[ 0 10 20 30 40 50 60 70 80 90]\n",
      "[0.         1.         1.41421356 1.73205081 2.         2.23606798\n",
      " 2.44948974 2.64575131 2.82842712 3.        ]\n",
      "[0. 1. 2. 2. 2. 3. 3. 3. 3. 3.]\n",
      "[False False False False False False False False False False]\n",
      "[ 0.          2.          3.41421356  4.73205081  6.          7.23606798\n",
      "  8.44948974  9.64575131 10.82842712 12.        ]\n",
      "[1.         1.         3.         1.73205081 5.         2.23606798\n",
      " 2.44948974 3.         2.82842712 5.        ]\n"
     ]
    }
   ],
   "source": [
    "# vectorized operations \n",
    "nums=np.arange(10)\n",
    "print(nums*10)\n",
    "nums=np.sqrt(nums) \n",
    "print(nums)\n",
    "print(np.ceil(nums)) # also floor round to nearest int\n",
    "print(np.isnan(nums)) # check for NAN\n",
    "\n",
    "print(nums+np.arange(10))\n",
    "print(np.maximum(nums, np.array([1, -2, 3, -4, 5, 1, -2, 3, -4, 5])))"
   ]
  },
  {
   "cell_type": "code",
   "execution_count": 24,
   "id": "1f7d59ff",
   "metadata": {},
   "outputs": [
    {
     "name": "stdout",
     "output_type": "stream",
     "text": [
      "4.197269114431608\n"
     ]
    }
   ],
   "source": [
    "# compute euclidien distance between 2 vectors \n",
    "vect1= np.random.randn(10)\n",
    "vect2= np.random.randn(10)\n",
    "dist= np.sqrt(np.sum((vect1-vect2)**2))\n",
    "print(dist)"
   ]
  },
  {
   "cell_type": "code",
   "execution_count": 25,
   "id": "843ea2f7",
   "metadata": {},
   "outputs": [
    {
     "name": "stdout",
     "output_type": "stream",
     "text": [
      "[[-2.16329024  0.13537444]\n",
      " [ 1.00189912 -0.13356836]\n",
      " [-0.13605882 -0.97089078]\n",
      " [ 0.4029613  -1.28912973]]\n",
      "-0.3940878836719277\n",
      "0.9528067330445732\n",
      "2\n",
      "-3.1527030693754217\n",
      "[-0.89448864 -2.25821443]\n",
      "[-2.02791581  0.86833077 -1.1069496  -0.88616843]\n"
     ]
    }
   ],
   "source": [
    "# math and stats \n",
    "rnd= np.random.randn(4, 2)\n",
    "print(rnd)\n",
    "print(rnd.mean())\n",
    "print(rnd.std())\n",
    "print(rnd.argmax())# index of maximum element \n",
    "print(rnd.sum())\n",
    "print(rnd.sum(axis=0)) # sum of columns\n",
    "print(rnd.sum(axis=1)) # sum of rows\n"
   ]
  },
  {
   "cell_type": "code",
   "execution_count": 30,
   "id": "f4dde9d8",
   "metadata": {},
   "outputs": [
    {
     "name": "stdout",
     "output_type": "stream",
     "text": [
      "[[-2.16329024  0.13537444]\n",
      " [ 1.00189912 -0.13356836]\n",
      " [-0.13605882 -0.97089078]\n",
      " [ 0.4029613  -1.28912973]]\n",
      "3\n",
      "True\n",
      "False\n"
     ]
    }
   ],
   "source": [
    "# methods for boolean arrays\n",
    "print(rnd)\n",
    "print((rnd> 0).sum()) # count the number of positif values\n",
    "print((rnd>0).any()) # checks if any value is true \n",
    "print((rnd>0).all()) # checks if all values are true"
   ]
  },
  {
   "cell_type": "code",
   "execution_count": 35,
   "id": "68bd943a",
   "metadata": {},
   "outputs": [
    {
     "name": "stdout",
     "output_type": "stream",
     "text": [
      "[[0.19151945 0.62210877 0.43772774]\n",
      " [0.78535858 0.77997581 0.27259261]]\n",
      "[ 8.59588414e-01 -6.36523504e-01  1.56963721e-02 -2.24268495e+00\n",
      "  1.15003572e+00  9.91946022e-01  9.53324128e-01 -2.02125482e+00\n",
      " -3.34077366e-01  2.11836468e-03]\n",
      "[2 2 2 0 1 0 2 0 1 2]\n"
     ]
    }
   ],
   "source": [
    "# random numbers\n",
    "np.random.seed(1234) # set the seed\n",
    "print(np.random.rand(2, 3)) # (2, 3) matrix in [0, 1]\n",
    "print(np.random.randn(10)) # random normal (mean 0 sd 1)\n",
    "print(np.random.randint(0, 3, 10)) # 10 randomly picked 0 or 1 or 2"
   ]
  },
  {
   "cell_type": "code",
   "execution_count": 48,
   "id": "6fae345f",
   "metadata": {},
   "outputs": [
    {
     "name": "stdout",
     "output_type": "stream",
     "text": [
      "[[2 1 0]\n",
      " [0 4 4]\n",
      " [0 0 1]\n",
      " [3 1 4]] + [[1 2 1]] = [[3 3 1]\n",
      " [1 6 5]\n",
      " [1 2 2]\n",
      " [4 3 5]]\n"
     ]
    }
   ],
   "source": [
    "a=np.random.randint(5, size=(4, 3))\n",
    "b= np.random.randint(3, size=(1,3))\n",
    "print(\"%s + %s = %s\"%(a, b, a+b))"
   ]
  },
  {
   "cell_type": "code",
   "execution_count": 86,
   "id": "04389e75",
   "metadata": {},
   "outputs": [
    {
     "data": {
      "text/plain": [
       "(array([[0.15416284, 0.7400497 ],\n",
       "        [0.26331502, 0.53373939],\n",
       "        [0.01457496, 0.91874701],\n",
       "        [0.90071485, 0.03342143]]),\n",
       " (4, 2),\n",
       " 0.15416284237967237)"
      ]
     },
     "execution_count": 86,
     "metadata": {},
     "output_type": "execute_result"
    }
   ],
   "source": [
    "np.random.seed(12)\n",
    "x=np.random.rand(4,2)\n",
    "x, x.shape , x[0,0]\n",
    "        "
   ]
  },
  {
   "cell_type": "code",
   "execution_count": 83,
   "id": "f3657f4a",
   "metadata": {},
   "outputs": [
    {
     "data": {
      "text/plain": [
       "{('3', '0'): 0.9007148541170122, ('2', '1'): 0.918747008099885}"
      ]
     },
     "execution_count": 83,
     "metadata": {},
     "output_type": "execute_result"
    }
   ],
   "source": [
    "def row_max(x):\n",
    "    dct={}\n",
    "    max=0\n",
    "    for i in range(x.shape[1]):\n",
    "        for j in range(x.shape[0]):\n",
    "            if max < x[j,i]:\n",
    "                max=x[j,i]\n",
    "                ii=i\n",
    "                jj=j\n",
    "        dct[str(jj),str(ii)]= max\n",
    "    return dct\n",
    "row_max(x)"
   ]
  },
  {
   "cell_type": "code",
   "execution_count": 87,
   "id": "665c66cc",
   "metadata": {},
   "outputs": [
    {
     "name": "stdout",
     "output_type": "stream",
     "text": [
      "6.93 µs ± 268 ns per loop (mean ± std. dev. of 7 runs, 100000 loops each)\n"
     ]
    }
   ],
   "source": [
    "%timeit np.sum(x)"
   ]
  },
  {
   "cell_type": "code",
   "execution_count": 90,
   "id": "17c49a97",
   "metadata": {},
   "outputs": [
    {
     "name": "stdout",
     "output_type": "stream",
     "text": [
      "[1 2 0]\n"
     ]
    }
   ],
   "source": [
    "# argsort renvoie un array avec les indices des données initiales triée \n",
    "arr= np.array([3, 1, 2])\n",
    "print(np.argsort(arr))"
   ]
  },
  {
   "cell_type": "code",
   "execution_count": 96,
   "id": "a95e0cb6",
   "metadata": {},
   "outputs": [
    {
     "name": "stdout",
     "output_type": "stream",
     "text": [
      "[[0 1]\n",
      " [2 3]\n",
      " [4 5]]\n",
      "[0.46153846 2.46153846 4.46153846]\n"
     ]
    }
   ],
   "source": [
    "# avg = sum(a * weights) / sum(weights)\n",
    "arr= np.arange(6).reshape((3, 2))\n",
    "print(arr)\n",
    "print(np.average(arr, axis=1, weights=[1.4, 1.2]))"
   ]
  },
  {
   "cell_type": "code",
   "execution_count": null,
   "id": "caf7b5bb",
   "metadata": {},
   "outputs": [],
   "source": []
  }
 ],
 "metadata": {
  "kernelspec": {
   "display_name": "Python 3 (ipykernel)",
   "language": "python",
   "name": "python3"
  },
  "language_info": {
   "codemirror_mode": {
    "name": "ipython",
    "version": 3
   },
   "file_extension": ".py",
   "mimetype": "text/x-python",
   "name": "python",
   "nbconvert_exporter": "python",
   "pygments_lexer": "ipython3",
   "version": "3.9.7"
  }
 },
 "nbformat": 4,
 "nbformat_minor": 5
}
