{
 "cells": [
  {
   "cell_type": "markdown",
   "id": "ceba8649",
   "metadata": {},
   "source": [
    "# Challange\n",
    "\n",
    "Have the function StockPicker(arr) take the array of numbers stored in arr which will contain integers that represent the amount in dollars that a single stock is worth, and return the maximum profit that could have been made by buying stock on day x and selling stock on day y where y > x. For example: if arr is [44, 30, 24, 32, 35, 30, 40, 38, 15] then your program should return 16 because at index 2 the stock was worth $ 24 and at index 6 the stock was then worth $40, so if you bought the stock at 24 and sold it at 40, you would have made a profit of $16, which is the maximum profit that could have been made with this list of stock prices.\n",
    "\n",
    "If there is not profit that could have been made with the stock prices, then your program should return -1. For example: arr is [10, 9, 8, 2] then your program should return -1."
   ]
  },
  {
   "cell_type": "code",
   "execution_count": 4,
   "id": "abfca25b",
   "metadata": {},
   "outputs": [
    {
     "data": {
      "text/plain": [
       "16"
      ]
     },
     "execution_count": 4,
     "metadata": {},
     "output_type": "execute_result"
    }
   ],
   "source": [
    "def StockPicker(arr):\n",
    "    best=0\n",
    "    for i in range(0, len(arr)-1):\n",
    "        for j in range(i+1, len(arr)):\n",
    "            if arr[j]-arr[i]> best:\n",
    "                best= arr[j]-arr[i]\n",
    "               # print(arr[j], arr[i], best)\n",
    "    if best>0:\n",
    "        return best\n",
    "    return -1\n",
    "                \n",
    "            \n",
    "            \n",
    "arr= [44, 30, 24, 32, 35, 30, 40, 38, 15]\n",
    "best= StockPicker(arr)\n",
    "best"
   ]
  }
 ],
 "metadata": {
  "kernelspec": {
   "display_name": "Python 3 (ipykernel)",
   "language": "python",
   "name": "python3"
  },
  "language_info": {
   "codemirror_mode": {
    "name": "ipython",
    "version": 3
   },
   "file_extension": ".py",
   "mimetype": "text/x-python",
   "name": "python",
   "nbconvert_exporter": "python",
   "pygments_lexer": "ipython3",
   "version": "3.9.7"
  }
 },
 "nbformat": 4,
 "nbformat_minor": 5
}
