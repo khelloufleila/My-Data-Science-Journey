{
 "cells": [
  {
   "cell_type": "markdown",
   "id": "0ce5ed61",
   "metadata": {},
   "source": [
    "# Challenge\n",
    "\n",
    "Have the function PrimeTime(num) take the num parameter being passed and return the string true if the parameter is a prime number, otherwise return the string false. The range will be between 1 and 2^16."
   ]
  },
  {
   "cell_type": "code",
   "execution_count": 12,
   "id": "7e2b4d72",
   "metadata": {},
   "outputs": [
    {
     "name": "stdout",
     "output_type": "stream",
     "text": [
      "407\n",
      "407 is not a prime number\n",
      "11 times 37 is 407\n"
     ]
    }
   ],
   "source": [
    "def PrimeTime(num):\n",
    "    #flag=True\n",
    "    if num<1 and num> 2**16:\n",
    "        return \"you should inter number between 1 and 2^16!!\"\n",
    "    else:\n",
    "        #We check if num is exactly divisible by any number from 2 to num - 1\n",
    "        for i in range(2, num):\n",
    "            if num%i==0:\n",
    "                print(num, \"is not a prime number\")\n",
    "                print(i, \"times\", num//i, \"is\", num)\n",
    "                #flag=False\n",
    "                break\n",
    "        else:\n",
    "            print(num, \"is a prime number!!\")\n",
    "                \n",
    "    #return flag\n",
    "           \n",
    "    \n",
    "num= int(input())\n",
    "PrimeTime(num)"
   ]
  },
  {
   "cell_type": "code",
   "execution_count": null,
   "id": "446d5fc3",
   "metadata": {},
   "outputs": [],
   "source": []
  }
 ],
 "metadata": {
  "kernelspec": {
   "display_name": "Python 3 (ipykernel)",
   "language": "python",
   "name": "python3"
  },
  "language_info": {
   "codemirror_mode": {
    "name": "ipython",
    "version": 3
   },
   "file_extension": ".py",
   "mimetype": "text/x-python",
   "name": "python",
   "nbconvert_exporter": "python",
   "pygments_lexer": "ipython3",
   "version": "3.9.7"
  }
 },
 "nbformat": 4,
 "nbformat_minor": 5
}
