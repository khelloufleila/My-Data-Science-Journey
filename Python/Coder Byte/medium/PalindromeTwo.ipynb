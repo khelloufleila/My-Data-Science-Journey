{
 "cells": [
  {
   "cell_type": "markdown",
   "id": "5c0042c4",
   "metadata": {},
   "source": [
    "# Challenge\n",
    "\n",
    "Have the function PalindromeTwo(str) take the str parameter being passed and return the string true if the parameter is a palindrome, (the string is the same forward as it is backward) otherwise return the string false. The parameter entered may have punctuation and symbols but they should not affect whether the string is in fact a palindrome. For example: \"Anne, I vote more cars race Rome-to-Vienna\" should return true."
   ]
  },
  {
   "cell_type": "code",
   "execution_count": 31,
   "id": "ae61661d",
   "metadata": {},
   "outputs": [
    {
     "data": {
      "text/plain": [
       "'true'"
      ]
     },
     "execution_count": 31,
     "metadata": {},
     "output_type": "execute_result"
    }
   ],
   "source": [
    "def PalindromeTwo(string):\n",
    "  \n",
    "    forward=[x.lower() for x in string if x.isalpha()]\n",
    "    \n",
    "    #for i in range(len(forward)):\n",
    "\n",
    "    if forward!=forward[::-1]: \n",
    "        return \"false\"\n",
    "    \n",
    "    return \"true\"\n",
    "        \n",
    "  \n",
    "string=  \"Anne, I vote more cars race Rome-to-Vienna\"\n",
    "flag= PalindromeTwo(string)\n",
    "flag\n",
    "    \n",
    "    "
   ]
  }
 ],
 "metadata": {
  "kernelspec": {
   "display_name": "Python 3 (ipykernel)",
   "language": "python",
   "name": "python3"
  },
  "language_info": {
   "codemirror_mode": {
    "name": "ipython",
    "version": 3
   },
   "file_extension": ".py",
   "mimetype": "text/x-python",
   "name": "python",
   "nbconvert_exporter": "python",
   "pygments_lexer": "ipython3",
   "version": "3.9.7"
  }
 },
 "nbformat": 4,
 "nbformat_minor": 5
}
