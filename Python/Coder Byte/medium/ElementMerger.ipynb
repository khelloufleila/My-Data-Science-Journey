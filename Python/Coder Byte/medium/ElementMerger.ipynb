{
 "cells": [
  {
   "cell_type": "markdown",
   "id": "26988925",
   "metadata": {},
   "source": [
    "# Challenge\n",
    "Using the Pyhton language, have the function ElementMerger(arr) take the array of positive integers stored in arr and perform the following algorithm: continuously get the difference of adjacent integers to create a new array of integers, then do the same for the new array until a single number is left and return that number. For example: if arr is [4, 5, 1, 2, 7] then taking the difference of each pair of elements produces the following new array: [1, 4, 1, 5]. Then do the same for this new array to produce [3, 3, 4] -> [0, 1] -> 1. So for this example your program should return the number 1 because that is what’s left at the end.Sample Test Cases\n",
    "\n",
    "- Input:5, 7, 16, 1, 2\n",
    "- Output:7\n",
    "- Input:1, 1, 1, 2\n",
    "- Output:1"
   ]
  },
  {
   "cell_type": "code",
   "execution_count": 7,
   "id": "dc43803c",
   "metadata": {},
   "outputs": [
    {
     "name": "stdout",
     "output_type": "stream",
     "text": [
      "[0, 0, 1]\n",
      "[0, 1]\n",
      "[1]\n"
     ]
    },
    {
     "data": {
      "text/plain": [
       "1"
      ]
     },
     "execution_count": 7,
     "metadata": {},
     "output_type": "execute_result"
    }
   ],
   "source": [
    "def ElementMrg(arr):\n",
    "    return [abs(arr[i]-arr[i+1]) for i in range(len(arr)-1)]\n",
    "\n",
    "def ElementMerger(arr):\n",
    "    new_arr= ElementMrg(arr)\n",
    "    print(new_arr)\n",
    "    if len(new_arr)!=1:\n",
    "        return ElementMerger(new_arr)\n",
    "    else:\n",
    "        return new_arr[0]\n",
    "    \n",
    "\n",
    "       \n",
    "#arr=[4, 5, 1, 2, 7]\n",
    "#arr=[5, 7, 16, 1, 2]\n",
    "arr=[1, 1, 1, 2]\n",
    "ElementMerger(arr)"
   ]
  }
 ],
 "metadata": {
  "kernelspec": {
   "display_name": "Python 3 (ipykernel)",
   "language": "python",
   "name": "python3"
  },
  "language_info": {
   "codemirror_mode": {
    "name": "ipython",
    "version": 3
   },
   "file_extension": ".py",
   "mimetype": "text/x-python",
   "name": "python",
   "nbconvert_exporter": "python",
   "pygments_lexer": "ipython3",
   "version": "3.9.7"
  }
 },
 "nbformat": 4,
 "nbformat_minor": 5
}
