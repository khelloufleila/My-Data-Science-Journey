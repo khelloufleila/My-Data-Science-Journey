{
 "cells": [
  {
   "cell_type": "markdown",
   "id": "c74cf08c",
   "metadata": {},
   "source": [
    "# Challenge\n",
    "Have the function RunLength(str) take the str parameter being passed and return a compressed version of the string using the Run-length encoding algorithm. This algorithm works by taking the occurrence of each repeating character and outputting that number along with a single character of the repeating sequence. For example: \"wwwggopp\" would return 3w2g1o2p. The string will not contain any numbers, punctuation, or symbols."
   ]
  },
  {
   "cell_type": "code",
   "execution_count": 8,
   "id": "2634eefe",
   "metadata": {},
   "outputs": [
    {
     "data": {
      "text/plain": [
       "'3w2g1o2p'"
      ]
     },
     "execution_count": 8,
     "metadata": {},
     "output_type": "execute_result"
    }
   ],
   "source": [
    "def RunLength(string):\n",
    "    new_string=\"\"\n",
    "    repeat= dict()\n",
    "    \n",
    "    for i in string:\n",
    "        if i not in repeat.keys():\n",
    "            repeat[i]=1\n",
    "        else:\n",
    "            repeat[i]+=1\n",
    "            \n",
    "    for key in repeat:\n",
    "        new_string+=str(repeat[key])+key\n",
    "        \n",
    "    return new_string\n",
    "string=\"wwwggopp\"\n",
    "repeat= RunLength(string)\n",
    "repeat"
   ]
  }
 ],
 "metadata": {
  "kernelspec": {
   "display_name": "Python 3 (ipykernel)",
   "language": "python",
   "name": "python3"
  },
  "language_info": {
   "codemirror_mode": {
    "name": "ipython",
    "version": 3
   },
   "file_extension": ".py",
   "mimetype": "text/x-python",
   "name": "python",
   "nbconvert_exporter": "python",
   "pygments_lexer": "ipython3",
   "version": "3.9.7"
  }
 },
 "nbformat": 4,
 "nbformat_minor": 5
}
