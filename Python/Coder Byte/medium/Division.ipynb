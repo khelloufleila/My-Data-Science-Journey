{
 "cells": [
  {
   "cell_type": "markdown",
   "id": "15eb4073",
   "metadata": {},
   "source": [
    "# Challenge\n",
    "\n",
    "Have the function Division(num1,num2) take both parameters being passed and return the Greatest Common Factor. That is, return the greatest number that evenly goes into both numbers with no remainder. For example: 12 and 16 both are divisible by 1, 2, and 4 so the output should be 4. The range for both parameters will be from 1 to 10^3."
   ]
  },
  {
   "cell_type": "code",
   "execution_count": 13,
   "id": "f6e3dc54",
   "metadata": {},
   "outputs": [
    {
     "data": {
      "text/plain": [
       "4"
      ]
     },
     "execution_count": 13,
     "metadata": {},
     "output_type": "execute_result"
    }
   ],
   "source": [
    "def Division(num1, num2):\n",
    "    if num1>10**3 and num1<1 and num2<1 and num2>10**3:\n",
    "        return \"you should give numbers between 1 and 10^3!!\"\n",
    "    diviseur1=[]\n",
    "    diviseur2=[]\n",
    "    \n",
    "    for i in range(1, num1):\n",
    "        if num1%i==0 and i not in diviseur1:\n",
    "            diviseur1.append(i)\n",
    "    for i in range(1, num2):\n",
    "        if num2%i==0 and i not in diviseur2:\n",
    "             diviseur2.append(i)\n",
    "    div=[value for value in diviseur1 if value in diviseur2]\n",
    "    div.sort(reverse=True)\n",
    "    gcd= div[0]\n",
    "  \n",
    "                \n",
    "    return gcd\n",
    "num1, num2= 12, 16\n",
    "div= Division(num1, num2)\n",
    "div"
   ]
  },
  {
   "cell_type": "code",
   "execution_count": 12,
   "id": "95dd37ad",
   "metadata": {},
   "outputs": [
    {
     "data": {
      "text/plain": [
       "4"
      ]
     },
     "execution_count": 12,
     "metadata": {},
     "output_type": "execute_result"
    }
   ],
   "source": [
    "def Division(num1, num2):\n",
    "    gcd=1\n",
    "    for i in range(1, num2+1):\n",
    "        if num1%i==0 and num2%i==0 and i>gcd:\n",
    "            gcd=i\n",
    "    return gcd\n",
    "num1, num2= 16, 12\n",
    "div= Division(num1, num2)\n",
    "div"
   ]
  }
 ],
 "metadata": {
  "kernelspec": {
   "display_name": "Python 3 (ipykernel)",
   "language": "python",
   "name": "python3"
  },
  "language_info": {
   "codemirror_mode": {
    "name": "ipython",
    "version": 3
   },
   "file_extension": ".py",
   "mimetype": "text/x-python",
   "name": "python",
   "nbconvert_exporter": "python",
   "pygments_lexer": "ipython3",
   "version": "3.9.7"
  }
 },
 "nbformat": 4,
 "nbformat_minor": 5
}
