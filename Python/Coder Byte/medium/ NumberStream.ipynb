{
 "cells": [
  {
   "cell_type": "markdown",
   "id": "8d95ff08",
   "metadata": {},
   "source": [
    "# Challange\n",
    "\n",
    "Create a function NumberStream(str) that takes the str parameter being passed which will contain the numbers 2 through 9, and determine if there is a consecutive stream of digits of at least N length where N is the actual digit value.\n",
    "\n",
    "If so, program should return the string true, otherwise, program should return the string false. For example: if str is \"6539923335\" then the program should return the string true because there is a consecutive stream of 3's of length 3."
   ]
  },
  {
   "cell_type": "code",
   "execution_count": 68,
   "id": "14649404",
   "metadata": {},
   "outputs": [
    {
     "name": "stdout",
     "output_type": "stream",
     "text": [
      "{'3': '9', '4': '9', '5': '2', '6': '2', '7': '2', '8': '3', '9': '3'}\n",
      "defaultdict(<class 'int'>, {'9': 2, '2': 3, '3': 2})\n"
     ]
    },
    {
     "data": {
      "text/plain": [
       "'false'"
      ]
     },
     "execution_count": 68,
     "metadata": {},
     "output_type": "execute_result"
    }
   ],
   "source": [
    "from collections import defaultdict\n",
    "import operator\n",
    "def NumberStream(string):\n",
    "    count={}\n",
    "    for i in range(len(string)-1):\n",
    "        if string[i]==string[i+1]:\n",
    "            count[str(i)]=string[i]\n",
    "            count[str(i+1)]=string[i+1]\n",
    "    print(count)   \n",
    "    res=defaultdict(int)\n",
    "    for key, item in count.items():\n",
    "        res[item]+=1\n",
    "    print(res)\n",
    "    stream=0\n",
    "    for key, item in res.items():\n",
    "        if int(key)== item:\n",
    "            stream=key\n",
    "    \n",
    "    if int(stream)> 0:\n",
    "        return \"true\"\n",
    "    else: return \"false\"\n",
    "   \n",
    "        \n",
    "string=\"65399222335\"\n",
    "#string='334775555583444582'\n",
    "#string=\"57233999999999\"\n",
    "#string=\"5556293383563665\"\n",
    "stream=NumberStream(string)\n",
    "stream"
   ]
  },
  {
   "cell_type": "code",
   "execution_count": 71,
   "id": "7a6ea1e2",
   "metadata": {},
   "outputs": [
    {
     "name": "stdout",
     "output_type": "stream",
     "text": [
      "9\n",
      "2\n",
      "Found consecutive numbers: 2\n"
     ]
    },
    {
     "data": {
      "text/plain": [
       "'True'"
      ]
     },
     "execution_count": 71,
     "metadata": {},
     "output_type": "execute_result"
    }
   ],
   "source": [
    "test_str = \"65399222335\"\n",
    "\n",
    "def NumberStream(input_str):\n",
    "    consec_count = 1\n",
    "    for j, number in enumerate(input_str):\n",
    "        if j == 0:\n",
    "            continue\n",
    "        if number == input_str[j-1]:\n",
    "            print(number )\n",
    "            consec_count += 1\n",
    "        else:\n",
    "            consec_count = 1\n",
    "        if str(consec_count) == number:\n",
    "            print (\"Found consecutive numbers:\", number)\n",
    "            return \"True\"\n",
    "    return \"false\"\n",
    "\n",
    "NumberStream(test_str)"
   ]
  },
  {
   "cell_type": "code",
   "execution_count": 57,
   "id": "18b850d5",
   "metadata": {},
   "outputs": [
    {
     "name": "stdout",
     "output_type": "stream",
     "text": [
      "2{2}|3{3}|4{4}|5{5}|6{6}|7{7}|8{8}|9{9}\n",
      "<re.Match object; span=(6, 9), match='333'>\n"
     ]
    },
    {
     "data": {
      "text/plain": [
       "'True'"
      ]
     },
     "execution_count": 57,
     "metadata": {},
     "output_type": "execute_result"
    }
   ],
   "source": [
    "import re\n",
    "\n",
    "def number_stream(s):\n",
    "    pattern = '|'.join([f'{n}{{{n}}}' for n in range(2, 10)])\n",
    "    print(pattern)\n",
    "    print(re.search(pattern, s))\n",
    "    return str(bool(re.search(pattern, s)))\n",
    "\n",
    "\n",
    "test_str = \"6539923335\"\n",
    "number_stream(test_str)"
   ]
  },
  {
   "cell_type": "code",
   "execution_count": 62,
   "id": "ce402dbb",
   "metadata": {},
   "outputs": [
    {
     "data": {
      "text/plain": [
       "'true'"
      ]
     },
     "execution_count": 62,
     "metadata": {},
     "output_type": "execute_result"
    }
   ],
   "source": [
    "def NumberStream(string):\n",
    "    for i in range(10):\n",
    "        consec_num= str(i)*i\n",
    "        if consec_num in string:\n",
    "            return \"true\"\n",
    "        \n",
    "    return \"false\"\n",
    "\n",
    "string= \"653992335\"\n",
    "NumberStream(string)"
   ]
  }
 ],
 "metadata": {
  "kernelspec": {
   "display_name": "Python 3 (ipykernel)",
   "language": "python",
   "name": "python3"
  },
  "language_info": {
   "codemirror_mode": {
    "name": "ipython",
    "version": 3
   },
   "file_extension": ".py",
   "mimetype": "text/x-python",
   "name": "python",
   "nbconvert_exporter": "python",
   "pygments_lexer": "ipython3",
   "version": "3.9.7"
  }
 },
 "nbformat": 4,
 "nbformat_minor": 5
}
