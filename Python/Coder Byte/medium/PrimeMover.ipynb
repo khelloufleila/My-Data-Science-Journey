{
 "cells": [
  {
   "cell_type": "markdown",
   "id": "02b8f3dc",
   "metadata": {},
   "source": [
    "# Challenge\n",
    "\n",
    "Have the function PrimeMover(num) return the numth prime number. The range will be from 1 to 10^4. For example: if num is 16 the output should be 53 as 53 is the 16th prime number."
   ]
  },
  {
   "cell_type": "code",
   "execution_count": 4,
   "id": "4bedf60f",
   "metadata": {},
   "outputs": [
    {
     "name": "stdout",
     "output_type": "stream",
     "text": [
      "16\n",
      "16 is not a prime number\n",
      "1 times 16 is 16\n",
      "16 is not a prime number\n",
      "2 times 8 is 16\n",
      "16 is not a prime number\n",
      "4 times 4 is 16\n",
      "16 is not a prime number\n",
      "8 times 2 is 16\n",
      "16 is not a prime number\n",
      "16 times 1 is 16\n",
      "16 is a prime number!!\n"
     ]
    },
    {
     "data": {
      "text/plain": [
       "[(1, 16), (2, 8), (4, 4), (8, 2), (16, 1)]"
      ]
     },
     "execution_count": 4,
     "metadata": {},
     "output_type": "execute_result"
    }
   ],
   "source": [
    "def PrimeMover(num):\n",
    "    result=[]\n",
    "    if num<1 and num> 2**16:\n",
    "        return \"you should inter number between 1 and 2^16!!\"\n",
    "    else:\n",
    "        #We check if num is exactly divisible by any number from 2 to num - 1\n",
    "        for i in range(1, 10**4):\n",
    "            if num%i==0:\n",
    "                print(num, \"is not a prime number\")\n",
    "                print(i, \"times\", num//i, \"is\", num)\n",
    "                #flag=False\n",
    "                result.append((i, num//i))\n",
    "                \n",
    "        else:\n",
    "            print(num, \"is a prime number!!\")\n",
    "                \n",
    "    return result\n",
    "           \n",
    "    \n",
    "num= int(input())\n",
    "PrimeMover(num) "
   ]
  },
  {
   "cell_type": "code",
   "execution_count": null,
   "id": "9e56b50e",
   "metadata": {},
   "outputs": [
    {
     "name": "stdout",
     "output_type": "stream",
     "text": [
      "16\n"
     ]
    }
   ],
   "source": [
    "import math \n",
    "\n",
    "def PrimeTime(num):\n",
    "    # all numbers less than 1 are not primes\n",
    "    if num<1 and num> 2**16:\n",
    "        return False\n",
    "   \n",
    "    #We check if num is exactly divisible by any number from 2 to num - 1\n",
    "    for i in range(2, int(math.ceil(math.sqrt(num)))):\n",
    "        if num%i==0:\n",
    "            # check if (n mod i) is equal to 0, if so then there are\n",
    "            # two numbers, a and b, that can multiply to give n\n",
    "            return False \n",
    "    return True\n",
    "\n",
    "                \n",
    "def PrimeMover(num, start_primer=2 , result=[]):\n",
    "    if num==len(result):\n",
    "        return result[len(result)-1]\n",
    "    elif PrimeTime(start_primer):\n",
    "        tmp= start_primer\n",
    "        tmp+=1\n",
    "        PrimeMover(num, tmp, result)\n",
    "    else:\n",
    "        start_primer+=1\n",
    "        PrimeMover(num, start_primer, result)\n",
    "                \n",
    "num= int(input())\n",
    "PrimeMover(num) "
   ]
  }
 ],
 "metadata": {
  "kernelspec": {
   "display_name": "Python 3 (ipykernel)",
   "language": "python",
   "name": "python3"
  },
  "language_info": {
   "codemirror_mode": {
    "name": "ipython",
    "version": 3
   },
   "file_extension": ".py",
   "mimetype": "text/x-python",
   "name": "python",
   "nbconvert_exporter": "python",
   "pygments_lexer": "ipython3",
   "version": "3.9.7"
  }
 },
 "nbformat": 4,
 "nbformat_minor": 5
}
