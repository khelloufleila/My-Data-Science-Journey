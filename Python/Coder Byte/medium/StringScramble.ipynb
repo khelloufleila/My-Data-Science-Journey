{
 "cells": [
  {
   "cell_type": "markdown",
   "id": "3294d5df",
   "metadata": {},
   "source": [
    "# Challenge\n",
    "\n",
    "Have the function  StringScramble(str1,str2) take both parameters being passed and return string true if the permutation of str1 is egale to str2 for example str1= \"ABC\" and str2=\"BCA\" , the permutation of str1 are [\"ABC\", \"ACB\", \"BAC\" ] the function return true \n"
   ]
  },
  {
   "cell_type": "code",
   "execution_count": 7,
   "id": "a096ac6c",
   "metadata": {},
   "outputs": [
    {
     "name": "stdout",
     "output_type": "stream",
     "text": [
      "('A', 'B', 'C')\n",
      "('A', 'C', 'B')\n",
      "('B', 'A', 'C')\n"
     ]
    },
    {
     "data": {
      "text/plain": [
       "'true'"
      ]
     },
     "execution_count": 7,
     "metadata": {},
     "output_type": "execute_result"
    }
   ],
   "source": [
    "import itertools\n",
    "\n",
    "def StringScramble(str1,str2):\n",
    "\n",
    "    result = itertools.permutations([x for x in str1])\n",
    "    \n",
    "    for x in result:\n",
    "        print(x)\n",
    "        w = \"\".join(x)\n",
    "        if w == str2:\n",
    "            return \"true\"\n",
    "    return \"false\"\n",
    "\n",
    "str1= \"ABC\"\n",
    "str2=\"BAC\"\n",
    "StringScramble(str1,str2)"
   ]
  }
 ],
 "metadata": {
  "kernelspec": {
   "display_name": "Python 3 (ipykernel)",
   "language": "python",
   "name": "python3"
  },
  "language_info": {
   "codemirror_mode": {
    "name": "ipython",
    "version": 3
   },
   "file_extension": ".py",
   "mimetype": "text/x-python",
   "name": "python",
   "nbconvert_exporter": "python",
   "pygments_lexer": "ipython3",
   "version": "3.9.7"
  }
 },
 "nbformat": 4,
 "nbformat_minor": 5
}
