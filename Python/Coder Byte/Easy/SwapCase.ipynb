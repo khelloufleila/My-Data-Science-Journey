{
 "cells": [
  {
   "cell_type": "markdown",
   "id": "37daa0d6",
   "metadata": {},
   "source": [
    "# Challenge\n",
    "\n",
    "Have the function SwapCase(str) take the str parameter and swap the case of each character. For example: if str is \"Hello World\" the output should be hELLO wORLD. Let numbers and symbols stay the way they are."
   ]
  },
  {
   "cell_type": "code",
   "execution_count": 11,
   "id": "1ff700a5",
   "metadata": {},
   "outputs": [
    {
     "name": "stdout",
     "output_type": "stream",
     "text": [
      "True\n",
      "True\n"
     ]
    },
    {
     "data": {
      "text/plain": [
       "'hELLO wORLD'"
      ]
     },
     "execution_count": 11,
     "metadata": {},
     "output_type": "execute_result"
    }
   ],
   "source": [
    "def SwapCase(string):\n",
    "    newS=\"\"\n",
    "    for s in string:\n",
    "        if s.isupper():\n",
    "            newS+= s.lower()\n",
    "        else:\n",
    "            newS+= s.upper()\n",
    "    return newS\n",
    "\n",
    "string= \"Hello World\"\n",
    "strg=SwapCase(string)\n",
    "strg"
   ]
  }
 ],
 "metadata": {
  "kernelspec": {
   "display_name": "Python 3 (ipykernel)",
   "language": "python",
   "name": "python3"
  },
  "language_info": {
   "codemirror_mode": {
    "name": "ipython",
    "version": 3
   },
   "file_extension": ".py",
   "mimetype": "text/x-python",
   "name": "python",
   "nbconvert_exporter": "python",
   "pygments_lexer": "ipython3",
   "version": "3.9.7"
  }
 },
 "nbformat": 4,
 "nbformat_minor": 5
}
