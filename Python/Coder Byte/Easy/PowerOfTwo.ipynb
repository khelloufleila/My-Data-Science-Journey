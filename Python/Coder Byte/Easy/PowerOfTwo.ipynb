{
 "cells": [
  {
   "cell_type": "markdown",
   "id": "4113c6db",
   "metadata": {},
   "source": [
    "# Challenge\n",
    "\n",
    "Have the function PowersofTwo(num) take the num parameter being passed which will be an integer and return the string true if it's a power of two. If it's not return the string false. For example if the input is 16 then your program should return the string true but if the input is 22 then the output should be the string false."
   ]
  },
  {
   "cell_type": "code",
   "execution_count": 4,
   "id": "4a84dcfb",
   "metadata": {},
   "outputs": [
    {
     "data": {
      "text/plain": [
       "False"
      ]
     },
     "execution_count": 4,
     "metadata": {},
     "output_type": "execute_result"
    }
   ],
   "source": [
    "import math\n",
    "def PowerOfTwo(num):\n",
    "    log= math.log(num, 2)\n",
    "    return (log== math.floor(log))\n",
    "num=22\n",
    "PowerOfTwo(num)\n",
    "    "
   ]
  },
  {
   "cell_type": "code",
   "execution_count": 9,
   "id": "4ce2de78",
   "metadata": {},
   "outputs": [
    {
     "data": {
      "text/plain": [
       "True"
      ]
     },
     "execution_count": 9,
     "metadata": {},
     "output_type": "execute_result"
    }
   ],
   "source": [
    "def PowerOfTwo(num):\n",
    "    power=2\n",
    "    check=2**power\n",
    "    while num>=check:\n",
    "        if num==check:\n",
    "            return True\n",
    "        else:\n",
    "            power+=1\n",
    "            check=2**power\n",
    "    return False\n",
    "num=16\n",
    "PowerOfTwo(num)"
   ]
  }
 ],
 "metadata": {
  "kernelspec": {
   "display_name": "Python 3 (ipykernel)",
   "language": "python",
   "name": "python3"
  },
  "language_info": {
   "codemirror_mode": {
    "name": "ipython",
    "version": 3
   },
   "file_extension": ".py",
   "mimetype": "text/x-python",
   "name": "python",
   "nbconvert_exporter": "python",
   "pygments_lexer": "ipython3",
   "version": "3.9.7"
  }
 },
 "nbformat": 4,
 "nbformat_minor": 5
}
