{
 "cells": [
  {
   "cell_type": "markdown",
   "id": "30cf6429",
   "metadata": {},
   "source": [
    "# Challenge\n",
    "\n",
    "Using the Ruby language, have the function SimpleSymbols(str) take the str parameter being passed and determine if it is an acceptable sequence by either returning the string true or false. The str parameter will be composed of + and = symbols with several letters between them (ie. ++d+===+c++==a) and for the string to be true each letter must be surrounded by a + symbol. So the string to the left would be false. The string will not be empty and will have at least one letter.\n",
    "\n",
    "\n",
    "# Sample Test Cases\n",
    "\n",
    "Input:\"+d+=3=+s+\"\n",
    "Output:\"true\"\n",
    "\n",
    "\n",
    "Input:\"f++d+\"\n",
    "Output:\"false\""
   ]
  },
  {
   "cell_type": "code",
   "execution_count": 32,
   "id": "7fe84eb3",
   "metadata": {},
   "outputs": [
    {
     "name": "stdout",
     "output_type": "stream",
     "text": [
      "+d+=3=+s+\n",
      "True\n"
     ]
    }
   ],
   "source": [
    "def SimpleSymbols(text):\n",
    "    for i in range(len(text)-1):\n",
    "        if text[i].isalpha():\n",
    "            if text[i-1]!=\"+\" or text[i+1]!=\"+\":\n",
    "                return False\n",
    "    return True\n",
    "param= input()\n",
    "Letter= SimpleSymbols(param)\n",
    "print(Letter)"
   ]
  }
 ],
 "metadata": {
  "kernelspec": {
   "display_name": "Python 3 (ipykernel)",
   "language": "python",
   "name": "python3"
  },
  "language_info": {
   "codemirror_mode": {
    "name": "ipython",
    "version": 3
   },
   "file_extension": ".py",
   "mimetype": "text/x-python",
   "name": "python",
   "nbconvert_exporter": "python",
   "pygments_lexer": "ipython3",
   "version": "3.9.7"
  }
 },
 "nbformat": 4,
 "nbformat_minor": 5
}
