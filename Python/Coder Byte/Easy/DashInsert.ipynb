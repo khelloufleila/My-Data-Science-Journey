{
 "cells": [
  {
   "cell_type": "markdown",
   "id": "7c07bd58",
   "metadata": {},
   "source": [
    "# Challenge\n",
    "\n",
    "Have the function DashInsert(str) insert dashes ('-') between each two odd numbers in str. For example: if str is 454793 the output should be 4547-9-3. Don't count zero as an odd number."
   ]
  },
  {
   "cell_type": "code",
   "execution_count": 17,
   "id": "fe917ecf",
   "metadata": {},
   "outputs": [
    {
     "data": {
      "text/plain": [
       "'4547-9-3'"
      ]
     },
     "execution_count": 17,
     "metadata": {},
     "output_type": "execute_result"
    }
   ],
   "source": [
    "def DashInsert(string):\n",
    "    newSt=\"\"\n",
    "    for i in range(len(string)-1):\n",
    "        if int(string[i])%2!=0 and int(string[i+1])%2!=0:\n",
    "            newSt+= string[i]+ \"-\"\n",
    "        else:\n",
    "            newSt+= string[i]\n",
    "    newSt+=string[-1]\n",
    "    return newSt\n",
    "\n",
    "string=\"454793\"\n",
    "newSt= DashInsert(string)\n",
    "newSt\n",
    "            \n",
    "        "
   ]
  }
 ],
 "metadata": {
  "kernelspec": {
   "display_name": "Python 3 (ipykernel)",
   "language": "python",
   "name": "python3"
  },
  "language_info": {
   "codemirror_mode": {
    "name": "ipython",
    "version": 3
   },
   "file_extension": ".py",
   "mimetype": "text/x-python",
   "name": "python",
   "nbconvert_exporter": "python",
   "pygments_lexer": "ipython3",
   "version": "3.9.7"
  }
 },
 "nbformat": 4,
 "nbformat_minor": 5
}
