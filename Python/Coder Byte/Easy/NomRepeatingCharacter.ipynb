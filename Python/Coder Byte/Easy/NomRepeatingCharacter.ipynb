{
 "cells": [
  {
   "cell_type": "markdown",
   "id": "342ceac2",
   "metadata": {},
   "source": [
    "# Challenge\n",
    "\n",
    "Have the function NonrepeatingCharacter(str) take the str parameter being passed, which will contain only alphabetic characters and spaces, and return the first non-repeating character. For example: if str is \"agettkgaeee\" then your program should return k. The string will always contain at least one character and there will always be at least one non-repeating character."
   ]
  },
  {
   "cell_type": "code",
   "execution_count": 14,
   "id": "467b5639",
   "metadata": {},
   "outputs": [
    {
     "data": {
      "text/plain": [
       "'k'"
      ]
     },
     "execution_count": 14,
     "metadata": {},
     "output_type": "execute_result"
    }
   ],
   "source": [
    "def NonrepeatingCharacter(string):\n",
    "    repeating=\"\"\n",
    "    \n",
    "    non_repeating=\"\"\n",
    "    \n",
    "    string = [x for x in string if x != \" \"]\n",
    "    \n",
    "    for i in range(len(string)):\n",
    "        for j in range(i+1, len(string)):\n",
    "            if string[i] ==string[j] and string[i] not in repeating:\n",
    "                repeating+=str(string[j])\n",
    "                \n",
    "                \n",
    "    for s in string:\n",
    "        if s not in repeating:\n",
    "            non_repeating+=s\n",
    "            \n",
    "            \n",
    "    return non_repeating\n",
    "            \n",
    "string=\"agettkgaee e\"\n",
    "repeating= NonrepeatingCharacter(string)\n",
    "repeating      \n",
    "    "
   ]
  },
  {
   "cell_type": "code",
   "execution_count": 12,
   "id": "50ad04ef",
   "metadata": {},
   "outputs": [
    {
     "data": {
      "text/plain": [
       "'k'"
      ]
     },
     "execution_count": 12,
     "metadata": {},
     "output_type": "execute_result"
    }
   ],
   "source": [
    "def get_set_of_an_array(array):\n",
    "    result = []\n",
    "\n",
    "    for x in array:\n",
    "        if x not in result:\n",
    "            result.append(x)\n",
    "\n",
    "    return result\n",
    "\n",
    "def NonrepeatingCharacter(input):\n",
    "    no_space = [x for x in input if x != \" \"]\n",
    "    no_space_chars = get_set_of_an_array(no_space)\n",
    "\n",
    "    occurences = {}\n",
    "\n",
    "    for x in no_space:\n",
    "        if x in occurences:\n",
    "            occurences[x] += 1\n",
    "        else:\n",
    "            occurences[x] = 1\n",
    "\n",
    "    for x in no_space_chars:\n",
    "        if x in occurences and occurences[x] == 1:\n",
    "            return x\n",
    "        \n",
    "        \n",
    "string=\"agettkga eee\"\n",
    "repeating= NonrepeatingCharacter(string)\n",
    "repeating      \n",
    "    "
   ]
  }
 ],
 "metadata": {
  "kernelspec": {
   "display_name": "Python 3 (ipykernel)",
   "language": "python",
   "name": "python3"
  },
  "language_info": {
   "codemirror_mode": {
    "name": "ipython",
    "version": 3
   },
   "file_extension": ".py",
   "mimetype": "text/x-python",
   "name": "python",
   "nbconvert_exporter": "python",
   "pygments_lexer": "ipython3",
   "version": "3.9.7"
  }
 },
 "nbformat": 4,
 "nbformat_minor": 5
}
