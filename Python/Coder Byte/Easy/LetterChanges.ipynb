{
 "cells": [
  {
   "cell_type": "markdown",
   "id": "2583ca36",
   "metadata": {},
   "source": [
    "# Challenge\n",
    "\n",
    "Have the function LetterChanges(str) take the str parameter being passed and modify it using the following algorithm. Replace every letter in the string with the letter following it in the alphabet (ie. c becomes d, z becomes a). Then capitalize every vowel in this new string (a, e, i, o, u) and finally return this modified string."
   ]
  },
  {
   "cell_type": "code",
   "execution_count": 11,
   "id": "95d75361",
   "metadata": {},
   "outputs": [
    {
     "name": "stdout",
     "output_type": "stream",
     "text": [
      "capitalize\n",
      "['a', 'b', 'c', 'd', 'e', 'f', 'g', 'h', 'i', 'j', 'k', 'l', 'm', 'n', 'o', 'p', 'q', 'r', 's', 't', 'u', 'v', 'w', 'x', 'y', 'z']\n"
     ]
    },
    {
     "data": {
      "text/plain": [
       "'capitalize'"
      ]
     },
     "execution_count": 11,
     "metadata": {},
     "output_type": "execute_result"
    }
   ],
   "source": [
    "import string\n",
    "text= input()\n",
    "def LetterChanges(text):\n",
    "    \n",
    "    letterchg=[]\n",
    "    al=list(string.ascii_lowercase)\n",
    "    print(al)\n",
    "    words= [word.lower() for word in text.split(\" \")]    \n",
    "            \n",
    "    \n",
    "    return text\n",
    "alp= LetterChanges(text)\n",
    "alp"
   ]
  },
  {
   "cell_type": "code",
   "execution_count": 19,
   "id": "752b1b66",
   "metadata": {},
   "outputs": [
    {
     "name": "stdout",
     "output_type": "stream",
     "text": [
      "UIfO dbqjUbmjAf fwfsz wpxfm\n"
     ]
    }
   ],
   "source": [
    "def prgrm(n):\n",
    "    k = \"\"\n",
    "    for i in n:\n",
    "        nxt = chr(97 if i == 'z' else ord(i)+1)\n",
    "        nxt= nxt.replace('!', ' ')\n",
    "        if nxt in ('a', 'e', 'i', 'o', 'u'):\n",
    "            nxt = nxt.capitalize()\n",
    "        k += nxt\n",
    "    print(k)\n",
    "\n",
    "prgrm('Then capitalize every vowel')"
   ]
  },
  {
   "cell_type": "code",
   "execution_count": 22,
   "id": "d01bd482",
   "metadata": {},
   "outputs": [
    {
     "name": "stdout",
     "output_type": "stream",
     "text": [
      "tfO1UEA UIfO dbqjUbmjAf fwfsz wpxfm\n"
     ]
    }
   ],
   "source": [
    "def LetterChanges(str):\n",
    "    vowels = \"aeiou\"\n",
    "    lowers = \"abcdefghijklmnopqrstuvwxyza\"\n",
    "    all = lowers.upper() + lowers\n",
    "    # Map all alphabetical characters\n",
    "    nxt_str = \"\".join(map(lambda x: all[all.index(x) + 1] if x in all else x, str))\n",
    "    # Map the vowels\n",
    "    return \"\".join(map(lambda x: x.upper() if x in vowels else x, nxt_str))\n",
    "\n",
    "print(LetterChanges(\"sen1tdZ Then capitalize every vowel\"))\n"
   ]
  }
 ],
 "metadata": {
  "kernelspec": {
   "display_name": "Python 3 (ipykernel)",
   "language": "python",
   "name": "python3"
  },
  "language_info": {
   "codemirror_mode": {
    "name": "ipython",
    "version": 3
   },
   "file_extension": ".py",
   "mimetype": "text/x-python",
   "name": "python",
   "nbconvert_exporter": "python",
   "pygments_lexer": "ipython3",
   "version": "3.9.7"
  }
 },
 "nbformat": 4,
 "nbformat_minor": 5
}
