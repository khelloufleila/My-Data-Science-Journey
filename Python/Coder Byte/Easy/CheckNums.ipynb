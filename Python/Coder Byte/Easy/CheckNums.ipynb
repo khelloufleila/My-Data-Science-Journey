{
 "cells": [
  {
   "cell_type": "markdown",
   "id": "f3d1ab41",
   "metadata": {},
   "source": [
    "# Challenge\n",
    "Using Python language, have the function CheckNums(num1,num2) take both parameters being passed and return the string true if num2 is greater than num1, otherwise return the string false. If the parameter values are equal to each other then return the string -1.\n",
    "\n",
    "\n",
    "# Sample Test Cases\n",
    "Input:3 & num2 = 122\n",
    "Output:\"true\"\n",
    "\n",
    "\n",
    "Input:67 & num2 = 67\n",
    "Output:\"-1\""
   ]
  },
  {
   "cell_type": "code",
   "execution_count": 2,
   "id": "fa6e7d8f",
   "metadata": {},
   "outputs": [
    {
     "name": "stdout",
     "output_type": "stream",
     "text": [
      "67\n",
      "67\n"
     ]
    },
    {
     "data": {
      "text/plain": [
       "'-1'"
      ]
     },
     "execution_count": 2,
     "metadata": {},
     "output_type": "execute_result"
    }
   ],
   "source": [
    "def CheckNums(num1, num2):\n",
    "    if num1< int(num2):\n",
    "        return True\n",
    "    elif num1> int(num2):\n",
    "        return False \n",
    "    else: \n",
    "        return \"-1\"\n",
    "num1= int(input())\n",
    "num2= input()\n",
    "CheckNums(num1, num2)"
   ]
  }
 ],
 "metadata": {
  "kernelspec": {
   "display_name": "Python 3 (ipykernel)",
   "language": "python",
   "name": "python3"
  },
  "language_info": {
   "codemirror_mode": {
    "name": "ipython",
    "version": 3
   },
   "file_extension": ".py",
   "mimetype": "text/x-python",
   "name": "python",
   "nbconvert_exporter": "python",
   "pygments_lexer": "ipython3",
   "version": "3.9.7"
  }
 },
 "nbformat": 4,
 "nbformat_minor": 5
}
