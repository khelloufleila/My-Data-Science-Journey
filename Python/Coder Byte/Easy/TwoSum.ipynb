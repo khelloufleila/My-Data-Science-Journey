{
 "cells": [
  {
   "cell_type": "markdown",
   "id": "986e6b64",
   "metadata": {},
   "source": [
    "# Challenge\n",
    "\n",
    "Have the function TwoSum(arr) take the array of integers stored in arr, and determine if any two numbers (excluding the first element) in the array can sum up to the first element in the array. For example: if arr is [7, 3, 5, 2, -4, 8, 11], then there are actually two pairs that sum to the number 7: [5, 2] and [-4, 11]. Your program should return all pairs, with the numbers separated by a comma, in the order the first number appears in the array. Pairs should be separated by a space. So for the example above, your program would return: 5,2 -4,11\n",
    "\n",
    "If there are no two numbers that sum to the first element in the array, return -1"
   ]
  },
  {
   "cell_type": "code",
   "execution_count": 26,
   "id": "70a33bf6",
   "metadata": {},
   "outputs": [
    {
     "data": {
      "text/plain": [
       "'6,11 10,7 15,2'"
      ]
     },
     "execution_count": 26,
     "metadata": {},
     "output_type": "execute_result"
    }
   ],
   "source": [
    "import re \n",
    "\n",
    "\n",
    "def TwoSum(arr):\n",
    "    result=[]\n",
    "    first_ele= arr[0]\n",
    "    arr.remove(first_ele)\n",
    "    for i in range(len(arr)):\n",
    "        for j in range(i,len(arr)):\n",
    "            if arr[i]+arr[j]==first_ele:\n",
    "                result.append([arr[i], arr[j]])\n",
    "    if len(result)==0:\n",
    "        return -1\n",
    "    tuples_in_string=[]\n",
    "    for each_tuple in result:\n",
    "        first_el=str(each_tuple[0])\n",
    "        second_el=str(each_tuple[1])\n",
    "        tuples_in_string.append(\",\".join([first_el, second_el]))\n",
    "             \n",
    "    return \" \".join(tuples_in_string)\n",
    "\n",
    "#arr=[7, 6, 4, 1, 7, -2, 3, 12]\n",
    "arr= [17, 4, 5, 6, 10, 11, 4, -3, -5, 3, 15, 2, 7]\n",
    "arr= TwoSum(arr)\n",
    "arr"
   ]
  },
  {
   "cell_type": "code",
   "execution_count": 29,
   "id": "82c6e612",
   "metadata": {},
   "outputs": [
    {
     "data": {
      "text/plain": [
       "'6,11 10,7 15,2'"
      ]
     },
     "execution_count": 29,
     "metadata": {},
     "output_type": "execute_result"
    }
   ],
   "source": [
    "import itertools\n",
    "\n",
    "def TwoSum(arr):\n",
    "    permutations_of_2= list(itertools.combinations(arr[1:], 2))\n",
    "    target_number=arr[0]\n",
    "    \n",
    "    pairs=[]\n",
    "    for permutation in permutations_of_2:\n",
    "        if sum(permutation)==target_number:\n",
    "            pairs.append(permutation)\n",
    "            \n",
    "            \n",
    "            \n",
    "    if len(pairs)==0:\n",
    "        return -1\n",
    "    \n",
    "    tuples_in_string=[]\n",
    "    for each_tuple in pairs:\n",
    "        first_el= str(each_tuple[0])\n",
    "        second_el=str(each_tuple[1])\n",
    "        tuples_in_string.append(\",\".join([first_el, second_el]))\n",
    "        \n",
    "        \n",
    "    return \" \".join(tuples_in_string)\n",
    "\n",
    "arr= [17, 4, 5, 6, 10, 11, 4, -3, -5, 3, 15, 2, 7]\n",
    "arr= TwoSum(arr)\n",
    "arr"
   ]
  }
 ],
 "metadata": {
  "kernelspec": {
   "display_name": "Python 3 (ipykernel)",
   "language": "python",
   "name": "python3"
  },
  "language_info": {
   "codemirror_mode": {
    "name": "ipython",
    "version": 3
   },
   "file_extension": ".py",
   "mimetype": "text/x-python",
   "name": "python",
   "nbconvert_exporter": "python",
   "pygments_lexer": "ipython3",
   "version": "3.9.7"
  }
 },
 "nbformat": 4,
 "nbformat_minor": 5
}
