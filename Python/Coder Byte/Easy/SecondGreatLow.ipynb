{
 "cells": [
  {
   "cell_type": "markdown",
   "id": "d03a8cc3",
   "metadata": {},
   "source": [
    "# Challenge\n",
    "\n",
    "Have the function SecondGreatLow(arr) take the array of numbers stored in arr and return the second lowest and second greatest numbers, respectively, separated by a space. For example: if arr contains [7, 7, 12, 98, 106] the output should be 12 98. The array will not be empty and will contain at least 2 numbers. It can get tricky if there's just two numbers!"
   ]
  },
  {
   "cell_type": "code",
   "execution_count": 12,
   "id": "5df5a4bf",
   "metadata": {},
   "outputs": [
    {
     "name": "stdout",
     "output_type": "stream",
     "text": [
      "12 98\n"
     ]
    }
   ],
   "source": [
    "def SecondGreatLow(arr):\n",
    "    lwd=[]\n",
    "    for i in arr:\n",
    "        if i not in lwd:\n",
    "            lwd.append(i)\n",
    "    lwd.sort()\n",
    "    if len(lwd)==1:\n",
    "        return lwd[0], lwd[0]\n",
    "    elif len(lwd)==2:\n",
    "        return lwd[0], lwd[1]\n",
    "    else:\n",
    "        return lwd[1], lwd[-2]\n",
    "\n",
    "arr= [7, 7, 12, 98, 106]\n",
    "first, second= SecondGreatLow(arr)\n",
    "print(first, second)"
   ]
  }
 ],
 "metadata": {
  "kernelspec": {
   "display_name": "Python 3 (ipykernel)",
   "language": "python",
   "name": "python3"
  },
  "language_info": {
   "codemirror_mode": {
    "name": "ipython",
    "version": 3
   },
   "file_extension": ".py",
   "mimetype": "text/x-python",
   "name": "python",
   "nbconvert_exporter": "python",
   "pygments_lexer": "ipython3",
   "version": "3.9.7"
  }
 },
 "nbformat": 4,
 "nbformat_minor": 5
}
