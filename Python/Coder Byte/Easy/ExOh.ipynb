{
 "cells": [
  {
   "cell_type": "markdown",
   "id": "cb7024b6",
   "metadata": {},
   "source": [
    "# Challenge\n",
    "\n",
    "Using the PYTHON language, have the function ExOh(str) take the str parameter being passed and return the string true if there is an equal number of x's and o's, otherwise return the string false. Only these two letters will be entered in the string, no punctuation or numbers. For example: if str is \"xooxxxxooxo\" then the output should return false because there are 6 x's and 5 o's.\n",
    "\n",
    "# Sample Test Cases\n",
    "- Input:\"xooxxo\"\n",
    "- Output:\"true\"\n",
    "\n",
    "- Input:\"x\"\n",
    "- Output:\"false\""
   ]
  },
  {
   "cell_type": "code",
   "execution_count": 6,
   "id": "2e0f58a5",
   "metadata": {},
   "outputs": [
    {
     "name": "stdout",
     "output_type": "stream",
     "text": [
      "xooxxxxooxo\n",
      "false\n"
     ]
    }
   ],
   "source": [
    "def ExOh(string):\n",
    "    count_x=0\n",
    "    count_o=0\n",
    "    output=\"\"\n",
    "    for i in string:\n",
    "        if i==\"x\":\n",
    "            count_x+=1\n",
    "        else:\n",
    "            count_o+=1\n",
    "    if count_x==count_o:\n",
    "        output=\"true\"\n",
    "    else:\n",
    "        output=\"false\"\n",
    "    return output\n",
    "string= input()\n",
    "output= ExOh(string)\n",
    "print(output)"
   ]
  },
  {
   "cell_type": "code",
   "execution_count": 8,
   "id": "e4e56f56",
   "metadata": {},
   "outputs": [
    {
     "name": "stdout",
     "output_type": "stream",
     "text": [
      "xooxxxxooxo\n",
      "False\n"
     ]
    }
   ],
   "source": [
    "def ExOh(string):\n",
    "    return string.count('x')==string.count(\"o\")\n",
    "string= input()\n",
    "output= ExOh(string)\n",
    "print(output)"
   ]
  }
 ],
 "metadata": {
  "kernelspec": {
   "display_name": "Python 3 (ipykernel)",
   "language": "python",
   "name": "python3"
  },
  "language_info": {
   "codemirror_mode": {
    "name": "ipython",
    "version": 3
   },
   "file_extension": ".py",
   "mimetype": "text/x-python",
   "name": "python",
   "nbconvert_exporter": "python",
   "pygments_lexer": "ipython3",
   "version": "3.9.7"
  }
 },
 "nbformat": 4,
 "nbformat_minor": 5
}
