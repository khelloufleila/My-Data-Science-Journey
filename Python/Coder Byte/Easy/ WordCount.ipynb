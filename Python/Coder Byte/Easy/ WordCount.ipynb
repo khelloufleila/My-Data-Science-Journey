{
 "cells": [
  {
   "cell_type": "markdown",
   "id": "570d2cf6",
   "metadata": {},
   "source": [
    "# Challenge\n",
    "\n",
    "Using the PYTHON language, have the function WordCount(str) take the str string parameter being passed and return the number of words the string contains (e.g. \"Never eat shredded wheat or cake\" would return 6). Words will be separated by single spaces.\n",
    "\n",
    "# Sample Test Cases\n",
    "- Input:\"Hello World\"\n",
    "- Output:2\n",
    "\n",
    "\n",
    "- Input:\"one 22 three\"\n",
    "- Output:3"
   ]
  },
  {
   "cell_type": "code",
   "execution_count": 4,
   "id": "1fbf5b7d",
   "metadata": {},
   "outputs": [
    {
     "name": "stdout",
     "output_type": "stream",
     "text": [
      "Never eat shredded wheat or cake\n",
      "6\n"
     ]
    }
   ],
   "source": [
    "def WordCount(text):\n",
    "    words=[word for word in text.split(\" \")]\n",
    "    count= len(words)\n",
    "    return count\n",
    "text= input()\n",
    "count= WordCount(text)\n",
    "print(count)"
   ]
  },
  {
   "cell_type": "code",
   "execution_count": 5,
   "id": "6aede66b",
   "metadata": {},
   "outputs": [
    {
     "name": "stdout",
     "output_type": "stream",
     "text": [
      "Never eat shredded wheat or cake\n",
      "6\n"
     ]
    }
   ],
   "source": [
    "def WordCount(text):\n",
    "    return len(text.split(\" \"))\n",
    "text= input()\n",
    "count= WordCount(text)\n",
    "print(count)"
   ]
  }
 ],
 "metadata": {
  "kernelspec": {
   "display_name": "Python 3 (ipykernel)",
   "language": "python",
   "name": "python3"
  },
  "language_info": {
   "codemirror_mode": {
    "name": "ipython",
    "version": 3
   },
   "file_extension": ".py",
   "mimetype": "text/x-python",
   "name": "python",
   "nbconvert_exporter": "python",
   "pygments_lexer": "ipython3",
   "version": "3.9.7"
  }
 },
 "nbformat": 4,
 "nbformat_minor": 5
}
