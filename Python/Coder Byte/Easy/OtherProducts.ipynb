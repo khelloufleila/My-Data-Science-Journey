{
 "cells": [
  {
   "cell_type": "markdown",
   "id": "43fd5526",
   "metadata": {},
   "source": [
    "# Challenge\n",
    "Have the function OtherProducts(arr) take the array of numbers stored in arr and return a new list of the products of all the other numbers in the array for each element. For example: if arr is [1, 2, 3, 4, 5] then the new array, where each location in the new array is the product of all other elements, is [120, 60, 40, 30, 24]. The following calculations were performed to get this answer: [(2345), (1345), (1245), (1235), (123*4)]. You should generate this new array and then return the numbers as a string joined by a hyphen: 120-60-40-30-24. The array will contain at most 10 elements and at least 1 element of only positive integers."
   ]
  },
  {
   "cell_type": "code",
   "execution_count": 36,
   "id": "77f58df9",
   "metadata": {},
   "outputs": [
    {
     "data": {
      "text/plain": [
       "'120-60-40-30-24'"
      ]
     },
     "execution_count": 36,
     "metadata": {},
     "output_type": "execute_result"
    }
   ],
   "source": [
    "import operator\n",
    "\n",
    "def OtherProducts(arr):\n",
    "    newArr=[]\n",
    "    for i in range(len(arr)):\n",
    "        pd=1\n",
    "        t=arr[i]\n",
    "        arr[i]=1\n",
    "        for x in arr:\n",
    "            pd*=x\n",
    "       # pd=reduce(operator.mul, arr)\n",
    "        newArr.append(str(pd))\n",
    "        arr[i]=t\n",
    "        \n",
    "    return \"-\".join(newArr)\n",
    "arr=[1, 2, 3, 4, 5] \n",
    "newArr= OtherProducts(arr)  \n",
    "newArr"
   ]
  },
  {
   "cell_type": "code",
   "execution_count": 38,
   "id": "775c4293",
   "metadata": {},
   "outputs": [
    {
     "data": {
      "text/plain": [
       "'120-60-40-30-24'"
      ]
     },
     "execution_count": 38,
     "metadata": {},
     "output_type": "execute_result"
    }
   ],
   "source": [
    "def OtherProducts(arr): \n",
    "    result = []\n",
    "    for i in range(0, len(arr)):\n",
    "        product = 1\n",
    "        for j in range(0, len(arr)):\n",
    "            if j == i:\n",
    "                pass\n",
    "            else:\n",
    "                product *= arr[j]\n",
    "        result.append(str(product))\n",
    "    return \"-\".join(result)\n",
    "\n",
    "arr=[1, 2, 3, 4, 5] \n",
    "newArr= OtherProducts(arr)  \n",
    "newArr"
   ]
  }
 ],
 "metadata": {
  "kernelspec": {
   "display_name": "Python 3 (ipykernel)",
   "language": "python",
   "name": "python3"
  },
  "language_info": {
   "codemirror_mode": {
    "name": "ipython",
    "version": 3
   },
   "file_extension": ".py",
   "mimetype": "text/x-python",
   "name": "python",
   "nbconvert_exporter": "python",
   "pygments_lexer": "ipython3",
   "version": "3.9.7"
  }
 },
 "nbformat": 4,
 "nbformat_minor": 5
}
