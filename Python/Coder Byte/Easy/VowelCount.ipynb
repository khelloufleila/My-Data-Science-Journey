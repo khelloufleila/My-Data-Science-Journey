{
 "cells": [
  {
   "cell_type": "markdown",
   "id": "f478bf39",
   "metadata": {},
   "source": [
    "# Challenge\n",
    "\n",
    "Using the PYTHON language, have the function VowelCount(str) take the str string parameter being passed and return the number of vowels the string contains (ie. \"All cows eat grass and moo\" would return 8). Do not count y as a vowel for this challenge.\n",
    "\n",
    "# Sample Test Cases\n",
    "- Input:\"hello\"\n",
    "- Output:2\n",
    "\n",
    "\n",
    "- Input:\"coderbyte\"\n",
    "- Output:3"
   ]
  },
  {
   "cell_type": "code",
   "execution_count": 4,
   "id": "a710d9be",
   "metadata": {},
   "outputs": [
    {
     "name": "stdout",
     "output_type": "stream",
     "text": [
      "All cows eat grass and moo\n",
      "8\n"
     ]
    }
   ],
   "source": [
    "def VowelCount(text):\n",
    "    count=0\n",
    "    vowel=\"aeiouAEUIO\"\n",
    "    for i in range(len(text)):\n",
    "        if text[i] in vowel:\n",
    "            count+=1\n",
    "    return count\n",
    "text= input()\n",
    "count= VowelCount(text)\n",
    "print(count)"
   ]
  }
 ],
 "metadata": {
  "kernelspec": {
   "display_name": "Python 3 (ipykernel)",
   "language": "python",
   "name": "python3"
  },
  "language_info": {
   "codemirror_mode": {
    "name": "ipython",
    "version": 3
   },
   "file_extension": ".py",
   "mimetype": "text/x-python",
   "name": "python",
   "nbconvert_exporter": "python",
   "pygments_lexer": "ipython3",
   "version": "3.9.7"
  }
 },
 "nbformat": 4,
 "nbformat_minor": 5
}
