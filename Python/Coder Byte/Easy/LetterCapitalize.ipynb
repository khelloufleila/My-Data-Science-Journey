{
 "cells": [
  {
   "cell_type": "markdown",
   "id": "72668ee5",
   "metadata": {},
   "source": [
    "# Challenge\n",
    "\n",
    "Have the function LetterCapitalize(str) take the str parameter being passed and capitalize the first letter of each word. Words will be separated by only one space."
   ]
  },
  {
   "cell_type": "code",
   "execution_count": 5,
   "id": "2e57b5b3",
   "metadata": {},
   "outputs": [
    {
     "name": "stdout",
     "output_type": "stream",
     "text": [
      "will be separated by only one spac\n",
      "Will Be Separated By Only One Spac\n"
     ]
    }
   ],
   "source": [
    "def LettreCapitalize():\n",
    "    text= [ word.capitalize() for word in input().split(\" \")]\n",
    "    return \" \".join(text)\n",
    "capita= LettreCapitalize()\n",
    "print(capita)"
   ]
  }
 ],
 "metadata": {
  "kernelspec": {
   "display_name": "Python 3 (ipykernel)",
   "language": "python",
   "name": "python3"
  },
  "language_info": {
   "codemirror_mode": {
    "name": "ipython",
    "version": 3
   },
   "file_extension": ".py",
   "mimetype": "text/x-python",
   "name": "python",
   "nbconvert_exporter": "python",
   "pygments_lexer": "ipython3",
   "version": "3.9.7"
  }
 },
 "nbformat": 4,
 "nbformat_minor": 5
}
