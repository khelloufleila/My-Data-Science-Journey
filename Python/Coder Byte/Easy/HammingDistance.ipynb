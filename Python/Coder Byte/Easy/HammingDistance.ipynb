{
 "cells": [
  {
   "cell_type": "markdown",
   "id": "f0f2e9fc",
   "metadata": {},
   "source": [
    "# Challenge\n",
    "\n",
    "Have the function HammingDistance(strArr) take the array of strings stored in strArr, which will only contain two strings of equal length and return the Hamming distance between them. The Hamming distance is the number of positions where the corresponding characters are different. For example: if strArr is [\"coder\", \"codec\"] then your program should return 1. The string will always be of equal length and will only contain lowercase characters from the alphabet and numbers."
   ]
  },
  {
   "cell_type": "code",
   "execution_count": 4,
   "id": "a28c7e00",
   "metadata": {},
   "outputs": [
    {
     "name": "stdout",
     "output_type": "stream",
     "text": [
      "1\n"
     ]
    }
   ],
   "source": [
    "def HammingDistance(strArr):\n",
    "    string1= strArr[0]\n",
    "    string2=strArr[1]\n",
    "    hamming=0\n",
    "    for i in range(len(string1)):\n",
    "        if string1[i]!=string2[i]:\n",
    "            hamming+=1\n",
    "\n",
    "    return hamming\n",
    "strArr=[\"coder\", \"codec\"]\n",
    "hammingdistance=HammingDistance(strArr)\n",
    "print(hammingdistance)\n",
    "        "
   ]
  },
  {
   "cell_type": "code",
   "execution_count": 7,
   "id": "d100cf21",
   "metadata": {},
   "outputs": [
    {
     "name": "stdout",
     "output_type": "stream",
     "text": [
      "1\n"
     ]
    }
   ],
   "source": [
    "def HammingDistance(strArr): \n",
    "    counter = 0\n",
    "    for i in range(0, len(strArr[0])):\n",
    "        if strArr[0][i] != strArr[1][i]:\n",
    "            counter += 1\n",
    "    return counter\n",
    "\n",
    "strArr=[\"coder\", \"codec\"]\n",
    "hammingdistance=HammingDistance(strArr)\n",
    "print(hammingdistance)"
   ]
  }
 ],
 "metadata": {
  "kernelspec": {
   "display_name": "Python 3 (ipykernel)",
   "language": "python",
   "name": "python3"
  },
  "language_info": {
   "codemirror_mode": {
    "name": "ipython",
    "version": 3
   },
   "file_extension": ".py",
   "mimetype": "text/x-python",
   "name": "python",
   "nbconvert_exporter": "python",
   "pygments_lexer": "ipython3",
   "version": "3.9.7"
  }
 },
 "nbformat": 4,
 "nbformat_minor": 5
}
