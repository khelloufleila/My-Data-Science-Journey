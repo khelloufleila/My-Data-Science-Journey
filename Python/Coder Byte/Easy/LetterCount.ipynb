{
 "cells": [
  {
   "cell_type": "markdown",
   "id": "0ed2374c",
   "metadata": {},
   "source": [
    "# Challenge\n",
    "\n",
    "Have the function LetterCountI(str) take the str parameter being passed and return the first word with the greatest number of repeated letters. For example: \"Today, is the greatest day ever!\" should return greatest because it has 2 e's (and 2 t's) and it comes before ever which also has 2 e's. If there are no words with repeating letters return -1. Words will be separated by spaces.\n",
    "\n",
    "# Sample Test Cases\n",
    "- Input:\"Hello apple pie\"\n",
    "- Output:\"Hello\"\n",
    "\n",
    "- Input:\"No words\"\n",
    "- Output:-1"
   ]
  },
  {
   "cell_type": "code",
   "execution_count": 36,
   "id": "09762753",
   "metadata": {},
   "outputs": [
    {
     "name": "stdout",
     "output_type": "stream",
     "text": [
      "Today, is the greatest day ever!\n"
     ]
    },
    {
     "data": {
      "text/plain": [
       "'greatest'"
      ]
     },
     "execution_count": 36,
     "metadata": {},
     "output_type": "execute_result"
    }
   ],
   "source": [
    "def LetterCount(text):\n",
    "    char_result={}\n",
    "    words= [word for word in text.split(\" \")]\n",
    "    for word in text.split(\" \"):\n",
    "        char_freq={}\n",
    "        for i in word:\n",
    "            if i in char_freq:\n",
    "                char_freq[i]=char_freq[i]+1\n",
    "            else:\n",
    "                char_freq[i]=1\n",
    "        result= max(char_freq, key= char_freq.get)\n",
    "        t=  max(char_freq.values())\n",
    "        char_result[word]= t\n",
    "    fin_max= max(char_result, key=char_result.get)\n",
    "    max_value= max(char_result.values())\n",
    "    if max_value==1:\n",
    "        return -1\n",
    "    else: \n",
    "        return fin_max\n",
    "        \n",
    "text= input()\n",
    "LetterCount(text)"
   ]
  },
  {
   "cell_type": "code",
   "execution_count": 41,
   "id": "a256e1de",
   "metadata": {},
   "outputs": [
    {
     "name": "stdout",
     "output_type": "stream",
     "text": [
      "Today, is the greatest day ever!\n",
      "1 Today,\n",
      "2 greatest\n",
      "greatest\n"
     ]
    }
   ],
   "source": [
    "def LetterCount(text):\n",
    "    top, top_w= 0, \"\"\n",
    "    words=text.split(\" \")\n",
    "    for word in words:\n",
    "        for chars in word:\n",
    "            x= word.count(chars)\n",
    "            if x>top:\n",
    "                top= x \n",
    "                top_w=word \n",
    "                print(top, top_w)\n",
    "                \n",
    "    return top_w if top>1 else -1\n",
    "\n",
    "text= input()\n",
    "word= LetterCount(text)\n",
    "print(word)"
   ]
  }
 ],
 "metadata": {
  "kernelspec": {
   "display_name": "Python 3 (ipykernel)",
   "language": "python",
   "name": "python3"
  },
  "language_info": {
   "codemirror_mode": {
    "name": "ipython",
    "version": 3
   },
   "file_extension": ".py",
   "mimetype": "text/x-python",
   "name": "python",
   "nbconvert_exporter": "python",
   "pygments_lexer": "ipython3",
   "version": "3.9.7"
  }
 },
 "nbformat": 4,
 "nbformat_minor": 5
}
