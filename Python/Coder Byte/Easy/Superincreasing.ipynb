{
 "cells": [
  {
   "cell_type": "markdown",
   "id": "64a9ff51",
   "metadata": {},
   "source": [
    "# Challenge\n",
    "\n",
    "Have the function Superincreasing(arr) take the array of numbers stored in arr and determine if the array forms a superincreasing sequence where each element in the array is greater than the sum of all previous elements. The array will only consist of positive integers. For example: if arr is [1, 3, 6, 13, 54] then your program should return the string \"true\" because it forms a superincreasing sequence. If a superincreasing sequence isn't formed, then your program should return the string \"false\""
   ]
  },
  {
   "cell_type": "code",
   "execution_count": 37,
   "id": "3b25d7e0",
   "metadata": {},
   "outputs": [
    {
     "name": "stdout",
     "output_type": "stream",
     "text": [
      "54 [1, 3, 6, 15]\n",
      "15 [1, 3, 6]\n",
      "6 [1, 3]\n",
      "3 [1]\n"
     ]
    },
    {
     "data": {
      "text/plain": [
       "True"
      ]
     },
     "execution_count": 37,
     "metadata": {},
     "output_type": "execute_result"
    }
   ],
   "source": [
    "def increasing(arr):\n",
    "    last=arr[-1]\n",
    "    arr.remove(last)\n",
    "    som= sum(arr[0:len(arr)])\n",
    "    print(last, arr)\n",
    "    if last>=som:\n",
    "        return arr\n",
    "    else:\n",
    "        return \"False\"\n",
    "\n",
    "def  Superincreasing(arr):\n",
    "    arr= increasing(arr)\n",
    "    if arr!=\"False\" and len(arr)>=2:\n",
    "        Superincreasing(arr)\n",
    "        return True\n",
    "    else:\n",
    "        return False\n",
    " \n",
    "        \n",
    "        \n",
    "\n",
    "arr=[1, 3, 6, 15, 54]\n",
    "Superincreasing(arr)"
   ]
  },
  {
   "cell_type": "code",
   "execution_count": 25,
   "id": "3b66900d",
   "metadata": {},
   "outputs": [
    {
     "name": "stdout",
     "output_type": "stream",
     "text": [
      "1 3\n",
      "4 6\n",
      "10 13\n",
      "23 54\n"
     ]
    },
    {
     "data": {
      "text/plain": [
       "'true'"
      ]
     },
     "execution_count": 25,
     "metadata": {},
     "output_type": "execute_result"
    }
   ],
   "source": [
    "def Superincreasing(arr):\n",
    "    for x in range(0, len(arr)-1):\n",
    "        s = sum(arr[0:x+1])\n",
    "        print(s, arr[x+1])\n",
    "        if arr[x+1] <= s:\n",
    "            return \"false\"\n",
    "    return \"true\"\n",
    "arr=[1, 3, 6, 13, 54]\n",
    "Superincreasing(arr)"
   ]
  }
 ],
 "metadata": {
  "kernelspec": {
   "display_name": "Python 3 (ipykernel)",
   "language": "python",
   "name": "python3"
  },
  "language_info": {
   "codemirror_mode": {
    "name": "ipython",
    "version": 3
   },
   "file_extension": ".py",
   "mimetype": "text/x-python",
   "name": "python",
   "nbconvert_exporter": "python",
   "pygments_lexer": "ipython3",
   "version": "3.9.7"
  }
 },
 "nbformat": 4,
 "nbformat_minor": 5
}
