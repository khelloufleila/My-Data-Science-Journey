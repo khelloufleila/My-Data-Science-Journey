{
 "cells": [
  {
   "cell_type": "markdown",
   "id": "c3e3b042",
   "metadata": {},
   "source": [
    "# Challenge\n",
    "\n",
    "Have the function LargestPair(num) take the num parameter being passed and determine the largest double digit number within the whole number. For example: if num is 4759472 then your program should return 94 because that is the largest double digit number. The input will always contain at least two positive digits."
   ]
  },
  {
   "cell_type": "code",
   "execution_count": 17,
   "id": "f6ec387e",
   "metadata": {},
   "outputs": [
    {
     "data": {
      "text/plain": [
       "99"
      ]
     },
     "execution_count": 17,
     "metadata": {},
     "output_type": "execute_result"
    }
   ],
   "source": [
    "def LargestPair(num):\n",
    "    strnum=str(num)\n",
    "    max=0\n",
    "    for i in range(len(strnum)-1):\n",
    "        string= strnum[i:i+2]\n",
    "        val= int(string)\n",
    "        if max< val:\n",
    "            max= val\n",
    "                \n",
    "    return max\n",
    "        \n",
    "        \n",
    "num=4759499 \n",
    "LargestPair(num)"
   ]
  },
  {
   "cell_type": "code",
   "execution_count": 14,
   "id": "7d25e7a0",
   "metadata": {},
   "outputs": [
    {
     "data": {
      "text/plain": [
       "99"
      ]
     },
     "execution_count": 14,
     "metadata": {},
     "output_type": "execute_result"
    }
   ],
   "source": [
    "def LargestPair(num):\n",
    "    str_num=str(num)\n",
    "    biggest= int(str_num[:2])\n",
    "    \n",
    "    l= len(str_num)\n",
    "    for i in range(1, l-1):\n",
    "        number=int( str_num[i:i+2])\n",
    "        if number > biggest:\n",
    "            biggest=number\n",
    "    return biggest\n",
    "        \n",
    "        \n",
    "num=4759499 \n",
    "LargestPair(num)"
   ]
  }
 ],
 "metadata": {
  "kernelspec": {
   "display_name": "Python 3 (ipykernel)",
   "language": "python",
   "name": "python3"
  },
  "language_info": {
   "codemirror_mode": {
    "name": "ipython",
    "version": 3
   },
   "file_extension": ".py",
   "mimetype": "text/x-python",
   "name": "python",
   "nbconvert_exporter": "python",
   "pygments_lexer": "ipython3",
   "version": "3.9.7"
  }
 },
 "nbformat": 4,
 "nbformat_minor": 5
}
