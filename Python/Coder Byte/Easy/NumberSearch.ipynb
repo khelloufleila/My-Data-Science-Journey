{
 "cells": [
  {
   "cell_type": "markdown",
   "id": "9d11a9dd",
   "metadata": {},
   "source": [
    "# Challenge\n",
    "\n",
    "Have the function NumberSearch(str) take the str parameter, search for all the numbers in the string, add them together, then return that final number. For example: if str is \"88Hello 3World!\" the output should be 91. You will have to differentiate between single digit numbers and multiple digit numbers like in the example above. So \"55Hello\" and \"5Hello 5\" should return two different answers. Each string will contain at least one letter or symbol."
   ]
  },
  {
   "cell_type": "code",
   "execution_count": 14,
   "id": "e1c03bc5",
   "metadata": {},
   "outputs": [
    {
     "name": "stdout",
     "output_type": "stream",
     "text": [
      "10\n"
     ]
    }
   ],
   "source": [
    "def NumberSearch(text):\n",
    "    s=0\n",
    "    for word in text.split(\" \"): \n",
    "        c=\"\"\n",
    "        for w in word:\n",
    "            if w.isdigit():\n",
    "                c+=w\n",
    "        s+=int(c)\n",
    "    return s\n",
    "text=\"5Hello 5\"\n",
    "summ= NumberSearch(text)\n",
    "print(summ)"
   ]
  }
 ],
 "metadata": {
  "kernelspec": {
   "display_name": "Python 3 (ipykernel)",
   "language": "python",
   "name": "python3"
  },
  "language_info": {
   "codemirror_mode": {
    "name": "ipython",
    "version": 3
   },
   "file_extension": ".py",
   "mimetype": "text/x-python",
   "name": "python",
   "nbconvert_exporter": "python",
   "pygments_lexer": "ipython3",
   "version": "3.9.7"
  }
 },
 "nbformat": 4,
 "nbformat_minor": 5
}
