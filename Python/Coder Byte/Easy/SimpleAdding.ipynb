{
 "cells": [
  {
   "cell_type": "markdown",
   "id": "601a3066",
   "metadata": {},
   "source": [
    "# Challenge\n",
    "\n",
    "Have the function SimpleAdding(num) add up all the numbers from 1 to num. For example: if the input is 4 then your program should return 10 because 1 + 2 + 3 + 4 = 10. For the test cases, the parameter num will be any number from 1 to 1000."
   ]
  },
  {
   "cell_type": "code",
   "execution_count": 10,
   "id": "fd9cf4b1",
   "metadata": {},
   "outputs": [
    {
     "name": "stdout",
     "output_type": "stream",
     "text": [
      "4\n",
      "10\n"
     ]
    }
   ],
   "source": [
    "num= input()\n",
    "def SimpleAdding(num):\n",
    "    val=0\n",
    "    if int(num)>1000 or int(num) <1:\n",
    "        return \"You should give a number between 1 and 1000\"\n",
    "    else:\n",
    "        for i in range(int(num)+1):\n",
    "            val+=i\n",
    "    return val\n",
    "        \n",
    "val= SimpleAdding(num)\n",
    "print(val)"
   ]
  },
  {
   "cell_type": "code",
   "execution_count": null,
   "id": "62ab16c5",
   "metadata": {},
   "outputs": [],
   "source": []
  }
 ],
 "metadata": {
  "kernelspec": {
   "display_name": "Python 3 (ipykernel)",
   "language": "python",
   "name": "python3"
  },
  "language_info": {
   "codemirror_mode": {
    "name": "ipython",
    "version": 3
   },
   "file_extension": ".py",
   "mimetype": "text/x-python",
   "name": "python",
   "nbconvert_exporter": "python",
   "pygments_lexer": "ipython3",
   "version": "3.9.7"
  }
 },
 "nbformat": 4,
 "nbformat_minor": 5
}
