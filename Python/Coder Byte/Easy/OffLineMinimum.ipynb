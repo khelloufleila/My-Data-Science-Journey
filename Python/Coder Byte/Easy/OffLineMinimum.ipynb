{
 "cells": [
  {
   "cell_type": "markdown",
   "id": "e8167f10",
   "metadata": {},
   "source": [
    "# Challenge\n",
    "\n",
    "Have the function OffLineMinimum(strArr) take the strArr parameter being passed which will be an array of integers ranging from 1...n and the letter \"E\" and return the correct subset based on the following rules. The input will be in the following format: [\"I\",\"I\",\"E\",\"I\",...,\"E\",...,\"I\"] where the I's stand for integers and the E means take out the smallest integer currently in the whole set. When finished, your program should return that new set with integers separated by commas. For example: if strArr is [\"5\",\"4\",\"6\",\"E\",\"1\",\"7\",\"E\",\"E\",\"3\",\"2\"] then your program should return 4,1,5."
   ]
  },
  {
   "cell_type": "code",
   "execution_count": 6,
   "id": "dd3f4c20",
   "metadata": {},
   "outputs": [
    {
     "data": {
      "text/plain": [
       "'4,1,5'"
      ]
     },
     "execution_count": 6,
     "metadata": {},
     "output_type": "execute_result"
    }
   ],
   "source": [
    "def OffLineMinimum(strArr):\n",
    "    digits = []\n",
    "    subset = []\n",
    "\n",
    "    for s in strArr:\n",
    "        if s.isdigit():\n",
    "            digits.append(s)\n",
    "        elif s == \"E\":\n",
    "            subset.append(min(digits))\n",
    "            digits.remove(min(digits))\n",
    "\n",
    "    return \",\".join(subset)\n",
    "strArr=[\"5\",\"4\",\"6\",\"E\",\"1\",\"7\",\"E\",\"E\",\"3\",\"2\"]\n",
    "OffLineMinimum(strArr)\n"
   ]
  },
  {
   "cell_type": "code",
   "execution_count": null,
   "id": "e5684f11",
   "metadata": {},
   "outputs": [],
   "source": []
  }
 ],
 "metadata": {
  "kernelspec": {
   "display_name": "Python 3 (ipykernel)",
   "language": "python",
   "name": "python3"
  },
  "language_info": {
   "codemirror_mode": {
    "name": "ipython",
    "version": 3
   },
   "file_extension": ".py",
   "mimetype": "text/x-python",
   "name": "python",
   "nbconvert_exporter": "python",
   "pygments_lexer": "ipython3",
   "version": "3.9.7"
  }
 },
 "nbformat": 4,
 "nbformat_minor": 5
}
