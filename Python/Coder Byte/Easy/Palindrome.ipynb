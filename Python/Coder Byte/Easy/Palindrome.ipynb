{
 "cells": [
  {
   "cell_type": "markdown",
   "id": "0ab90b59",
   "metadata": {},
   "source": [
    "# Challenge\n",
    "\n",
    "Using the PYTHON language, have the function Palindrome(str) take the str parameter being passed and return the string true if the parameter is a palindrome, (the string is the same forward as it is backward) otherwise return the string false. For example: \"racecar\" is also \"racecar\" backwards. Punctuation and numbers will not be part of the string.\n",
    "\n",
    "# Sample Test Cases\n",
    "- Input:\"never odd or even\"\n",
    "- Output:\"true\"\n",
    "\n",
    "- Input:\"eye\"\n",
    "- Output:\"true\""
   ]
  },
  {
   "cell_type": "code",
   "execution_count": 13,
   "id": "ed56eb7b",
   "metadata": {},
   "outputs": [
    {
     "name": "stdout",
     "output_type": "stream",
     "text": [
      "never odd or even\n"
     ]
    },
    {
     "data": {
      "text/plain": [
       "True"
      ]
     },
     "execution_count": 13,
     "metadata": {},
     "output_type": "execute_result"
    }
   ],
   "source": [
    "def Palindrome(text):\n",
    "    string=\"\"\n",
    "    for i in range(len(text)):\n",
    "        if text[i]!= \" \":\n",
    "            string+=text[i]\n",
    "    \n",
    "    return string==string[::-1]\n",
    "    \n",
    "    \n",
    "text= input()\n",
    "Palindrome(text)"
   ]
  },
  {
   "cell_type": "code",
   "execution_count": null,
   "id": "32b2e944",
   "metadata": {},
   "outputs": [],
   "source": []
  }
 ],
 "metadata": {
  "kernelspec": {
   "display_name": "Python 3 (ipykernel)",
   "language": "python",
   "name": "python3"
  },
  "language_info": {
   "codemirror_mode": {
    "name": "ipython",
    "version": 3
   },
   "file_extension": ".py",
   "mimetype": "text/x-python",
   "name": "python",
   "nbconvert_exporter": "python",
   "pygments_lexer": "ipython3",
   "version": "3.9.7"
  }
 },
 "nbformat": 4,
 "nbformat_minor": 5
}
