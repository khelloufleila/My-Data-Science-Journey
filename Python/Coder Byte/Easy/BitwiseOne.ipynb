{
 "cells": [
  {
   "cell_type": "markdown",
   "id": "064a1a4f",
   "metadata": {},
   "source": [
    "# Challenge\n",
    "\n",
    "Have the function BitwiseOne(strArr) take the array of strings stored in strArr, which will only contain two strings of equal length that represent binary numbers, and return a final binary string that performed the bitwise OR operation on both strings. A bitwise OR operation places a 0 in the new string where there are zeroes in both binary strings, otherwise it places a 1 in that spot. For example: if strArr is [\"1001\", \"0100\"] then your program should return the string \"1101\""
   ]
  },
  {
   "cell_type": "code",
   "execution_count": 9,
   "id": "132aae31",
   "metadata": {},
   "outputs": [
    {
     "data": {
      "text/plain": [
       "'1101'"
      ]
     },
     "execution_count": 9,
     "metadata": {},
     "output_type": "execute_result"
    }
   ],
   "source": [
    "def  BitwiseOne(strArr):\n",
    "    string=\"\"\n",
    "    for i in range(len(strArr[0])):\n",
    "        if strArr[0][i]!=strArr[1][i]:\n",
    "            string+=str(1)\n",
    "        else:\n",
    "            string+=strArr[0][i]\n",
    "    return string\n",
    "strArr=[\"1001\", \"0101\"]\n",
    "string=BitwiseOne(strArr)\n",
    "string"
   ]
  },
  {
   "cell_type": "code",
   "execution_count": 14,
   "id": "56dbc027",
   "metadata": {},
   "outputs": [
    {
     "data": {
      "text/plain": [
       "'1101'"
      ]
     },
     "execution_count": 14,
     "metadata": {},
     "output_type": "execute_result"
    }
   ],
   "source": [
    "def BitwiseOne(strArr):\n",
    "    result = \"\"\n",
    "    for i in range(0, len(strArr[0])):\n",
    "        if strArr[0][i] == \"0\" and strArr[1][i] == \"0\":\n",
    "            result += \"0\"\n",
    "        else:\n",
    "            result += \"1\"\n",
    "    return result\n",
    "\n",
    "strArr=[\"1001\", \"0101\"]\n",
    "string=BitwiseOne(strArr)\n",
    "string"
   ]
  }
 ],
 "metadata": {
  "kernelspec": {
   "display_name": "Python 3 (ipykernel)",
   "language": "python",
   "name": "python3"
  },
  "language_info": {
   "codemirror_mode": {
    "name": "ipython",
    "version": 3
   },
   "file_extension": ".py",
   "mimetype": "text/x-python",
   "name": "python",
   "nbconvert_exporter": "python",
   "pygments_lexer": "ipython3",
   "version": "3.9.7"
  }
 },
 "nbformat": 4,
 "nbformat_minor": 5
}
