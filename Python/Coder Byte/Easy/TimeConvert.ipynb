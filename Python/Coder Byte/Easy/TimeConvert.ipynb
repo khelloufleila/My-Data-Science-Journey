{
 "cells": [
  {
   "cell_type": "markdown",
   "id": "282ec35b",
   "metadata": {},
   "source": [
    "# Challenge\n",
    "Using the python language, have the function TimeConvert(num) take the num parameter being passed and return the number of hours and minutes the parameter converts to (ie. if num = 63 then the output should be 1:3). Separate the number of hours and minutes with a colon.\n",
    "\n",
    "# Sample Test Cases\n",
    "Input:126\n",
    "Output:\"2:6\"\n",
    "\n",
    "\n",
    "Input:45\n",
    "Output:\"0:45\""
   ]
  },
  {
   "cell_type": "code",
   "execution_count": 8,
   "id": "111da329",
   "metadata": {},
   "outputs": [
    {
     "data": {
      "text/plain": [
       "2"
      ]
     },
     "execution_count": 8,
     "metadata": {},
     "output_type": "execute_result"
    }
   ],
   "source": [
    "int(126/60)"
   ]
  },
  {
   "cell_type": "code",
   "execution_count": 13,
   "id": "f878ce44",
   "metadata": {},
   "outputs": [
    {
     "name": "stdout",
     "output_type": "stream",
     "text": [
      "126\n",
      "2:6\n"
     ]
    }
   ],
   "source": [
    "def TimeConvert(num):\n",
    "    heure=\"\"\n",
    "    hour= int(num / 60)\n",
    "    second= num% 60\n",
    "    heure= str(hour)+ \":\"+str(second)\n",
    "    return heure\n",
    "num=int(input())\n",
    "heure=  TimeConvert(num)\n",
    "print(heure)"
   ]
  },
  {
   "cell_type": "code",
   "execution_count": 19,
   "id": "12fcdafc",
   "metadata": {},
   "outputs": [
    {
     "data": {
      "text/plain": [
       "'0: 0: 45'"
      ]
     },
     "execution_count": 19,
     "metadata": {},
     "output_type": "execute_result"
    }
   ],
   "source": [
    "def TimeConvert(sec):\n",
    "    sec= sec% (24*3600)\n",
    "    hour= sec// 3600\n",
    "    sec%= 3600\n",
    "    min= sec//60\n",
    "    sec%=60\n",
    "    return \"%01d: %01d: %01d\"% (hour, min, sec)\n",
    "\n",
    "n=45\n",
    "TimeConvert(n)"
   ]
  }
 ],
 "metadata": {
  "kernelspec": {
   "display_name": "Python 3 (ipykernel)",
   "language": "python",
   "name": "python3"
  },
  "language_info": {
   "codemirror_mode": {
    "name": "ipython",
    "version": 3
   },
   "file_extension": ".py",
   "mimetype": "text/x-python",
   "name": "python",
   "nbconvert_exporter": "python",
   "pygments_lexer": "ipython3",
   "version": "3.9.7"
  }
 },
 "nbformat": 4,
 "nbformat_minor": 5
}
