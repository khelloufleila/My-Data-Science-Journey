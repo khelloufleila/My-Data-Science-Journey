{
 "cells": [
  {
   "cell_type": "markdown",
   "id": "35f5530f",
   "metadata": {},
   "source": [
    "# Challenge\n",
    "\n",
    "Have the function OverlappingRanges(arr) take the array of numbers stored in arr which will contain 5 positive integers, the first two representing a range of numbers (a to b), the next 2 also representing another range of integers (c to d), and a final 5th element (x) which will also be a positive integer, and return the string true if both sets of ranges overlap by at least x numbers. For example: if arr is [4, 10, 2, 6, 3] then your program should return the string true. The first range of numbers are 4, 5, 6, 7, 8, 9, 10 and the second range of numbers are 2, 3, 4, 5, 6. The last element in the array is 3, and there are 3 numbers that overlap between both ranges: 4, 5, and 6. If both ranges do not overlap by at least x numbers, then your program should return the string false."
   ]
  },
  {
   "cell_type": "code",
   "execution_count": 13,
   "id": "e25e988b",
   "metadata": {},
   "outputs": [
    {
     "data": {
      "text/plain": [
       "True"
      ]
     },
     "execution_count": 13,
     "metadata": {},
     "output_type": "execute_result"
    }
   ],
   "source": [
    "def  OverlappingRanges(arr):\n",
    "    first=[]\n",
    "    second=[]\n",
    "    inter=[]\n",
    "    for i in range(arr[0], arr[1]+1):\n",
    "        first.append(i)\n",
    "    for i in range(arr[2], arr[3]+1):\n",
    "        second.append(i)\n",
    "    \n",
    "    for i in first:\n",
    "        if i in second:\n",
    "            inter.append(i)\n",
    "    if arr[4]== len(inter):\n",
    "        return True\n",
    "    else:\n",
    "        return False\n",
    "arr=[2, 6, 4, 10, 3]         \n",
    "OverlappingRanges(arr)  \n"
   ]
  },
  {
   "cell_type": "code",
   "execution_count": 17,
   "id": "ac1f23ed",
   "metadata": {},
   "outputs": [
    {
     "data": {
      "text/plain": [
       "'true'"
      ]
     },
     "execution_count": 17,
     "metadata": {},
     "output_type": "execute_result"
    }
   ],
   "source": [
    "def generate_set(sp, ep):\n",
    "    return [x for x in range(sp, ep+1)]\n",
    "\n",
    "def OverlappingRanges(arr):\n",
    "    first_set= generate_set(arr[0], arr[1])\n",
    "    second_set=generate_set(arr[2], arr[3])\n",
    "    \n",
    "    result=arr[4]= len([x for x in first_set if x in second_set])\n",
    "    return \"true\" if result else \"false\"\n",
    "\n",
    "arr=[2, 6, 4, 10, 3]         \n",
    "OverlappingRanges(arr) "
   ]
  }
 ],
 "metadata": {
  "kernelspec": {
   "display_name": "Python 3 (ipykernel)",
   "language": "python",
   "name": "python3"
  },
  "language_info": {
   "codemirror_mode": {
    "name": "ipython",
    "version": 3
   },
   "file_extension": ".py",
   "mimetype": "text/x-python",
   "name": "python",
   "nbconvert_exporter": "python",
   "pygments_lexer": "ipython3",
   "version": "3.9.7"
  }
 },
 "nbformat": 4,
 "nbformat_minor": 5
}
