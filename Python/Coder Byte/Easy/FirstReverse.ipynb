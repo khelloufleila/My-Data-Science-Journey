{
 "cells": [
  {
   "cell_type": "markdown",
   "id": "017cf735",
   "metadata": {},
   "source": [
    "# Challenge: \n",
    "\n",
    "Using the Ruby language, have the function FirstReverse(str) take the str parameter being passed and return the string in reversed order. For example: if the input string is \"Hello World and Coders\" then your program should return the string sredoC dna dlroW olleH\n",
    "\n",
    "# Sample Test Cases: \n",
    "\n",
    "Input:\"coderbyte\"\n",
    "Output:\"etybredoc\"\n",
    "\n",
    "Input:\"I Love Code\"\n",
    "Output:\"edoC evoL I\""
   ]
  },
  {
   "cell_type": "code",
   "execution_count": null,
   "id": "af637a38",
   "metadata": {},
   "outputs": [],
   "source": []
  }
 ],
 "metadata": {
  "kernelspec": {
   "display_name": "Python 3 (ipykernel)",
   "language": "python",
   "name": "python3"
  },
  "language_info": {
   "codemirror_mode": {
    "name": "ipython",
    "version": 3
   },
   "file_extension": ".py",
   "mimetype": "text/x-python",
   "name": "python",
   "nbconvert_exporter": "python",
   "pygments_lexer": "ipython3",
   "version": "3.9.7"
  }
 },
 "nbformat": 4,
 "nbformat_minor": 5
}
