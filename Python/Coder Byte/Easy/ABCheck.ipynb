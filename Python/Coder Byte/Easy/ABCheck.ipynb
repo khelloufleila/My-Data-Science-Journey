{
 "cells": [
  {
   "cell_type": "markdown",
   "id": "d6bd783a",
   "metadata": {},
   "source": [
    "# Challenge\n",
    "\n",
    "Have the function ABCheck(str) take the str parameter being passed and return the string true if the characters a and b are separated by exactly 3 places anywhere in the string at least once (ie. \"lane borrowed\" would result in true because there is exactly three characters between a and b). Otherwise return the string false.\n",
    "\n",
    "# Sample Test Cases\n",
    "- Input:\"after badly\"\n",
    "- Output:\"false\"\n",
    "\n",
    "\n",
    "- Input:\"Laura sobs\"\n",
    "- Output:\"true\""
   ]
  },
  {
   "cell_type": "code",
   "execution_count": 35,
   "id": "c60ebabe",
   "metadata": {},
   "outputs": [
    {
     "name": "stdout",
     "output_type": "stream",
     "text": [
      "Laura sobs\n",
      "true\n"
     ]
    }
   ],
   "source": [
    "def ABCheck(text):\n",
    "    output=\"\"\n",
    "    for i in range(len(text)-4):\n",
    "        if text[i]==\"a\":\n",
    "            if text[i+4]!=\"b\":\n",
    "                output=\"false\"\n",
    "            else:\n",
    "                output=\"true\"\n",
    "                \n",
    "    return output\n",
    "text= input()\n",
    "output= ABCheck(text)\n",
    "print(output)"
   ]
  },
  {
   "cell_type": "code",
   "execution_count": 32,
   "id": "55232418",
   "metadata": {},
   "outputs": [
    {
     "ename": "SyntaxError",
     "evalue": "invalid syntax (Temp/ipykernel_13424/2022640153.py, line 3)",
     "output_type": "error",
     "traceback": [
      "\u001b[1;36m  File \u001b[1;32m\"C:\\Users\\PC\\AppData\\Local\\Temp/ipykernel_13424/2022640153.py\"\u001b[1;36m, line \u001b[1;32m3\u001b[0m\n\u001b[1;33m    return \"true\" if string[i]==\"a\" and string[i+4]==\"b\"\u001b[0m\n\u001b[1;37m                                                        ^\u001b[0m\n\u001b[1;31mSyntaxError\u001b[0m\u001b[1;31m:\u001b[0m invalid syntax\n"
     ]
    }
   ],
   "source": [
    "def ABCheck(string):\n",
    "    for i in range(len(string)-4):\n",
    "        return \"true\" if string[i]==\"a\" and string[i+4]==\"b\""
   ]
  }
 ],
 "metadata": {
  "kernelspec": {
   "display_name": "Python 3 (ipykernel)",
   "language": "python",
   "name": "python3"
  },
  "language_info": {
   "codemirror_mode": {
    "name": "ipython",
    "version": 3
   },
   "file_extension": ".py",
   "mimetype": "text/x-python",
   "name": "python",
   "nbconvert_exporter": "python",
   "pygments_lexer": "ipython3",
   "version": "3.9.7"
  }
 },
 "nbformat": 4,
 "nbformat_minor": 5
}
