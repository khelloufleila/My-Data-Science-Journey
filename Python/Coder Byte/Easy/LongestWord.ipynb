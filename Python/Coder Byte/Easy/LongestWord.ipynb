{
 "cells": [
  {
   "cell_type": "markdown",
   "id": "92f26283",
   "metadata": {},
   "source": [
    "# Challenge\n",
    "Have the function LongestWord(sen) take the sen parameter being passed and return the largest word in the string. If there are two or more words that are the same length, return the first word from the string with that length. Ignore punctuation and assume sen will not be empty.\n",
    "\n",
    "# Sample Test Cases\n",
    "\n",
    "Input:\"fun&!! time\"\n",
    "Output:\"time\"\n",
    "\n",
    "\n",
    "Input:\"I love dogs\"\n",
    "Output:\"love\""
   ]
  },
  {
   "cell_type": "code",
   "execution_count": 16,
   "id": "b3df773a",
   "metadata": {},
   "outputs": [
    {
     "name": "stdout",
     "output_type": "stream",
     "text": [
      "Ignore punctuation and assume\n",
      "punctuation\n"
     ]
    }
   ],
   "source": [
    "text= input()\n",
    "def myfunc(e):\n",
    "    return len(e)\n",
    "\n",
    "def LongestWord(text):\n",
    "\n",
    "    seq =[word for word in text.split(\" \") if word.isalpha()]\n",
    "    seq.sort(reverse=True, key= myfunc)\n",
    "    return seq[0]\n",
    "longest= LongestWord(text)\n",
    "print(longest)"
   ]
  },
  {
   "cell_type": "code",
   "execution_count": 30,
   "id": "bb343f91",
   "metadata": {},
   "outputs": [
    {
     "name": "stdout",
     "output_type": "stream",
     "text": [
      "Ignore\n",
      "Ignore\n"
     ]
    }
   ],
   "source": [
    "def LongestWord(sen):\n",
    "\n",
    "    # 1. extract all the words\n",
    "    # 2. assume words[0] has the biggest length, try to find bigger.\n",
    "    words = sen.split(' ')\n",
    "    words=[word for word in words if word.isalpha()]\n",
    "    longest = words[0]\n",
    "    for i in range(len(words)-1):\n",
    "        if len(words[i]) > len(longest):\n",
    "            longest = words[i]\n",
    "\n",
    "\n",
    "    return longest\n",
    "\n",
    "sen=\"Ignore punctuation0 and assume\"\n",
    "longest= LongestWord(sen)\n",
    "print(longest)"
   ]
  }
 ],
 "metadata": {
  "kernelspec": {
   "display_name": "Python 3 (ipykernel)",
   "language": "python",
   "name": "python3"
  },
  "language_info": {
   "codemirror_mode": {
    "name": "ipython",
    "version": 3
   },
   "file_extension": ".py",
   "mimetype": "text/x-python",
   "name": "python",
   "nbconvert_exporter": "python",
   "pygments_lexer": "ipython3",
   "version": "3.9.7"
  }
 },
 "nbformat": 4,
 "nbformat_minor": 5
}
