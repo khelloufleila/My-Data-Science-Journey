{
 "cells": [
  {
   "cell_type": "markdown",
   "id": "04a29f7c",
   "metadata": {},
   "source": [
    "# Challenge\n",
    "\n",
    "Have the function ArrayMatching(strArr) read the array of strings stored in strArr which will contain only two elements, both of which will represent an array of positive integers. For example: if strArr is [\"[1, 2, 5, 6]\", \"[5, 2, 8, 11]\"], then both elements in the input represent two integer arrays, and your goal for this challenge is to add the elements in corresponding locations from both arrays. For the example input, your program should do the following additions: [(1 + 5), (2 + 2), (5 + 8), (6 + 11)] which then equals [6, 4, 13, 17]. Your program should finally return this resulting array in a string format with each element separated by a hyphen: 6-4-13-17.\n",
    "\n",
    "If the two arrays do not have the same amount of elements, then simply append the remaining elements onto the new array (example shown below). Both arrays will be in the format: [e1, e2, e3, ...] where at least one element will exist in each array."
   ]
  },
  {
   "cell_type": "code",
   "execution_count": 45,
   "id": "df5872f5",
   "metadata": {},
   "outputs": [
    {
     "name": "stdout",
     "output_type": "stream",
     "text": [
      "['1', ' 2', ' 5'] ['5', ' 2', ' 8', ' 11']\n"
     ]
    },
    {
     "data": {
      "text/plain": [
       "'6-4-13'"
      ]
     },
     "execution_count": 45,
     "metadata": {},
     "output_type": "execute_result"
    }
   ],
   "source": [
    "def ArrayMatching(strarr):\n",
    "    arr=[]\n",
    "    arr1= strarr[0].strip('][').split(',')\n",
    "    arr2= strarr[1].strip('][').split(',')\n",
    "    print(arr1, arr2)\n",
    "    for i in range(len(arr1)):\n",
    "        val= int(arr1[i])+int(arr2[i])\n",
    "        arr.append(str(val))\n",
    "    return \"-\".join(arr)\n",
    "\n",
    "strarr=[\"[1, 2, 5]\", \"[5, 2, 8, 11]\"]\n",
    "ele=ArrayMatching(strarr)\n",
    "ele"
   ]
  },
  {
   "cell_type": "code",
   "execution_count": 43,
   "id": "28a626fa",
   "metadata": {},
   "outputs": [
    {
     "data": {
      "text/plain": [
       "'6-4-13-11'"
      ]
     },
     "execution_count": 43,
     "metadata": {},
     "output_type": "execute_result"
    }
   ],
   "source": [
    "import re \n",
    "\n",
    "def extract_digits(s):\n",
    "    return [int(x) for x in re.findall(r'\\d+',s) ]\n",
    "\n",
    "def ArrayMaching(strarr):\n",
    "    first_array= extract_digits(strarr[0])\n",
    "    second_array=extract_digits(strarr[1])\n",
    "    min_len= min(len(first_array), len(second_array))\n",
    "    result=[]\n",
    "    for i in range(min_len):\n",
    "        current_sum= first_array[i]+second_array[i]\n",
    "        result.append(current_sum)\n",
    "    \n",
    "    if len(first_array)< len(second_array):\n",
    "        for i in range(min_len, len(second_array)):\n",
    "            result.append(second_array[i])\n",
    "    else:\n",
    "        for i in range(min_len, len(first_array)):\n",
    "            result.append(first_array[i])\n",
    "    \n",
    "    return \"-\".join([str(x) for x in result])\n",
    "strarr=[\"[1, 2, 5]\", \"[5, 2, 8, 11]\"]\n",
    "ele=ArrayMaching(strarr)\n",
    "ele"
   ]
  }
 ],
 "metadata": {
  "kernelspec": {
   "display_name": "Python 3 (ipykernel)",
   "language": "python",
   "name": "python3"
  },
  "language_info": {
   "codemirror_mode": {
    "name": "ipython",
    "version": 3
   },
   "file_extension": ".py",
   "mimetype": "text/x-python",
   "name": "python",
   "nbconvert_exporter": "python",
   "pygments_lexer": "ipython3",
   "version": "3.9.7"
  }
 },
 "nbformat": 4,
 "nbformat_minor": 5
}
