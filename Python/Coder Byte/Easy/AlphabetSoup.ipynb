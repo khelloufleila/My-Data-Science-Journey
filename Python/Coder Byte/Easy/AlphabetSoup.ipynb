{
 "cells": [
  {
   "cell_type": "markdown",
   "id": "c56fe170",
   "metadata": {},
   "source": [
    "# Challenge\n",
    "Using the PYTHON language, have the function AlphabetSoup(str) take the str string parameter being passed and return the string with the letters in alphabetical order (ie. hello becomes ehllo). Assume numbers and punctuation symbols will not be included in the string.\n",
    "\n",
    "# Sample Test Cases\n",
    "Input:\"coderbyte\"\n",
    "Output:\"bcdeeorty\"\n",
    "\n",
    "\n",
    "Input:\"hooplah\"\n",
    "Output:\"ahhloop\""
   ]
  },
  {
   "cell_type": "code",
   "execution_count": 13,
   "id": "d986a738",
   "metadata": {},
   "outputs": [
    {
     "name": "stdout",
     "output_type": "stream",
     "text": [
      "coderbyte\n"
     ]
    },
    {
     "data": {
      "text/plain": [
       "'bcdeeorty'"
      ]
     },
     "execution_count": 13,
     "metadata": {},
     "output_type": "execute_result"
    }
   ],
   "source": [
    "def AlphabetSoup(word):\n",
    "    letter= [i for i in word if i.isalpha()]\n",
    "    letter.sort()\n",
    "    return \"\".join(letter)\n",
    "\n",
    "word= input()\n",
    "AlphabetSoup(word)\n",
    "    "
   ]
  }
 ],
 "metadata": {
  "kernelspec": {
   "display_name": "Python 3 (ipykernel)",
   "language": "python",
   "name": "python3"
  },
  "language_info": {
   "codemirror_mode": {
    "name": "ipython",
    "version": 3
   },
   "file_extension": ".py",
   "mimetype": "text/x-python",
   "name": "python",
   "nbconvert_exporter": "python",
   "pygments_lexer": "ipython3",
   "version": "3.9.7"
  }
 },
 "nbformat": 4,
 "nbformat_minor": 5
}
