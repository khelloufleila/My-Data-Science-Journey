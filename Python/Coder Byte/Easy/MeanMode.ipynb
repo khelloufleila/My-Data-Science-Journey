{
 "cells": [
  {
   "cell_type": "markdown",
   "id": "98703df8",
   "metadata": {},
   "source": [
    "# Challenge\n",
    "\n",
    "Have the function MeanMode(arr) take the array of numbers stored in arr and return 1 if the mode equals the mean, 0 if they don't equal each other (ie. [5, 3, 3, 3, 1] should return 1 because the mode (3) equals the mean (3)). The array will not be empty, will only contain positive integers, and will not contain more than one mode."
   ]
  },
  {
   "cell_type": "code",
   "execution_count": 14,
   "id": "21bb9eea",
   "metadata": {},
   "outputs": [
    {
     "data": {
      "text/plain": [
       "1"
      ]
     },
     "execution_count": 14,
     "metadata": {},
     "output_type": "execute_result"
    }
   ],
   "source": [
    "def Mode(arr):\n",
    "    y={}\n",
    "    mode=0\n",
    "    for a in arr:\n",
    "        if not a in y:\n",
    "            y[a]=1\n",
    "        else: \n",
    "            y[a]+=1\n",
    "    for g,l in y.items():\n",
    "        if l==max(y.values()):\n",
    "            mode=g\n",
    "    return mode\n",
    "def Mean(arr):\n",
    "    sumVal=0\n",
    "    mean=0\n",
    "    for i in range(len(arr)):\n",
    "        sumVal+=arr[i]\n",
    "    mean= sumVal/len(arr)\n",
    "    return mean\n",
    "        \n",
    "def MeanMode(arr):\n",
    "    mode= Mode(arr)\n",
    "    mean= Mean(arr)\n",
    "    if mode==mean:\n",
    "        return 1\n",
    "    else:\n",
    "        return 0\n",
    "    \n",
    "    \n",
    "arr=[8 , 20 , 12, 12,13 , 15 , 4]   \n",
    "MeanMode(arr)\n",
    "    "
   ]
  }
 ],
 "metadata": {
  "kernelspec": {
   "display_name": "Python 3 (ipykernel)",
   "language": "python",
   "name": "python3"
  },
  "language_info": {
   "codemirror_mode": {
    "name": "ipython",
    "version": 3
   },
   "file_extension": ".py",
   "mimetype": "text/x-python",
   "name": "python",
   "nbconvert_exporter": "python",
   "pygments_lexer": "ipython3",
   "version": "3.9.7"
  }
 },
 "nbformat": 4,
 "nbformat_minor": 5
}
