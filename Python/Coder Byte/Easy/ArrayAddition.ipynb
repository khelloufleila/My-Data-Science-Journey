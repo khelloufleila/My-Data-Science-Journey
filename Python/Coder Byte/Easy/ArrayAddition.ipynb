{
 "cells": [
  {
   "cell_type": "markdown",
   "id": "6a538a86",
   "metadata": {},
   "source": [
    "# Challenge\n",
    "\n",
    "Have the function ArrayAdditionI(arr) take the array of numbers stored in arr and return the string true if any combination of numbers in the array can be added up to equal the largest number in the array, otherwise return the string false. For example: if arr contains [4, 6, 23, 10, 1, 3] the output should return true because 4 + 6 + 10 + 3 = 23. The array will not be empty, will not contain all the same elements, and may contain negative numbers.\n",
    "\n",
    "# Sample Test Cases\n",
    "- Input:5,7,16,1,2\n",
    "- Output:\"false\"\n",
    "\n",
    "\n",
    "- Input:3,5,-1,8,12\n",
    "- Output:\"true\""
   ]
  },
  {
   "cell_type": "code",
   "execution_count": 30,
   "id": "c3619120",
   "metadata": {},
   "outputs": [
    {
     "name": "stdout",
     "output_type": "stream",
     "text": [
      "[(), (10,), (6,), (4,), (1,), (10, 6), (10, 4), (10, 1), (6, 4), (6, 1), (4, 1), (10, 6, 4), (10, 6, 1), (10, 4, 1), (6, 4, 1), (10, 6, 4, 1)]\n",
      "[0, 10, 6, 4, 1, 16, 14, 11, 10, 7, 5, 20, 17, 15, 11, 21]\n",
      "False\n"
     ]
    }
   ],
   "source": [
    "from itertools import combinations\n",
    "def ArrayAddition(arr):\n",
    "    arr.sort(reverse=True)\n",
    "    maximum= arr[0]\n",
    "    sub_arr=arr[1:]\n",
    "    combos=list()\n",
    "    lst=list()\n",
    "    for i in range(len(sub_arr)+1):\n",
    "        combos+=combinations(sub_arr, i)\n",
    "    print(combos)\n",
    "    for seti in combos:\n",
    "        sm= sum(seti)\n",
    "        lst.append(sm)\n",
    "    print(lst)  \n",
    "    return maximum in lst\n",
    "\n",
    "arr=[4, 6, 23, 10, 1]\n",
    "maxi= ArrayAddition(arr)\n",
    "print(maxi)"
   ]
  },
  {
   "cell_type": "code",
   "execution_count": null,
   "id": "98bbb4f2",
   "metadata": {},
   "outputs": [],
   "source": []
  }
 ],
 "metadata": {
  "kernelspec": {
   "display_name": "Python 3 (ipykernel)",
   "language": "python",
   "name": "python3"
  },
  "language_info": {
   "codemirror_mode": {
    "name": "ipython",
    "version": 3
   },
   "file_extension": ".py",
   "mimetype": "text/x-python",
   "name": "python",
   "nbconvert_exporter": "python",
   "pygments_lexer": "ipython3",
   "version": "3.9.7"
  }
 },
 "nbformat": 4,
 "nbformat_minor": 5
}
