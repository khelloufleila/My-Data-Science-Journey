{
 "cells": [
  {
   "cell_type": "markdown",
   "id": "b09ab427",
   "metadata": {},
   "source": [
    "# Challenge\n",
    "\n",
    "Have the function MultiplicativePersistence(num) take the num parameter being passed which will always be a positive integer and return its multiplicative persistence which is the number of times you must multiply the digits in num until you reach a single digit. For example: if num is 39 then your program should return 3 because 3 * 9 = 27 then 2 * 7 = 14 and finally 1 * 4 = 4 and you stop at 4."
   ]
  },
  {
   "cell_type": "code",
   "execution_count": 21,
   "id": "36f0b4bb",
   "metadata": {},
   "outputs": [
    {
     "data": {
      "text/plain": [
       "1"
      ]
     },
     "execution_count": 21,
     "metadata": {},
     "output_type": "execute_result"
    }
   ],
   "source": [
    "def MultiplicativePersistence(num):\n",
    "    lst=[]\n",
    "    num=str(num)\n",
    "    if len(num)==1:\n",
    "        return 1\n",
    "    while len(num)>=2:\n",
    "        mult=1\n",
    "        for i in num:\n",
    "            mult*=int(i)\n",
    "        lst.append(mult)\n",
    "        num=str(mult)\n",
    "    return len(lst)\n",
    "num=3\n",
    "lst=MultiplicativePersistence(num)     \n",
    "lst"
   ]
  },
  {
   "cell_type": "code",
   "execution_count": 29,
   "id": "7aa4c965",
   "metadata": {},
   "outputs": [
    {
     "name": "stdout",
     "output_type": "stream",
     "text": [
      "[3, 9]\n",
      "3\n",
      "9\n",
      "[2, 7]\n",
      "2\n",
      "7\n",
      "[1, 4]\n",
      "1\n",
      "4\n"
     ]
    },
    {
     "data": {
      "text/plain": [
       "3"
      ]
     },
     "execution_count": 29,
     "metadata": {},
     "output_type": "execute_result"
    }
   ],
   "source": [
    "def MultiplicativePersistence(num):\n",
    "    n=str(num)\n",
    "    if len(n)==1:\n",
    "        return 0\n",
    "    digits=[int(x) for x in n]\n",
    "    print(digits)\n",
    "    results=1\n",
    "    for d in digits:\n",
    "        print(d)\n",
    "        results= results*d\n",
    "    return 1+MultiplicativePersistence(results)\n",
    "num=39\n",
    "MultiplicativePersistence(num)     \n"
   ]
  }
 ],
 "metadata": {
  "kernelspec": {
   "display_name": "Python 3 (ipykernel)",
   "language": "python",
   "name": "python3"
  },
  "language_info": {
   "codemirror_mode": {
    "name": "ipython",
    "version": 3
   },
   "file_extension": ".py",
   "mimetype": "text/x-python",
   "name": "python",
   "nbconvert_exporter": "python",
   "pygments_lexer": "ipython3",
   "version": "3.9.7"
  }
 },
 "nbformat": 4,
 "nbformat_minor": 5
}
