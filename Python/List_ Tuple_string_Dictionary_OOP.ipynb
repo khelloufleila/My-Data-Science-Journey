{
 "cells": [
  {
   "cell_type": "markdown",
   "id": "9bc90e9e",
   "metadata": {},
   "source": [
    "# Lists"
   ]
  },
  {
   "cell_type": "code",
   "execution_count": 39,
   "id": "99d77ba1",
   "metadata": {},
   "outputs": [
    {
     "name": "stdout",
     "output_type": "stream",
     "text": [
      "homer\n",
      "3\n",
      "['homer', 'marge', 'bart', 'leila']\n",
      "['homer', 'marge', 'bart', 'leila', 'adam', 'maman']\n",
      "['maggie', 'homer', 'marge', 'bart', 'leila', 'adam', 'maman']\n",
      "['maggie', 'homer', 'marge', 'leila', 'adam', 'maman']\n",
      "['homer', 'marge', 'leila', 'adam', 'maman']\n",
      "['marge', 'leila', 'adam', 'maman']\n",
      "['kurty', 'leila', 'adam', 'maman']\n",
      "['kurty', 'leila', 'adam', 'maman', 'ned', 'rod', 'tod']\n",
      "0\n",
      "2\n",
      "['mon', 'tues', 'wed', 'thurs', 'fri']\n",
      "mon\n",
      "['mon', 'tues', 'wed']\n",
      "['thurs', 'fri']\n",
      "fri\n",
      "['mon', 'wed', 'fri']\n",
      "['fri', 'thurs', 'wed', 'tues', 'mon']\n",
      "['fri', 'thurs', 'wed', 'tues', 'mon']\n",
      "['fri', 'mon', 'thurs', 'tues', 'wed']\n",
      "['wed', 'tues', 'thurs', 'mon', 'fri']\n",
      "['wed', 'mon', 'fri', 'tues', 'thurs']\n",
      "['fri', 'mon', 'thurs', 'tues', 'wed']\n",
      "['wed', 'tues', 'thurs', 'mon', 'fri']\n",
      "['wed', 'mon', 'fri', 'tues', 'thurs']\n",
      "[0, 2, 3, 7]\n",
      "[0, 2, 3, 7]\n",
      "True\n",
      "False\n",
      "True\n",
      "True\n",
      "[1, 2, 3, 4, 5]\n",
      "['a', 'a', 'b', 'b', 'b']\n"
     ]
    }
   ],
   "source": [
    "# create an empty list (two way)\n",
    "empty_list=[]\n",
    "empty_list= list()\n",
    "\n",
    "# create list\n",
    "simpsons= ['homer', 'marge', 'bart']\n",
    "\n",
    "# examine list\n",
    "print(simpsons[0])     # 'return element 0 'homer'\n",
    "print(len(simpsons))  # return the length \n",
    "\n",
    "# modify a list \n",
    "simpsons.append('leila') # append element to end \n",
    "print(simpsons)\n",
    "simpsons.extend(['adam', 'maman']) # append multiple elemnt to end\n",
    "print(simpsons)\n",
    "simpsons.insert(0, 'maggie') # insert elemnt at index 0 \n",
    "print(simpsons)\n",
    "simpsons.remove('bart') # remove element 'bart'\n",
    "print(simpsons)\n",
    "simpsons.pop(0) # remove element 0 and returns it \n",
    "print(simpsons)\n",
    "del simpsons[0]  # remove element 0 , does not return it \n",
    "print(simpsons)\n",
    "simpsons[0]= 'kurty' # replace element 0 \n",
    "print(simpsons)\n",
    "\n",
    "\n",
    "# concatenate lists \n",
    "neighbors= simpsons+ ['ned', 'rod', 'tod']\n",
    "print(neighbors)\n",
    "\n",
    "# find element in a list\n",
    "print(simpsons.count('lisa')) # counts the number of instances\n",
    "print(simpsons.index('adam')) # return index of first instance\n",
    "\n",
    "\n",
    "# list sliding [start: end: stride]\n",
    "weekdays= ['mon', 'tues', 'wed', 'thurs', 'fri']\n",
    "print(weekdays)\n",
    "print(weekdays[0])  # element 0\n",
    "print(weekdays[:3]) # element 0, 1, 2 \n",
    "print(weekdays[3:]) # element 3, 4\n",
    "print(weekdays[-1]) # the last element \n",
    "print(weekdays[::2]) # every 2nd element (0, 2, 4)\n",
    "print(weekdays[::-1]) # backwards (4 3 2 1 0)\n",
    "\n",
    "\n",
    "# alternative method for returning list backwards\n",
    "print(list(reversed(weekdays)))\n",
    "\n",
    "# sort a list in palc\n",
    "weekdays.sort()\n",
    "print(weekdays)\n",
    "\n",
    "weekdays.sort(reverse=True)# sort in reverse\n",
    "print(weekdays)\n",
    "\n",
    "weekdays.sort(key=len) # sorted by key\n",
    "print(weekdays)\n",
    "\n",
    "print( sorted(weekdays))\n",
    "print(sorted(weekdays, reverse=True))\n",
    "print(sorted (weekdays, key=len))\n",
    "\n",
    "# create a second reference to the same list\n",
    "num1=[1, 2, 3]\n",
    "same_num= num1\n",
    "same_num[0]=0\n",
    "same_num.append(7)\n",
    "print(same_num)\n",
    "\n",
    "# copy a list \n",
    "new_num=num1.copy()\n",
    "new_num= num1[:]\n",
    "new_num = list(num1)\n",
    "print(new_num)\n",
    "\n",
    "# examine objects\n",
    "print(id(num1)==id(same_num)) # The id() function returns identity (unique integer) of an object.\n",
    "print(id(num1)==id(new_num))\n",
    "print(num1 is same_num)\n",
    "print(num1== same_num)\n",
    "\n",
    "\n",
    "# concatenate +, replicate *\n",
    "\n",
    "print([1, 2, 3]+ [4, 5])\n",
    "print([\"a\"]*2+ [\"b\"]*3)"
   ]
  },
  {
   "cell_type": "markdown",
   "id": "22a54508",
   "metadata": {},
   "source": [
    "# Tupes: \n",
    "- Like lists, but their size cannot change: ordered, iterable, immutable, can contain multiple data types\n"
   ]
  },
  {
   "cell_type": "code",
   "execution_count": 53,
   "id": "a2c152fb",
   "metadata": {},
   "outputs": [
    {
     "name": "stdout",
     "output_type": "stream",
     "text": [
      "(0, 1, 'two')\n",
      "two\n",
      "3\n",
      "1\n",
      "2\n",
      "False\n",
      "(0, 1, 'two')\n",
      "(0, 1, 'two', 3, 5)\n",
      "(3, 4, 3, 4)\n"
     ]
    }
   ],
   "source": [
    "# create tuple \n",
    "digits= (0, 1, 'two') # create a tuple directly\n",
    "print(digits)\n",
    "digits= tuple([0, 1, 'two']) # create a tuple from list\n",
    "zero= (0, )  # trailing comma is required\n",
    "\n",
    "# examine tuple\n",
    "print(digits[2])\n",
    "print(len(digits))\n",
    "print(digits.count(1))\n",
    "print(digits.index('two'))\n",
    "\n",
    "# element of tuple cannot modified \n",
    "print(digits[2]== 2)\n",
    "print(digits)\n",
    "\n",
    "# concatenate tuples\n",
    "print(digits+(3, 5))\n",
    "\n",
    "# create a single tuple with element repeated\n",
    "print((3,4)*2)\n",
    "\n"
   ]
  },
  {
   "cell_type": "markdown",
   "id": "2680256b",
   "metadata": {},
   "source": [
    "# String"
   ]
  },
  {
   "cell_type": "code",
   "execution_count": 83,
   "id": "ef997f3a",
   "metadata": {},
   "outputs": [
    {
     "name": "stdout",
     "output_type": "stream",
     "text": [
      "42\n",
      "l\n",
      "10\n",
      "I like\n",
      "u\n",
      "i like you\n",
      "I LIKE YOU\n",
      "True\n",
      "True\n",
      "False\n",
      "2\n",
      "-1\n",
      "I love you\n",
      "['I', 'like', 'you']\n",
      "['I', 'like', 'you']\n",
      "['a,', 'an,', 'the']\n",
      "larry curly moe\n",
      "The meaning of life is 42\n",
      "ham and cheese\n",
      "raining cats and dogs\n",
      "raining cats and dogs\n",
      "raining cats and dogs\n",
      "pi is 3.14\n"
     ]
    }
   ],
   "source": [
    "import math\n",
    "# create a string\n",
    "s= str(42)\n",
    "print(s)\n",
    "s='I like you'\n",
    "\n",
    "# examine a string \n",
    "print(s[2])\n",
    "print(len(s))\n",
    "\n",
    "# string slicing like lists\n",
    "print(s[:6])\n",
    "print(s[-1])\n",
    "\n",
    "# basic string methods\n",
    "print(s.lower())\n",
    "print(s.upper())\n",
    "print(s.startswith('I'))\n",
    "print(s.endswith('you'))\n",
    "print(s.isdigit())\n",
    "print(s.find('like'))\n",
    "print(s.find('hate'))\n",
    "print(s.replace('like', 'love'))\n",
    "\n",
    "#split string into a list of substrings separated by a delimiter\n",
    "\n",
    "print(s.split(' '))\n",
    "print(s.split())\n",
    "s2='a, an, the'\n",
    "print(s2.split())\n",
    "\n",
    "# join a list of string into one string using a delimiter \n",
    "stooges= ['larry', 'curly', 'moe']\n",
    "print(' '.join(stooges))\n",
    "\n",
    "\n",
    "# concatenate strings\n",
    "s3= 'The meaning of life is'\n",
    "s4= '42'\n",
    "print(s3+ ' '+s4)\n",
    "\n",
    "# remove whitespace from strat and end of a string \n",
    "s5= '  ham and cheese '\n",
    "print(s5.strip())\n",
    "\n",
    "# string substitutions\n",
    "\n",
    "print('raining %s and %s'%('cats', 'dogs'))\n",
    "print('raining {} and {}'.format('cats', 'dogs'))\n",
    "print('raining {arg1} and {arg2}'.format(arg1='cats', arg2='dogs'))\n",
    "\n",
    "# string formatting\n",
    "print('pi is {:.2f}'.format(math.pi))"
   ]
  },
  {
   "cell_type": "markdown",
   "id": "8bfc4070",
   "metadata": {},
   "source": [
    "# String 2"
   ]
  },
  {
   "cell_type": "code",
   "execution_count": 91,
   "id": "5c98ba66",
   "metadata": {},
   "outputs": [
    {
     "name": "stdout",
     "output_type": "stream",
     "text": [
      "first line\n",
      "second line\n",
      "first line\\nsecond line\n",
      "b'first line\\nsecond line'\n",
      "['first', 'line', 'second', 'line']\n"
     ]
    }
   ],
   "source": [
    "print('first line\\nsecond line')\n",
    "\n",
    "print(r'first line\\nsecond line')\n",
    "\n",
    "s=b'first line\\nsecond line'\n",
    "print(s)\n",
    "print(s.decode('utf-8').split())"
   ]
  },
  {
   "cell_type": "markdown",
   "id": "06fd19df",
   "metadata": {},
   "source": [
    "# Dictionaries"
   ]
  },
  {
   "cell_type": "code",
   "execution_count": 128,
   "id": "6c298697",
   "metadata": {},
   "outputs": [
    {
     "name": "stdout",
     "output_type": "stream",
     "text": [
      "{'dad': 'homer', 'mom': 'marge', 'size': 6}\n",
      "homer\n",
      "3\n",
      "dict_keys(['dad', 'mom', 'size'])\n",
      "dict_items([('dad', 'homer'), ('mom', 'marge'), ('size', 6)])\n",
      "dict_values(['homer', 'marge', 6])\n",
      "True\n",
      "False\n",
      "{'dad': 'homer', 'mom': 'marge', 'size': 6, 'cat': 'snowball'}\n",
      "{'dad': 'homer', 'mom': 'marge', 'size': 6, 'cat': 'snowball 2'}\n",
      "{'dad': 'homer', 'mom': 'marge', 'size': 6}\n",
      "{'dad': 'homer', 'mom': 'marge', 'size': 6, 'cat': ['bart', 'lisa']}\n",
      "{'mom': 'marge', 'size': 6, 'cat': ['bart', 'lisa']}\n",
      "{'mom': 'marge', 'size': 6, 'cat': ['bart', 'lisa'], 'baby': 'maggie', 'grandpa': 'abe'}\n",
      "{'mom': 'marge', 'size': 6, 'cat': ['bart', 'lisa'], 'baby': 'maggie', 'grandpa': 'abe'}\n",
      "marge\n",
      "Error 'grandma'\n",
      "None\n",
      "not found\n"
     ]
    },
    {
     "data": {
      "text/plain": [
       "'bart'"
      ]
     },
     "execution_count": 128,
     "metadata": {},
     "output_type": "execute_result"
    }
   ],
   "source": [
    "# create a dictionay\n",
    "empty_dict= {}\n",
    "empty_dict= dict()\n",
    "\n",
    "# convert a list of tuples into a dictionary \n",
    "list_of_tuples=[('dad', 'homer'), ('mom', 'marge'), ('size', 6)]\n",
    "family= dict(list_of_tuples)\n",
    "print(family)\n",
    "\n",
    "# examine a dictionary\n",
    "print(family['dad'])\n",
    "print(len(family))\n",
    "print(family.keys())\n",
    "print(family.items())\n",
    "print(family.values())\n",
    "\n",
    "print('mom' in family)\n",
    "print('marge' in family) # only check keys\n",
    "\n",
    "\n",
    "# modify a dictionary\n",
    "family['cat']= 'snowball'\n",
    "print(family)\n",
    "family['cat']= 'snowball 2'\n",
    "print(family)\n",
    "del family['cat']\n",
    "print(family)\n",
    "family['cat']=['bart', 'lisa']\n",
    "print(family)\n",
    "family.pop('dad')\n",
    "print(family)\n",
    "family.update({'baby':'maggie', 'grandpa':'abe'})\n",
    "print(family)\n",
    "\n",
    "# accessing values more safely with get\n",
    "family['grandpa']\n",
    "print(family)\n",
    "print(family.get('mom'))\n",
    "\n",
    "try:\n",
    "    family['grandma']\n",
    "except KeyError as e:\n",
    "    print(\"Error\", e)\n",
    "    \n",
    "print(family.get(\"grandma\"))\n",
    "print(family.get(\"grandma\", \"not found\"))\n",
    "\n",
    "# accessing a list elemnt within a dictionary\n",
    "\n",
    "family['cat'][0]"
   ]
  },
  {
   "cell_type": "markdown",
   "id": "c16360a1",
   "metadata": {},
   "source": [
    "# Sets\n",
    "- Like dictionaries, but with unique keys only"
   ]
  },
  {
   "cell_type": "code",
   "execution_count": 150,
   "id": "08e237c8",
   "metadata": {},
   "outputs": [
    {
     "name": "stdout",
     "output_type": "stream",
     "text": [
      "languages=  {'java', 'r', 'python'}\n",
      "snak_lst=  {'cobra', 'python', 'viper'}\n",
      "3\n",
      "True\n",
      "{'python'}\n",
      "{'python', 'cobra', 'viper', 'java', 'r'}\n",
      "{'java', 'r'}\n",
      "{'cobra', 'viper'}\n",
      "{'java', 'r', 'python', 'sql'}\n",
      "Error 'c'\n",
      "None\n",
      "r\n",
      "{'python', 'sql'}\n"
     ]
    },
    {
     "data": {
      "text/plain": [
       "[4, 5, 7, 8, 9]"
      ]
     },
     "execution_count": 150,
     "metadata": {},
     "output_type": "execute_result"
    }
   ],
   "source": [
    "empty_set=set()\n",
    "\n",
    "# create set\n",
    "languages={'python', 'r', 'java'}\n",
    "snakes=set(languages)\n",
    "print(\"languages= \",snakes)\n",
    "# create a set from list\n",
    "snak_lst=set(['cobra', 'viper', 'python'])\n",
    "print(\"snak_lst= \",snak_lst)\n",
    "\n",
    "# examine a set \n",
    "print(len(snakes))\n",
    "print('python' in languages)\n",
    "\n",
    "# set operations\n",
    "print(languages & snak_lst)\n",
    "print(languages | snak_lst)\n",
    "print(languages - snak_lst)\n",
    "print(snak_lst-languages)\n",
    "\n",
    "# modify a set \n",
    "languages.add('sql')\n",
    "print(languages)\n",
    "languages.remove('java')\n",
    "\n",
    "try:\n",
    "    languages.remove('c')\n",
    "except KeyError as e:\n",
    "    print('Error', e)\n",
    "\n",
    "    \n",
    "print(languages.discard('c')) # remove an element if present , but ignore otherwise\n",
    "print(languages.pop()) # removes and returns an arbitrary element \n",
    "print(languages)\n",
    "languages.clear()   # remove all elements \n",
    "languages.update('go', 'spark')\n",
    "\n",
    "# get a sorted list of unique elements from a list\n",
    "sorted(set([9, 8, 5, 4, 7]))"
   ]
  },
  {
   "cell_type": "markdown",
   "id": "968eac33",
   "metadata": {},
   "source": [
    "# Execution control statements"
   ]
  },
  {
   "cell_type": "code",
   "execution_count": 153,
   "id": "ac8f40dd",
   "metadata": {},
   "outputs": [
    {
     "name": "stdout",
     "output_type": "stream",
     "text": [
      "Give a number: -3\n",
      "The number is negative\n"
     ]
    }
   ],
   "source": [
    "# conditional statements\n",
    "x = int(input(\"Give a number: \"))\n",
    "if x> 0:\n",
    "    print(\"The number is positive\")\n",
    "elif x<0:\n",
    "    print(\"The number is negative\")\n",
    "else:\n",
    "    print(\"The number is zero\")"
   ]
  },
  {
   "cell_type": "code",
   "execution_count": 157,
   "id": "aaf610eb",
   "metadata": {},
   "outputs": [
    {
     "name": "stdout",
     "output_type": "stream",
     "text": [
      "APPLE\n",
      "BANANA\n",
      "CHERRY\n",
      "apple\n",
      "banana\n",
      "cherry\n"
     ]
    }
   ],
   "source": [
    "fruits=['Apple', 'Banana', 'Cherry' ]\n",
    "for i in range(len(fruits)):\n",
    "    print(fruits[i].upper())\n",
    "\n",
    "for fruit in fruits: \n",
    "    print(fruit.lower())"
   ]
  },
  {
   "cell_type": "code",
   "execution_count": 188,
   "id": "71a1a03a",
   "metadata": {},
   "outputs": [
    {
     "name": "stdout",
     "output_type": "stream",
     "text": [
      "{'too': 0, 'our': 0, 'pinch': 0, 'to': 0, 'are': 0, 'stumble': 0, 'incomes': 0, 'if': 0, 'like': 0, 'they': 0, 'small': 0, 'large': 0, 'and': 0, 'us': 0, 'cause': 0, 'gall': 0, 'but': 0, 'shoes;': 0, 'trip': 0}\n",
      "{'too': 2, 'our': 2, 'pinch': 1, 'to': 2, 'are': 1, 'stumble': 1, 'incomes': 1, 'if': 2, 'like': 1, 'they': 2, 'small': 1, 'large': 1, 'and': 2, 'us': 2, 'cause': 1, 'gall': 1, 'but': 1, 'shoes;': 1, 'trip': 1}\n"
     ]
    }
   ],
   "source": [
    "# Count words in sentence \n",
    "quote = \"\"\"\n",
    "our incomes are like our shoes; if too small they gall and pinch us\n",
    "but if too large they cause us to stumble and to trip\n",
    "\"\"\"\n",
    "\n",
    "count = {k:0 for k in set(quote.split())}\n",
    "print(count)\n",
    "\n",
    "for word in quote.split():\n",
    "    count[word] += 1\n",
    "print(count)"
   ]
  },
  {
   "cell_type": "code",
   "execution_count": 197,
   "id": "9f79a8a1",
   "metadata": {},
   "outputs": [
    {
     "name": "stdout",
     "output_type": "stream",
     "text": [
      "the key dad and it's value is homer\n",
      "the key mom and it's value is marge\n",
      "the key size and it's value is 6\n"
     ]
    }
   ],
   "source": [
    "# iterate through two things at once\n",
    "\n",
    "family= {'dad':'homer', 'mom': 'marge', 'size':6}\n",
    "for key, value in family.items():\n",
    "    print(\"the key %s and it's value is %s\"%(key, value))"
   ]
  },
  {
   "cell_type": "code",
   "execution_count": 201,
   "id": "64a3d6c0",
   "metadata": {},
   "outputs": [
    {
     "name": "stdout",
     "output_type": "stream",
     "text": [
      "0 dad homer\n",
      "1 mom marge\n",
      "2 size 6\n"
     ]
    }
   ],
   "source": [
    "#use enumerate if you need to access the index \n",
    "for index, (key, value) in enumerate(family.items()):\n",
    "    print(index, key, value)"
   ]
  },
  {
   "cell_type": "code",
   "execution_count": 202,
   "id": "ab4d084f",
   "metadata": {},
   "outputs": [
    {
     "name": "stdout",
     "output_type": "stream",
     "text": [
      "this will print 5 times !!\n",
      "this will print 5 times !!\n",
      "this will print 5 times !!\n",
      "this will print 5 times !!\n",
      "this will print 5 times !!\n"
     ]
    }
   ],
   "source": [
    "# while loop \n",
    "i=0\n",
    "while i<5:\n",
    "    print(\"this will print 5 times !!\")\n",
    "    i+=1"
   ]
  },
  {
   "cell_type": "code",
   "execution_count": 203,
   "id": "0df8fcf4",
   "metadata": {},
   "outputs": [
    {
     "name": "stdout",
     "output_type": "stream",
     "text": [
      "the key c is missing , add it with empty value\n",
      "{'a': [1, 2], 'b': [6, 7], 'c': []}\n"
     ]
    }
   ],
   "source": [
    "# Exceptions handling\n",
    "dct= dict(a=[1, 2], b=[6, 7])\n",
    "key= 'c'\n",
    "try:\n",
    "    dct[key]\n",
    "except: \n",
    "    print(\"the key %s is missing , add it with empty value\"% key)\n",
    "    dct[key]=list()\n",
    "    \n",
    "print(dct)"
   ]
  },
  {
   "cell_type": "code",
   "execution_count": 205,
   "id": "fea15b49",
   "metadata": {},
   "outputs": [
    {
     "data": {
      "text/plain": [
       "['deux', 'trois', 3, 4]"
      ]
     },
     "execution_count": 205,
     "metadata": {},
     "output_type": "execute_result"
    }
   ],
   "source": [
    "# functions \n",
    "def add(a, b):\n",
    "    return a+b\n",
    "add(['deux','trois'] , [3,4])"
   ]
  },
  {
   "cell_type": "code",
   "execution_count": 206,
   "id": "3a4bca68",
   "metadata": {},
   "outputs": [
    {
     "data": {
      "text/plain": [
       "390625"
      ]
     },
     "execution_count": 206,
     "metadata": {},
     "output_type": "execute_result"
    }
   ],
   "source": [
    "# power of number \n",
    "def power_this(x, power):\n",
    "    return x**power\n",
    "power_this(5, 8)\n",
    "    "
   ]
  },
  {
   "cell_type": "code",
   "execution_count": 207,
   "id": "0630fb88",
   "metadata": {},
   "outputs": [],
   "source": [
    "# une \"pass\" as placeholder if we haven't written the function body\n",
    "def stub():\n",
    "    pass\n"
   ]
  },
  {
   "cell_type": "code",
   "execution_count": 208,
   "id": "27206e1b",
   "metadata": {},
   "outputs": [
    {
     "data": {
      "text/plain": [
       "(4, 99)"
      ]
     },
     "execution_count": 208,
     "metadata": {},
     "output_type": "execute_result"
    }
   ],
   "source": [
    "def min_max(value):\n",
    "    return min(value), max(value)\n",
    "value=[7, 8, 9, 99, 65, 4]\n",
    "min_max(value)"
   ]
  },
  {
   "cell_type": "markdown",
   "id": "08d186a2",
   "metadata": {},
   "source": [
    " # List comprehensions, iterators, ect"
   ]
  },
  {
   "cell_type": "code",
   "execution_count": 247,
   "id": "b3cec9d2",
   "metadata": {},
   "outputs": [
    {
     "name": "stdout",
     "output_type": "stream",
     "text": [
      "[27, 64, 125, 512]\n",
      "[27, 64, 125, 512]\n",
      "[27]\n",
      "[9, 64, 25, 512]\n",
      "[1, 2, 3, 4]\n"
     ]
    }
   ],
   "source": [
    "nums=[3, 4, 5, 8]\n",
    "cubes=[]\n",
    "for num in nums: \n",
    "    cubes.append(num**3)\n",
    "\n",
    "print(cubes)\n",
    "\n",
    "cube= [k**3 for k in nums ]\n",
    "print(cube)\n",
    "\n",
    "cubes_of_even=[num**3 for num in nums if num%3==0]\n",
    "print(cubes_of_even)\n",
    "\n",
    "cubes_and_squares=[num**3 if num%2==0 else num**2 for num in nums]\n",
    "print(cubes_and_squares)\n",
    "\n",
    "matrix=[[1, 2], [3, 4]]\n",
    "items=[]\n",
    "for row in matrix:\n",
    "    for item in row:\n",
    "        items.append(item)\n",
    "print(items)\n"
   ]
  },
  {
   "cell_type": "code",
   "execution_count": 259,
   "id": "4dfbcf88",
   "metadata": {},
   "outputs": [
    {
     "data": {
      "text/plain": [
       "(2, 3, 7)"
      ]
     },
     "execution_count": 259,
     "metadata": {},
     "output_type": "execute_result"
    }
   ],
   "source": [
    "m = [[0,7,0],[2,1,1]]\n",
    "print(\"le nmbre de lignes len(m)\", len(m), \"le nombre de colonnes \",len(m[1]), m[0][1]"
   ]
  },
  {
   "cell_type": "code",
   "execution_count": 298,
   "id": "9a992f23",
   "metadata": {},
   "outputs": [
    {
     "data": {
      "text/plain": [
       "[[0, 0, 0], [9, 8, 4], [9, 8, 4]]"
      ]
     },
     "execution_count": 298,
     "metadata": {},
     "output_type": "execute_result"
    }
   ],
   "source": [
    "# multiplication de deux matrices\n",
    "\n",
    "m1 = [[0,0,0],[2,1,1],[2,1,1]]\n",
    "m2 = [[3,2,1],[3,3,0],[0,1,2]]\n",
    "\n",
    "def multiplication(m1, m2):\n",
    "    m=[[0 for row in range(len(m1))] for col in range(len(m2[0]))]\n",
    "    if len(m1)!= len(m2[0]):\n",
    "        print(\"error\")\n",
    "        return False\n",
    "   \n",
    "    for i in range(len(m1)):\n",
    "        ligne=[]\n",
    "        for j in range(len(m2[0])):\n",
    "            sum1=0\n",
    "            for k in range(len(m2[0])):\n",
    "                sum1+= m1[i][k]*m2[k][j]\n",
    "               # print(m1[i][k], m2[k][j])\n",
    "                \n",
    "            m[i][j]+=  sum1\n",
    "    return m\n",
    "            \n",
    "multiplication(m1, m2)        "
   ]
  },
  {
   "cell_type": "code",
   "execution_count": 300,
   "id": "1c96d849",
   "metadata": {},
   "outputs": [
    {
     "data": {
      "text/plain": [
       "{'HOMER': 46, 'MARGE': 46, 'BART': 11, 'LISA': 11}"
      ]
     },
     "execution_count": 300,
     "metadata": {},
     "output_type": "execute_result"
    }
   ],
   "source": [
    "simpsons={'Homer': 45, 'Marge': 45, 'Bart': 10 , 'Lisa': 10}\n",
    "\n",
    "dct={key.upper(): value+1 for key, value in simpsons.items()}\n",
    "dct"
   ]
  },
  {
   "cell_type": "markdown",
   "id": "40c164f6",
   "metadata": {},
   "source": [
    "# Regular expression"
   ]
  },
  {
   "cell_type": "code",
   "execution_count": 303,
   "id": "1ed54628",
   "metadata": {},
   "outputs": [
    {
     "name": "stdout",
     "output_type": "stream",
     "text": [
      "[('sub-033', 'ses-01', 'mod-mri'), ('sub-044', 'ses-01', 'mod-mri'), ('sub-055', 'ses-02', 'mod-ctscan')]\n"
     ]
    }
   ],
   "source": [
    "import re \n",
    "\n",
    "regex= re.compile(\"^.+(sub-.+)_(ses-.+)_(mod-.+)\")\n",
    "string = [\"abcsub-033_ses-01_mod-mri\", \"defsub-044_ses-01_mod-mri\", \"ghisub-055_ses-02_mod-ctscan\" ]\n",
    "print([regex.findall(s)[0] for s in string])\n"
   ]
  },
  {
   "cell_type": "code",
   "execution_count": 305,
   "id": "f8f20d8b",
   "metadata": {},
   "outputs": [
    {
     "name": "stdout",
     "output_type": "stream",
     "text": [
      "['abcSUB-_ses-01_mod-mri', 'defSUB-_ses-01_mod-mri', 'ghiSUB-_ses-02_mod-ctscan']\n"
     ]
    },
    {
     "data": {
      "text/plain": [
       "'toto'"
      ]
     },
     "execution_count": 305,
     "metadata": {},
     "output_type": "execute_result"
    }
   ],
   "source": [
    "# Replace compiled RE on string\n",
    "regex=re.compile(\"(sub-[^_]+)\")\n",
    "print([regex.sub('SUB-', s) for s in string])\n",
    "regex.sub(\"SUB-\", \"toto\")"
   ]
  },
  {
   "cell_type": "code",
   "execution_count": 316,
   "id": "58f351e2",
   "metadata": {},
   "outputs": [
    {
     "data": {
      "text/plain": [
       "'helloworld'"
      ]
     },
     "execution_count": 316,
     "metadata": {},
     "output_type": "execute_result"
    }
   ],
   "source": [
    "# Replace all non_alphanumeric characters in a string\n",
    "re.sub('[^0-9a-zA-Z]+', '', 'h^ell`.,|o w]{+orld')"
   ]
  },
  {
   "cell_type": "markdown",
   "id": "aa5dcb5f",
   "metadata": {},
   "source": [
    "# System programming "
   ]
  },
  {
   "cell_type": "code",
   "execution_count": 348,
   "id": "e69e69f8",
   "metadata": {},
   "outputs": [
    {
     "name": "stdout",
     "output_type": "stream",
     "text": [
      "C:\\Users\\PC\\python\\Python pour le data scientist\n"
     ]
    }
   ],
   "source": [
    "#operating system interfaces\n",
    "import os \n",
    "# get the current working directory\n",
    "cwd=os.getcwd()\n",
    "print(cwd)\n",
    "\n",
    "# set the current working directory\n",
    "os.chdir(cwd)"
   ]
  },
  {
   "cell_type": "code",
   "execution_count": 322,
   "id": "e54213d6",
   "metadata": {},
   "outputs": [
    {
     "name": "stdout",
     "output_type": "stream",
     "text": [
      "C:\\Users\\PC\\AppData\\Local\\Temp\n"
     ]
    }
   ],
   "source": [
    "# temorary directory\n",
    "import tempfile\n",
    "tmpdir=tempfile.gettempdir()\n",
    "print(tmpdir)"
   ]
  },
  {
   "cell_type": "code",
   "execution_count": 351,
   "id": "00a3a244",
   "metadata": {},
   "outputs": [
    {
     "data": {
      "text/plain": [
       "[]"
      ]
     },
     "execution_count": 351,
     "metadata": {},
     "output_type": "execute_result"
    }
   ],
   "source": [
    "#Create a directory\n",
    "if not os.path.exists(mytmpdir):\n",
    "    os.mkdir(mytmpdir)\n",
    "    \n",
    "os.makedirs(os.path.join(tmpdir, 'foobar', \"plop\"), exist_ok=True)\n",
    "\n",
    "# join paths\n",
    "mytmpdir= os.path.join(cwd, \"foobar\")\n",
    "#list containing the names of the entries in the directory given by path \n",
    "os.listdir(mytmpdir)"
   ]
  },
  {
   "cell_type": "markdown",
   "id": "9b845536",
   "metadata": {},
   "source": [
    "# File input.output"
   ]
  },
  {
   "cell_type": "code",
   "execution_count": 352,
   "id": "a5c6a448",
   "metadata": {},
   "outputs": [
    {
     "name": "stdout",
     "output_type": "stream",
     "text": [
      "C:\\Users\\PC\\python\\Python pour le data scientist\\foobar\\myfile.txt\n"
     ]
    }
   ],
   "source": [
    "filename=os.path.join(mytmpdir, \"myfile.txt\")\n",
    "print(filename)"
   ]
  },
  {
   "cell_type": "code",
   "execution_count": 382,
   "id": "8f4b9014",
   "metadata": {},
   "outputs": [
    {
     "data": {
      "text/plain": [
       "['Dans python tout est bon\\n', 'enfin presque\\n', \"c'est le meuiller\\n\"]"
      ]
     },
     "execution_count": 382,
     "metadata": {},
     "output_type": "execute_result"
    }
   ],
   "source": [
    "#write \n",
    "lines= [\"Dans python tout est bon\", \"enfin presque\", \"c'est le meuiller\"]\n",
    "# write line by line\n",
    "#fp=open(filename,\"w\")\n",
    "#fp.write(lines[0]+ \"\\n\")\n",
    "#fp.write(lines[1]+ \"\\n\")\n",
    "#fp.close()\n",
    "\n",
    "#use a context manager to automatically close your file \n",
    "with open(filename, 'w') as f:\n",
    "    for line in lines:\n",
    "        f.write(line+ \"\\n\")\n",
    "        \n",
    "# Read\n",
    "#Read one line at time\n",
    "f=open(filename, \"r\")\n",
    "f.readline()\n",
    "f.readline()\n",
    "f.close()\n",
    "\n",
    "# Readthe whole file at once\n",
    "f=open(filename, \"r\")\n",
    "f.readlines()\n",
    "f.close()\n",
    "\n",
    "# use list\n",
    "f=open(filename, 'r')\n",
    "[line for line in f]\n",
    "f.close()\n",
    "\n",
    "\n",
    "#use a context manager to automatically close your file \n",
    "with open(filename, 'r') as f:\n",
    "    lines=[line for line in f]\n",
    "lines\n",
    "    "
   ]
  },
  {
   "cell_type": "code",
   "execution_count": 393,
   "id": "6a7f70a6",
   "metadata": {},
   "outputs": [
    {
     "data": {
      "text/plain": [
       "['first line\\n', 'second line\\n', 'third line\\n']"
      ]
     },
     "execution_count": 393,
     "metadata": {},
     "output_type": "execute_result"
    }
   ],
   "source": [
    "tmp_dir= os.path.join(cwd, \"leila_doc\")\n",
    "if not os.path.exists(tmp_dir):\n",
    "    os.mkdir(tmp_dir)\n",
    "    \n",
    "filenm=os.path.join(tmp_dir, \"leila.txt\")\n",
    "#write \n",
    "docs=[\"first line\", \"second line\", \"third line\"]\n",
    "\n",
    "with open(filenm , \"w\") as f:\n",
    "    for line in docs:\n",
    "        f.write(line + '\\n')\n",
    "    \n",
    "#Read\n",
    "with open(filenm, \"r\") as f:\n",
    "    #lines=[line for line in f]\n",
    "    lines= f.readlines()\n",
    "lines"
   ]
  },
  {
   "cell_type": "markdown",
   "id": "7c75ef37",
   "metadata": {},
   "source": [
    "# Explore, list directories"
   ]
  },
  {
   "cell_type": "code",
   "execution_count": 379,
   "id": "63268625",
   "metadata": {},
   "outputs": [
    {
     "name": "stdout",
     "output_type": "stream",
     "text": [
      "C:\\Users\\PC\\python\\Python pour le data scientist\\foobar\\foobar\n"
     ]
    }
   ],
   "source": [
    "import os \n",
    "\n",
    "WD=os.path.join(mytmpdir, \"foobar\")\n",
    "print(WD)\n",
    "\n",
    "for dirpath, dirnames, filenames in os.walk(WD):\n",
    "    print(dirpath, dirnames, filenames)"
   ]
  },
  {
   "cell_type": "code",
   "execution_count": 381,
   "id": "c1c1f296",
   "metadata": {},
   "outputs": [
    {
     "name": "stdout",
     "output_type": "stream",
     "text": [
      "[]\n"
     ]
    }
   ],
   "source": [
    "import tempfile\n",
    "import glob\n",
    "\n",
    "tmpdir= tempfile.gettempdir()\n",
    "filenames = glob.glob(os.path.join(tmpdir, \"*\", \"*.txt\"))\n",
    "# take basename then remove extension\n",
    "basenames = [os.path.splitext(os.path.basename(f))[0] for f in filenames]\n",
    "print(basenames)"
   ]
  },
  {
   "cell_type": "markdown",
   "id": "3bc34ee2",
   "metadata": {},
   "source": [
    "# Multiprocessing and Multithreading\n",
    "\n",
    "- In Python:\n",
    "     -  The threading module uses threads\n",
    "     -   The multiprocessing module uses processes"
   ]
  },
  {
   "cell_type": "code",
   "execution_count": 418,
   "id": "265d3069",
   "metadata": {},
   "outputs": [
    {
     "name": "stdout",
     "output_type": "stream",
     "text": [
      "Threading ellapsed time  3.1032509803771973\n",
      "[0, 1, 2, 3, 4, 5, 6, 7, 8, 9]\n"
     ]
    }
   ],
   "source": [
    "# Multithreading\n",
    "import time \n",
    "import threading\n",
    "\n",
    "def list_append(count, sign=1, outlist=None):\n",
    "    if outlist is None:\n",
    "        outlist=list()\n",
    "    for i in range(count):\n",
    "        outlist.append(sign*i)\n",
    "        sum(outlist)\n",
    "    return outlist\n",
    "\n",
    "size=10000\n",
    "outlist=list()\n",
    "#outlist2=list()\n",
    "thread1=threading.Thread(target=list_append, args=(size, 1, outlist, ))\n",
    "thread2=threading.Thread(target=list_append, args=(size, -1, outlist, ))\n",
    "\n",
    "startime=time.time()\n",
    "# will execute both in parallel\n",
    "thread1.start()\n",
    "thread2.start()\n",
    "#Joind threads back to the parent process\n",
    "thread1.join()\n",
    "thread2.join()\n",
    "print(\"Threading ellapsed time \", time.time()-startime)\n",
    "print(outlist[:10])\n",
    "#print(outlist2[:10])"
   ]
  },
  {
   "cell_type": "code",
   "execution_count": 420,
   "id": "3635e77e",
   "metadata": {},
   "outputs": [
    {
     "name": "stdout",
     "output_type": "stream",
     "text": [
      "[0, 1, 2, 3, 4, 5, 6, 7, 8, 9]\n",
      "Multiprocessing ellapsed time  0.13277387619018555\n"
     ]
    }
   ],
   "source": [
    "# Multiprocessing\n",
    "\n",
    "import multiprocessing \n",
    "\n",
    "# sharing requires specific mecanism\n",
    "outlist1= multiprocessing.Manager().list()\n",
    "p1= multiprocessing.Process(target=list_append, args=(size, 1, None))\n",
    "\n",
    "outlist2= multiprocessing.Manager().list()\n",
    "p2= multiprocessing.Process(target=list_append, args=(size, -1, None))\n",
    "\n",
    "startime= time.time()\n",
    "p1.start()\n",
    "p2.start()\n",
    "p1.join()\n",
    "p2.join()\n",
    "\n",
    "print(outlist[:10])\n",
    "print(\"Multiprocessing ellapsed time \", time.time()-startime)"
   ]
  },
  {
   "cell_type": "code",
   "execution_count": 454,
   "id": "989dd608",
   "metadata": {},
   "outputs": [
    {
     "name": "stdout",
     "output_type": "stream",
     "text": [
      "[0, 1, 2, 3, 4, 5, 6, 7, 8, 9]\n",
      "Multiprocessing ellapsed time  0.1493675708770752\n"
     ]
    }
   ],
   "source": [
    "# Sharing object between process with managers \n",
    "\n",
    "import multiprocessing\n",
    "import time \n",
    "\n",
    "size= int(size/100)\n",
    "\n",
    "outlist1= multiprocessing.Manager().list()\n",
    "p1= multiprocessing.Process(target=list_append, args=(size, 1, None))\n",
    "p2= multiprocessing.Process(target=list_append, args=(size, -1, None))\n",
    "\n",
    "startime= time.time()\n",
    "p2.start()\n",
    "p1.start()\n",
    "p2.join()\n",
    "p1.join()\n",
    "\n",
    "print(outlist[:10])\n",
    "print(\"Multiprocessing ellapsed time \", time.time()-startime)\n"
   ]
  },
  {
   "cell_type": "markdown",
   "id": "44b8febc",
   "metadata": {},
   "source": [
    "# Scripts and argument parsing"
   ]
  },
  {
   "cell_type": "code",
   "execution_count": 471,
   "id": "6a5bf5f6",
   "metadata": {},
   "outputs": [
    {
     "name": "stderr",
     "output_type": "stream",
     "text": [
      "usage: ipykernel_launcher.py [-h] [-i INPUT [INPUT ...]] [-o OUTPUT]\n",
      "ipykernel_launcher.py: error: unrecognized arguments: -f C:\\Users\\PC\\AppData\\Roaming\\jupyter\\runtime\\kernel-5262fd6c-8207-4bca-b003-aa65ea14da9e.json\n"
     ]
    },
    {
     "ename": "SystemExit",
     "evalue": "2",
     "output_type": "error",
     "traceback": [
      "An exception has occurred, use %tb to see the full traceback.\n",
      "\u001b[1;31mSystemExit\u001b[0m\u001b[1;31m:\u001b[0m 2\n"
     ]
    }
   ],
   "source": [
    "# word count script\n",
    "\n",
    "#args = parser.parse_args() has conflict with jupyter notebook.\n",
    "#we can python filename.py to run these code.\n",
    "\n",
    "import os\n",
    "import os.path\n",
    "import argparse\n",
    "import re\n",
    "import pandas as pd \n",
    "\n",
    "\n",
    "\n",
    "if __name__==\"__main__\":\n",
    "    # parse command line options\n",
    "    output='word_count.csv'\n",
    "    parser=argparse.ArgumentParser()\n",
    "    parser.add_argument('-i', '--input', \n",
    "                        help='list of input file', \n",
    "                        nargs='+', type=str)\n",
    "    parser.add_argument('-o', '--output', \n",
    "                        help='output csv file(default %s)'%output, \n",
    "                        type=str, default=output)\n",
    "    options= parser.parse_args()\n",
    "    \n",
    "    if options.input is None:\n",
    "        parser.print_help()\n",
    "        raise SystemExit(\"Error: input files are missing\")\n",
    "    else: \n",
    "        filenames=[f for f in options.input if os.path.isfile(f)]\n",
    " \n",
    "        # Match words \n",
    "        regex= re.compile(\"[a-zA-Z]+\")\n",
    "        \n",
    "        count= dict()\n",
    "        for filename in filenames:\n",
    "            fd= open(filename, 'r')\n",
    "            for line in fd:\n",
    "                for word in regex.findall(line.lower()):\n",
    "                    if not word in count: \n",
    "                        count[word]=1\n",
    "                    else:\n",
    "                        count[word]+=1\n",
    "        fd= open(options.output, \"w\")\n",
    "        \n",
    "        # pandas\n",
    "        df= pd.DataFrame([[k, count[k]] for k in count], columns=[\"word\", \"count\"])\n",
    "        df.to_csv(options.output, index=False)\n",
    "    \n",
    "        "
   ]
  },
  {
   "cell_type": "markdown",
   "id": "f343eb6a",
   "metadata": {},
   "source": [
    "# FTP"
   ]
  },
  {
   "cell_type": "code",
   "execution_count": 484,
   "id": "ba254e8f",
   "metadata": {},
   "outputs": [
    {
     "name": "stdout",
     "output_type": "stream",
     "text": [
      "-rw-r--r--    1 ftp      ftp          3019 Oct 16  2019 README.md\n",
      "-rw-r--r--    1 ftp      ftp      10672252 Dec 18  2020 StatisticsMachineLearningPython.pdf\n",
      "-rw-r--r--    1 ftp      ftp       9676120 Nov 12  2020 StatisticsMachineLearningPythonDraft.pdf\n",
      "-rw-r--r--    1 ftp      ftp       9798485 Jul 08  2020 StatisticsMachineLearningPythonDraft_202007.pdf\n"
     ]
    },
    {
     "data": {
      "text/plain": [
       "('C:\\\\Users\\\\PC\\\\AppData\\\\Local\\\\Temp\\\\README2.md',\n",
       " <email.message.Message at 0x259ca9215b0>)"
      ]
     },
     "execution_count": 484,
     "metadata": {},
     "output_type": "execute_result"
    }
   ],
   "source": [
    "import ftplib\n",
    "ftp = ftplib.FTP(\"ftp.cea.fr\")\n",
    "ftp.login()\n",
    "ftp.cwd('/pub/unati/people/educhesnay/pystatml')\n",
    "ftp.retrlines('LIST')\n",
    "fd = open(os.path.join(tmpdir, \"README.md\"), \"wb\")\n",
    "ftp.retrbinary('RETR README.md', fd.write)\n",
    "fd.close()\n",
    "ftp.quit()\n",
    "\n",
    "\n",
    "#file download urllib\n",
    "import urllib.request\n",
    "\n",
    "ftp_url='ftp://ftp.cea.fr/pub/unati/people/educhesnay/pystatml/README.md'\n",
    "urllib.request.urlretrieve(ftp_url, os.path.join(tmpdir, \"README2.md\"))"
   ]
  },
  {
   "cell_type": "markdown",
   "id": "b19a349f",
   "metadata": {},
   "source": [
    "# Modules and packages\n",
    "\n",
    "- A module is python file.\n",
    "- A package is directory which Must contain a special file called    \"__init__\".py"
   ]
  },
  {
   "cell_type": "markdown",
   "id": "0b9de658",
   "metadata": {},
   "source": [
    "# Object Oriented Programming (OOP)\n",
    "\n",
    "- Principles\n",
    "        • Encapsulate data (attributes) and code (methods) into objects.\n",
    "        • Class = template or blueprint that can be used to create objects.\n",
    "        • An object is a specific instance of a class.\n",
    "        • Inheritance: OOP allows classes to inherit commonly used state and behaviour from other\n",
    "        classes. Reduce code duplication\n",
    "        • Polymorphism: (usually obtained through polymorphism) calling code is agnostic as to\n",
    "        whether an object belongs to a parent class or one of its descendants (abstraction, modularity). The same method called on 2 objects of 2 different classes will behave differently.\n"
   ]
  },
  {
   "cell_type": "code",
   "execution_count": 491,
   "id": "f1031a62",
   "metadata": {},
   "outputs": [
    {
     "name": "stdout",
     "output_type": "stream",
     "text": [
      "[4, 28.274333882308138]\n"
     ]
    }
   ],
   "source": [
    "import math\n",
    "class Shape2D:\n",
    "    def area(self):\n",
    "        raise NotImplementedError()\n",
    "        \n",
    "# __init__ is a special method called the constructor \n",
    "class Square(Shape2D): \n",
    "    def __init__(self, width):\n",
    "        self.width=width\n",
    "        \n",
    "    def area(self):\n",
    "        return self.width**2\n",
    "\n",
    "class Disk(Shape2D):\n",
    "    def __init__(self, radius):\n",
    "        self.radius=radius\n",
    "    def area(self):\n",
    "        return math.pi*self.radius**2\n",
    "    \n",
    "shapes=[Square(2), Disk(3)]\n",
    "# polymorphism\n",
    "print([s.area() for s in shapes])"
   ]
  },
  {
   "cell_type": "code",
   "execution_count": 494,
   "id": "d8c58e9b",
   "metadata": {},
   "outputs": [
    {
     "name": "stdout",
     "output_type": "stream",
     "text": [
      "NotImplementedError\n"
     ]
    }
   ],
   "source": [
    "s=Shape2D()\n",
    "try: \n",
    "    s.area()\n",
    "except NotImplementedError as e:\n",
    "    print(\"NotImplementedError\")"
   ]
  },
  {
   "cell_type": "markdown",
   "id": "8d3b6e4a",
   "metadata": {},
   "source": [
    "# Style guide for Python programming\n",
    "- PEP8: \n",
    "        • Spaces (four) are the preferred indentation method.\n",
    "        • Two blank lines for top level function or classes definition.\n",
    "        • One blank line to indicate logical sections.\n",
    "        • Never use: from lib import *\n",
    "        • Bad: Capitalized_Words_With_Underscores\n",
    "        • Function and Variable Names: lower_case_with_underscores\n",
    "        • Class Names: CapitalizedWords (aka: CamelCase)\n"
   ]
  },
  {
   "cell_type": "markdown",
   "id": "1dd845db",
   "metadata": {},
   "source": [
    "# Documenting "
   ]
  },
  {
   "cell_type": "code",
   "execution_count": 497,
   "id": "77344797",
   "metadata": {},
   "outputs": [
    {
     "name": "stdout",
     "output_type": "stream",
     "text": [
      "Help on function my_function in module __main__:\n",
      "\n",
      "my_function(a, b)\n",
      "    this function do the sum of a and b\n",
      "    \n",
      "    parameters\n",
      "    ---------\n",
      "    a: float\n",
      "       First operand\n",
      "    b: float\n",
      "        Sencond operand\n",
      "        \n",
      "    Returns\n",
      "    -------\n",
      "    sum of operands.\n",
      "    \n",
      "    Example\n",
      "    -------\n",
      "    >>> my_function(3, 5)\n",
      "    >>> 8\n",
      "\n",
      "None\n"
     ]
    }
   ],
   "source": [
    "def my_function(a, b):\n",
    "    \"\"\"\n",
    "    this function do the sum of a and b\n",
    "    \n",
    "    parameters\n",
    "    ---------\n",
    "    a: float\n",
    "       First operand\n",
    "    b: float\n",
    "        Sencond operand\n",
    "        \n",
    "    Returns\n",
    "    -------\n",
    "    sum of operands.\n",
    "    \n",
    "    Example\n",
    "    -------\n",
    "    >>> my_function(3, 5)\n",
    "    >>> 8 \n",
    "    \"\"\"\n",
    "    return a+b\n",
    "print(help(my_function))"
   ]
  },
  {
   "cell_type": "code",
   "execution_count": 532,
   "id": "ba1bbded",
   "metadata": {},
   "outputs": [
    {
     "name": "stdout",
     "output_type": "stream",
     "text": [
      "Employee name: leila khellouf \n",
      "years_of_services: 3 \n",
      "Id : 101\n"
     ]
    },
    {
     "data": {
      "text/plain": [
       "['leila khellouf', 1800]"
      ]
     },
     "execution_count": 532,
     "metadata": {},
     "output_type": "execute_result"
    }
   ],
   "source": [
    "class Employee:\n",
    "    def __init__(self, name, years_of_service, Id):\n",
    "        self.name=name\n",
    "        self.years_of_service=years_of_service\n",
    "        self.Id= Id\n",
    "        \n",
    "    def salary(self):\n",
    "        return 1500+100* self.years_of_service\n",
    "    \n",
    "    def list_salary(self):\n",
    "        return [self.name, self.salary()]\n",
    "    \n",
    "    def display(self):\n",
    "        print(\"Employee name: %s \\nyears_of_services: %s \\nId : %s\"%(self.name, self.years_of_service, self.Id))\n",
    "    \n",
    "class Manger(Employee):\n",
    "    def __init__(self, years_of_service):\n",
    "        self.years_of_service=years_of_service\n",
    "    def redefine(self):\n",
    "        return 2500+ 120*self.years_of_service\n",
    "    \n",
    "emp1= Employee(\"leila khellouf\", 3, 101)\n",
    "emp1.display()\n",
    "emp1.salary()\n",
    "emp1.list_salary()\n"
   ]
  },
  {
   "cell_type": "code",
   "execution_count": 527,
   "id": "76ef90c8",
   "metadata": {},
   "outputs": [
    {
     "name": "stdout",
     "output_type": "stream",
     "text": [
      "2860\n"
     ]
    }
   ],
   "source": [
    "s=Manger(3)\n",
    "try: \n",
    "    print(s.redefine())\n",
    "except NotImplementedError as e:\n",
    "    print(\"NotImplementedError\")\n",
    "    "
   ]
  }
 ],
 "metadata": {
  "kernelspec": {
   "display_name": "Python 3 (ipykernel)",
   "language": "python",
   "name": "python3"
  },
  "language_info": {
   "codemirror_mode": {
    "name": "ipython",
    "version": 3
   },
   "file_extension": ".py",
   "mimetype": "text/x-python",
   "name": "python",
   "nbconvert_exporter": "python",
   "pygments_lexer": "ipython3",
   "version": "3.9.7"
  }
 },
 "nbformat": 4,
 "nbformat_minor": 5
}
