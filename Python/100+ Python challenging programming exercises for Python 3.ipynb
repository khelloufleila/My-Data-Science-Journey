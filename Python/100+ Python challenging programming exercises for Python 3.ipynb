{
 "cells": [
  {
   "cell_type": "markdown",
   "id": "5493024f",
   "metadata": {},
   "source": [
    "# 100+ Python challenging programming exercises for Python 3\n",
    "---------------------------------------------------------------------\n",
    "\n",
    "## 1. Level description\n",
    " -  Level 1 Beginner\n",
    "    Beginner means someone who has just gone through an introductory Python course. He can solve some problems with 1 or 2 Python classes or functions. Normally, the answers could directly be found in the textbooks.\n",
    "\n",
    " - Level 2 Intermediate\n",
    "    Intermediate means someone who has just learned Python, but already has a relatively strong programming background from before. He should be able to solve problems which may involve 3 or 3 Python classes or functions. The answers cannot be directly be found in the textbooks.\n",
    "\n",
    " - Level 3 Advanced.\n",
    "     He should use Python to solve more complex problem using more rich libraries functions and data structures and algorithms. He is supposed to solve the problem using several Python standard packages and advanced techniques.\n",
    "     \n",
    "---------------------------------------------------------------------\n",
    "## 2. Problem template\n",
    "Question Hints Solution\n",
    "\n",
    "## 3. Questions\n",
    "---------------------------------------------------------------------\n",
    "### Question 1\n",
    "\n",
    "Level 1: \n",
    "Question: Write a program which will find all such numbers which are divisible by 7 but are not a multiple of 5, between 2000 and 3200 (both included). The numbers obtained should be printed in a comma-separated sequence on a single line.\n",
    "\n",
    "Hints: Consider use range(#begin, #end) method\n",
    "\n",
    "Solution:\n"
   ]
  },
  {
   "cell_type": "code",
   "execution_count": 11,
   "id": "590716d0",
   "metadata": {},
   "outputs": [
    {
     "name": "stdout",
     "output_type": "stream",
     "text": [
      "hello there\n",
      "e\n"
     ]
    }
   ],
   "source": [
    "my_string= \"hey there\"\n",
    "my_string=my_string.replace(\"hey\", \"hello\")\n",
    "print(my_string)\n",
    "print(my_string[-1])"
   ]
  },
  {
   "cell_type": "code",
   "execution_count": 17,
   "id": "d84b5ec8",
   "metadata": {},
   "outputs": [
    {
     "data": {
      "text/plain": [
       "['Apple', 'Pineapple']"
      ]
     },
     "execution_count": 17,
     "metadata": {},
     "output_type": "execute_result"
    }
   ],
   "source": [
    "my_list=[\"Orange\", \"Apple\", \"Pineapple\"]\n",
    "new_list=[item for item in my_list  if item.endswith(\"le\")]\n",
    "new_list"
   ]
  },
  {
   "cell_type": "code",
   "execution_count": 19,
   "id": "9cf11b2e",
   "metadata": {},
   "outputs": [
    {
     "name": "stdout",
     "output_type": "stream",
     "text": [
      "Bonjour\n"
     ]
    }
   ],
   "source": [
    "class ClassA(object):\n",
    "    def hi(self):\n",
    "        print(\"hello\")\n",
    "class ClassB(object):\n",
    "    def hi(self):\n",
    "        print('Bonjour')\n",
    "        \n",
    "class ClassC(ClassB, ClassA):\n",
    "    pass\n",
    "\n",
    "ClassC().hi()"
   ]
  },
  {
   "cell_type": "code",
   "execution_count": 26,
   "id": "08094ff7",
   "metadata": {},
   "outputs": [
    {
     "ename": "TypeError",
     "evalue": "myfunct() takes 3 positional arguments but 5 were given",
     "output_type": "error",
     "traceback": [
      "\u001b[1;31m---------------------------------------------------------------------------\u001b[0m",
      "\u001b[1;31mTypeError\u001b[0m                                 Traceback (most recent call last)",
      "\u001b[1;32m~\\AppData\\Local\\Temp/ipykernel_1092/1865913171.py\u001b[0m in \u001b[0;36m<module>\u001b[1;34m\u001b[0m\n\u001b[0;32m      2\u001b[0m     \u001b[0mprint\u001b[0m\u001b[1;33m(\u001b[0m\u001b[0mkwargs\u001b[0m\u001b[1;33m)\u001b[0m\u001b[1;33m\u001b[0m\u001b[1;33m\u001b[0m\u001b[0m\n\u001b[0;32m      3\u001b[0m \u001b[1;33m\u001b[0m\u001b[0m\n\u001b[1;32m----> 4\u001b[1;33m \u001b[0mmyfunct\u001b[0m\u001b[1;33m(\u001b[0m\u001b[1;36m1\u001b[0m\u001b[1;33m,\u001b[0m\u001b[1;36m2\u001b[0m\u001b[1;33m,\u001b[0m \u001b[1;36m3\u001b[0m\u001b[1;33m,\u001b[0m \u001b[1;36m4\u001b[0m\u001b[1;33m,\u001b[0m \u001b[1;36m5\u001b[0m\u001b[1;33m)\u001b[0m\u001b[1;33m\u001b[0m\u001b[1;33m\u001b[0m\u001b[0m\n\u001b[0m",
      "\u001b[1;31mTypeError\u001b[0m: myfunct() takes 3 positional arguments but 5 were given"
     ]
    }
   ],
   "source": [
    "def myfunct(a,b,c, **kwargs):\n",
    "    print(kwargs)\n",
    "    \n",
    "myfunct(1,2, 3, 4, 5)"
   ]
  },
  {
   "cell_type": "code",
   "execution_count": 28,
   "id": "c62316fd",
   "metadata": {},
   "outputs": [
    {
     "name": "stdout",
     "output_type": "stream",
     "text": [
      "<class 'str'>\n",
      "<class 'str'>\n"
     ]
    }
   ],
   "source": [
    "var1=u\"lorem\"\n",
    "var2=\"ipsum\"\n",
    "print(type(var1))\n",
    "print(type(var2))"
   ]
  },
  {
   "cell_type": "code",
   "execution_count": 40,
   "id": "df03bad2",
   "metadata": {},
   "outputs": [
    {
     "name": "stdout",
     "output_type": "stream",
     "text": [
      "{'b': 'ipsum', 'c': 'dolorem'}\n",
      "{'b': 'ipsum', 'c': 'dolorem'}\n"
     ]
    }
   ],
   "source": [
    "my_dict={\n",
    "    \"a\":\"Lorem\",\n",
    "    \"b\":\"ipsum\"\n",
    "}\n",
    "\n",
    "other_dict=my_dict\n",
    "other_dict[\"c\"]=\"dolorem\"\n",
    "del other_dict[\"a\"]\n",
    "\n",
    "print(my_dict)\n",
    "print(other_dict)"
   ]
  },
  {
   "cell_type": "code",
   "execution_count": 42,
   "id": "8664f60c",
   "metadata": {},
   "outputs": [
    {
     "ename": "AttributeError",
     "evalue": "'tuple' object has no attribute 'append'",
     "output_type": "error",
     "traceback": [
      "\u001b[1;31m---------------------------------------------------------------------------\u001b[0m",
      "\u001b[1;31mAttributeError\u001b[0m                            Traceback (most recent call last)",
      "\u001b[1;32m~\\AppData\\Local\\Temp/ipykernel_1092/2062273543.py\u001b[0m in \u001b[0;36m<module>\u001b[1;34m\u001b[0m\n\u001b[0;32m      1\u001b[0m \u001b[0mmy_tuple\u001b[0m\u001b[1;33m=\u001b[0m\u001b[1;33m(\u001b[0m\u001b[1;34m\"x\"\u001b[0m\u001b[1;33m,\u001b[0m \u001b[1;34m\"y\"\u001b[0m\u001b[1;33m)\u001b[0m\u001b[1;33m\u001b[0m\u001b[1;33m\u001b[0m\u001b[0m\n\u001b[1;32m----> 2\u001b[1;33m \u001b[0mmy_tuple\u001b[0m\u001b[1;33m.\u001b[0m\u001b[0mappend\u001b[0m\u001b[1;33m(\u001b[0m\u001b[1;34m\"Z\"\u001b[0m\u001b[1;33m)\u001b[0m\u001b[1;33m\u001b[0m\u001b[1;33m\u001b[0m\u001b[0m\n\u001b[0m\u001b[0;32m      3\u001b[0m \u001b[0mprint\u001b[0m\u001b[1;33m(\u001b[0m\u001b[0mmy_tuple\u001b[0m\u001b[1;33m)\u001b[0m\u001b[1;33m\u001b[0m\u001b[1;33m\u001b[0m\u001b[0m\n",
      "\u001b[1;31mAttributeError\u001b[0m: 'tuple' object has no attribute 'append'"
     ]
    }
   ],
   "source": [
    "my_tuple=(\"x\", \"y\")\n",
    "my_tuple.append(\"Z\")\n",
    "print(my_tuple)"
   ]
  },
  {
   "cell_type": "code",
   "execution_count": 44,
   "id": "9c73dd4a",
   "metadata": {},
   "outputs": [
    {
     "name": "stdout",
     "output_type": "stream",
     "text": [
      "4\n"
     ]
    }
   ],
   "source": [
    "nums=set([1, 1,2, 3, 3, 3, 4])\n",
    "print(len(nums))"
   ]
  },
  {
   "cell_type": "code",
   "execution_count": 48,
   "id": "651666df",
   "metadata": {},
   "outputs": [
    {
     "name": "stdout",
     "output_type": "stream",
     "text": [
      "['orange', 'Apple']\n"
     ]
    }
   ],
   "source": [
    "my_list=['Apple', \"orange\"]\n",
    "my_list.reverse()\n",
    "print(my_list)"
   ]
  },
  {
   "cell_type": "code",
   "execution_count": 39,
   "id": "605642b9",
   "metadata": {},
   "outputs": [
    {
     "name": "stdout",
     "output_type": "stream",
     "text": [
      "2.5\n"
     ]
    }
   ],
   "source": [
    "print(5/2)"
   ]
  },
  {
   "cell_type": "code",
   "execution_count": 37,
   "id": "c61e9de6",
   "metadata": {},
   "outputs": [
    {
     "name": "stdout",
     "output_type": "stream",
     "text": [
      "range(0, 5)\n"
     ]
    }
   ],
   "source": [
    "print(range(5))"
   ]
  },
  {
   "cell_type": "code",
   "execution_count": 35,
   "id": "77497dc3",
   "metadata": {},
   "outputs": [
    {
     "ename": "SyntaxError",
     "evalue": "Missing parentheses in call to 'print'. Did you mean print(\"hey\")? (Temp/ipykernel_1092/3046813824.py, line 1)",
     "output_type": "error",
     "traceback": [
      "\u001b[1;36m  File \u001b[1;32m\"C:\\Users\\PC\\AppData\\Local\\Temp/ipykernel_1092/3046813824.py\"\u001b[1;36m, line \u001b[1;32m1\u001b[0m\n\u001b[1;33m    print \"hey\"\u001b[0m\n\u001b[1;37m          ^\u001b[0m\n\u001b[1;31mSyntaxError\u001b[0m\u001b[1;31m:\u001b[0m Missing parentheses in call to 'print'. Did you mean print(\"hey\")?\n"
     ]
    }
   ],
   "source": [
    "print \"hey\""
   ]
  },
  {
   "cell_type": "code",
   "execution_count": 33,
   "id": "964bafe2",
   "metadata": {},
   "outputs": [
    {
     "name": "stdout",
     "output_type": "stream",
     "text": [
      "Lorem ipsum dolorem\n"
     ]
    }
   ],
   "source": [
    "var1=\"ipsum\"\n",
    "print(f\"Lorem {var1} dolorem\")"
   ]
  },
  {
   "cell_type": "code",
   "execution_count": 25,
   "id": "c78abada",
   "metadata": {},
   "outputs": [
    {
     "name": "stdout",
     "output_type": "stream",
     "text": [
      "y there\n"
     ]
    }
   ],
   "source": [
    "my_string=\"hey there\"\n",
    "print(my_string[2:])"
   ]
  },
  {
   "cell_type": "code",
   "execution_count": 16,
   "id": "cdad6cd3",
   "metadata": {},
   "outputs": [
    {
     "ename": "AttributeError",
     "evalue": "'Person' object has no attribute 'get_full_name'",
     "output_type": "error",
     "traceback": [
      "\u001b[1;31m---------------------------------------------------------------------------\u001b[0m",
      "\u001b[1;31mAttributeError\u001b[0m                            Traceback (most recent call last)",
      "\u001b[1;32m~\\AppData\\Local\\Temp/ipykernel_1092/820263484.py\u001b[0m in \u001b[0;36m<module>\u001b[1;34m\u001b[0m\n\u001b[0;32m      5\u001b[0m \u001b[1;33m\u001b[0m\u001b[0m\n\u001b[0;32m      6\u001b[0m \u001b[0mjohn\u001b[0m\u001b[1;33m=\u001b[0m\u001b[0mPerson\u001b[0m\u001b[1;33m(\u001b[0m\u001b[1;34m\"john\"\u001b[0m\u001b[1;33m,\u001b[0m \u001b[1;34m\"snow\"\u001b[0m\u001b[1;33m)\u001b[0m\u001b[1;33m\u001b[0m\u001b[1;33m\u001b[0m\u001b[0m\n\u001b[1;32m----> 7\u001b[1;33m \u001b[0mprint\u001b[0m\u001b[1;33m(\u001b[0m\u001b[0mjohn\u001b[0m\u001b[1;33m.\u001b[0m\u001b[0mget_full_name\u001b[0m\u001b[1;33m(\u001b[0m\u001b[1;33m)\u001b[0m\u001b[1;33m)\u001b[0m\u001b[1;33m\u001b[0m\u001b[1;33m\u001b[0m\u001b[0m\n\u001b[0m\u001b[0;32m      8\u001b[0m \u001b[1;33m\u001b[0m\u001b[0m\n",
      "\u001b[1;31mAttributeError\u001b[0m: 'Person' object has no attribute 'get_full_name'"
     ]
    }
   ],
   "source": [
    "class Person(object):\n",
    "    def __init__(self, first, last):\n",
    "        self.first=first\n",
    "        self.last=last\n",
    "        \n",
    "    def get_full_name(self):\n",
    "        \n",
    "        \n",
    "john=Person(\"john\", \"snow\")\n",
    "print(john.get_full_name())\n",
    "\n"
   ]
  },
  {
   "cell_type": "code",
   "execution_count": 10,
   "id": "acc8de97",
   "metadata": {},
   "outputs": [
    {
     "ename": "TypeError",
     "evalue": "can only concatenate list (not \"tuple\") to list",
     "output_type": "error",
     "traceback": [
      "\u001b[1;31m---------------------------------------------------------------------------\u001b[0m",
      "\u001b[1;31mTypeError\u001b[0m                                 Traceback (most recent call last)",
      "\u001b[1;32m~\\AppData\\Local\\Temp/ipykernel_1092/244692354.py\u001b[0m in \u001b[0;36m<module>\u001b[1;34m\u001b[0m\n\u001b[0;32m      1\u001b[0m \u001b[0mmy_list\u001b[0m\u001b[1;33m=\u001b[0m\u001b[1;33m[\u001b[0m\u001b[1;36m1\u001b[0m\u001b[1;33m,\u001b[0m\u001b[1;36m2\u001b[0m\u001b[1;33m]\u001b[0m\u001b[1;33m\u001b[0m\u001b[1;33m\u001b[0m\u001b[0m\n\u001b[0;32m      2\u001b[0m \u001b[0mmy_tuple\u001b[0m\u001b[1;33m=\u001b[0m\u001b[1;33m(\u001b[0m\u001b[1;36m3\u001b[0m\u001b[1;33m,\u001b[0m\u001b[1;36m4\u001b[0m\u001b[1;33m)\u001b[0m\u001b[1;33m\u001b[0m\u001b[1;33m\u001b[0m\u001b[0m\n\u001b[1;32m----> 3\u001b[1;33m \u001b[0mprint\u001b[0m\u001b[1;33m(\u001b[0m\u001b[0mmy_list\u001b[0m\u001b[1;33m+\u001b[0m\u001b[0mmy_tuple\u001b[0m\u001b[1;33m)\u001b[0m\u001b[1;33m\u001b[0m\u001b[1;33m\u001b[0m\u001b[0m\n\u001b[0m",
      "\u001b[1;31mTypeError\u001b[0m: can only concatenate list (not \"tuple\") to list"
     ]
    }
   ],
   "source": [
    "my_list=[1,2]\n",
    "my_tuple=(3,4)\n",
    "print(my_list+my_tuple)"
   ]
  },
  {
   "cell_type": "code",
   "execution_count": null,
   "id": "a6d938f1",
   "metadata": {},
   "outputs": [],
   "source": []
  },
  {
   "cell_type": "code",
   "execution_count": 4,
   "id": "63efbbe9",
   "metadata": {},
   "outputs": [
    {
     "name": "stdout",
     "output_type": "stream",
     "text": [
      "1 2 3 (4, 5)\n"
     ]
    }
   ],
   "source": [
    "def myfunct(a,b,c,*args):\n",
    "    print(a,b,c,args)\n",
    "myfunct(1,2,3,4,5)"
   ]
  },
  {
   "cell_type": "code",
   "execution_count": 2,
   "id": "239347de",
   "metadata": {},
   "outputs": [
    {
     "name": "stdout",
     "output_type": "stream",
     "text": [
      "2002,2009,2016,2023,2037,2044,2051,2058,2072,2079,2086,2093,2107,2114,2121,2128,2142,2149,2156,2163,2177,2184,2191,2198,2212,2219,2226,2233,2247,2254,2261,2268,2282,2289,2296,2303,2317,2324,2331,2338,2352,2359,2366,2373,2387,2394,2401,2408,2422,2429,2436,2443,2457,2464,2471,2478,2492,2499,2506,2513,2527,2534,2541,2548,2562,2569,2576,2583,2597,2604,2611,2618,2632,2639,2646,2653,2667,2674,2681,2688,2702,2709,2716,2723,2737,2744,2751,2758,2772,2779,2786,2793,2807,2814,2821,2828,2842,2849,2856,2863,2877,2884,2891,2898,2912,2919,2926,2933,2947,2954,2961,2968,2982,2989,2996,3003,3017,3024,3031,3038,3052,3059,3066,3073,3087,3094,3101,3108,3122,3129,3136,3143,3157,3164,3171,3178,3192,3199\n"
     ]
    }
   ],
   "source": [
    "l=[]\n",
    "for i in range(2000, 3201):\n",
    "    if (i%7==0) & (i%5!=0):\n",
    "        l.append(str(i))\n",
    "print(','.join(l))"
   ]
  },
  {
   "cell_type": "code",
   "execution_count": 29,
   "id": "ce6b145f",
   "metadata": {},
   "outputs": [
    {
     "name": "stdout",
     "output_type": "stream",
     "text": [
      "  2002       2009       2016       2023              2037       2044       2051       2058              2072       2079       2086       2093              2107       2114       2121       2128              2142       2149       2156       2163              2177       2184       2191       2198              2212       2219       2226       2233              2247       2254       2261       2268              2282       2289       2296       2303              2317       2324       2331       2338              2352       2359       2366       2373              2387       2394       2401       2408              2422       2429       2436       2443              2457       2464       2471       2478              2492       2499       2506       2513              2527       2534       2541       2548              2562       2569       2576       2583              2597       2604       2611       2618              2632       2639       2646       2653              2667       2674       2681       2688              2702       2709       2716       2723              2737       2744       2751       2758              2772       2779       2786       2793              2807       2814       2821       2828              2842       2849       2856       2863              2877       2884       2891       2898              2912       2919       2926       2933              2947       2954       2961       2968              2982       2989       2996       3003              3017       3024       3031       3038              3052       3059       3066       3073              3087       3094       3101       3108              3122       3129       3136       3143              3157       3164       3171       3178              3192       3199 \n"
     ]
    }
   ],
   "source": [
    "print(' '.join([str(i) *((i%7==0) & (i%5!=0))  for i in range(2000, 3201)]))"
   ]
  },
  {
   "cell_type": "markdown",
   "id": "aa5ab574",
   "metadata": {},
   "source": [
    "Question 2\n",
    "\n",
    "Level 1\n",
    "\n",
    "Question: Write a program which can compute the factorial of a given numbers. The results should be printed in a comma-separated sequence on a single line. Suppose the following input is supplied to the program: 8 Then, the output should be: 40320\n",
    "\n",
    "Hints: In case of input data being supplied to the question, it should be assumed to be a console input.\n",
    "\n",
    "Solution:"
   ]
  },
  {
   "cell_type": "code",
   "execution_count": 32,
   "id": "7fca9dc4",
   "metadata": {},
   "outputs": [
    {
     "name": "stdout",
     "output_type": "stream",
     "text": [
      "give a number: 8\n",
      "40320\n"
     ]
    }
   ],
   "source": [
    "def factorial(x):\n",
    "    if x==0:\n",
    "        return 1\n",
    "    return x* factorial(x-1)\n",
    "number= int(input(\"give a number: \"))\n",
    "print(factorial(number))\n",
    "        "
   ]
  },
  {
   "cell_type": "markdown",
   "id": "d47bb4f0",
   "metadata": {},
   "source": [
    "Question 3\n",
    "\n",
    "Level 1\n",
    "\n",
    "Question: With a given integral number n, write a program to generate a dictionary that contains (i, i*i) such that is an integral number between 1 and n (both included). and then the program should print the dictionary. Suppose the following input is supplied to the program: 8 Then, the output should be: {1: 1, 2: 4, 3: 9, 4: 16, 5: 25, 6: 36, 7: 49, 8: 64}\n",
    "\n",
    "Hints: In case of input data being supplied to the question, it should be assumed to be a console input. Consider use dict()\n",
    "\n",
    "Solution:"
   ]
  },
  {
   "cell_type": "code",
   "execution_count": 53,
   "id": "b14f5c92",
   "metadata": {},
   "outputs": [
    {
     "name": "stdout",
     "output_type": "stream",
     "text": [
      "give a number 8\n",
      "{0: 0, 1: 1, 2: 4, 3: 9, 4: 16, 5: 25, 6: 36, 7: 49, 8: 64}\n"
     ]
    }
   ],
   "source": [
    "n= int(input(\"give a number \"))\n",
    "def dictionary(n):\n",
    "    d= dict()\n",
    "    for i in range(n+1):\n",
    "        d[i]=i*i\n",
    "    return d\n",
    "print(dictionary(n))\n",
    "    "
   ]
  },
  {
   "cell_type": "markdown",
   "id": "7127b769",
   "metadata": {},
   "source": [
    "Question 4\n",
    "\n",
    "Level 1\n",
    "\n",
    "Question: Write a program which accepts a sequence of comma-separated numbers from console and generate a list and a tuple which contains every number. Suppose the following input is supplied to the program: 34,67,55,33,12,98 Then, the output should be: ['34', '67', '55', '33', '12', '98'] ('34', '67', '55', '33', '12', '98')\n",
    "\n",
    "Hints: In case of input data being supplied to the question, it should be assumed to be a console input. tuple() method can convert list to tuple\n",
    "\n",
    "Solution:"
   ]
  },
  {
   "cell_type": "code",
   "execution_count": 59,
   "id": "d17776d2",
   "metadata": {},
   "outputs": [
    {
     "name": "stdout",
     "output_type": "stream",
     "text": [
      "34, 67, 55, 33, 12\n",
      "['34', ' 67', ' 55', ' 33', ' 12']\n",
      "('34', ' 67', ' 55', ' 33', ' 12')\n"
     ]
    }
   ],
   "source": [
    "lst= input()\n",
    "l= lst.split(\",\")\n",
    "t= tuple(l)\n",
    "print(l)\n",
    "print(t)"
   ]
  },
  {
   "cell_type": "markdown",
   "id": "6bc03e1b",
   "metadata": {},
   "source": [
    "Question 5\n",
    "\n",
    "Level 1\n",
    "\n",
    "Question: Define a class which has at least two methods: getString: to get a string from console input printString: to print the string in upper case. Also please include simple test function to test the class methods.\n",
    "\n",
    "Hints: Use init method to construct some parameters\n",
    "\n",
    "Solution:"
   ]
  },
  {
   "cell_type": "code",
   "execution_count": 62,
   "id": "cb9df374",
   "metadata": {},
   "outputs": [
    {
     "name": "stdout",
     "output_type": "stream",
     "text": [
      "leila\n",
      "LEILA\n"
     ]
    }
   ],
   "source": [
    "class InputOutputString(object):\n",
    "    def __init__(self):\n",
    "        self.s=\"\"\n",
    "    def getString(self):\n",
    "        self.s=input()\n",
    "    def printString(self):\n",
    "        print(self.s.upper())\n",
    "strObj= InputOutputString()\n",
    "strObj.getString()\n",
    "strObj.printString()"
   ]
  },
  {
   "cell_type": "markdown",
   "id": "08c52308",
   "metadata": {},
   "source": [
    "Question 6\n",
    "\n",
    "Level 2\n",
    "\n",
    "Question: Write a program that calculates and prints the value according to the given formula: Q = Square root of [(2 * C * D)/H] Following are the fixed values of C and H: C is 50. H is 30. D is the variable whose values should be input to your program in a comma-separated sequence. Example Let us assume the following comma separated input sequence is given to the program: 100,150,180 The output of the program should be: 18,22,24\n",
    "\n",
    "Hints: If the output received is in decimal form, it should be rounded off to its nearest value (for example, if the output received is 26.0, it should be printed as 26) In case of input data being supplied to the question, it should be assumed to be a console input.\n",
    "\n",
    "Solution:"
   ]
  },
  {
   "cell_type": "code",
   "execution_count": 73,
   "id": "7b24f1ec",
   "metadata": {},
   "outputs": [
    {
     "name": "stdout",
     "output_type": "stream",
     "text": [
      "100,150,180\n",
      "[18, 22, 24]\n"
     ]
    }
   ],
   "source": [
    "import math\n",
    "def SquareRoot(D):\n",
    "    new_lst=[]\n",
    " \n",
    "    for i in range(len(D)):\n",
    "        new_lst.append(int(round(math.sqrt((2*50*int(D[i]))/30))))\n",
    "    return new_lst\n",
    "lst= input()\n",
    "value= lst.split(',')\n",
    "print(SquareRoot(value))"
   ]
  },
  {
   "cell_type": "markdown",
   "id": "57f4f0f8",
   "metadata": {},
   "source": [
    "Question 7\n",
    "\n",
    "Level 2\n",
    "\n",
    "Question: Write a program which takes 2 digits, X,Y as input and generates a 2-dimensional array. The element value in the i-th row and j-th column of the array should be i*j. Note: i=0,1.., X-1; j=0,1,¡­Y-1. Example Suppose the following inputs are given to the program: 3,5 Then, the output of the program should be: [[0, 0, 0, 0, 0], [0, 1, 2, 3, 4], [0, 2, 4, 6, 8]]\n",
    "\n",
    "Hints: Note: In case of input data being supplied to the question, it should be assumed to be a console input in a comma-separated form.\n",
    "\n",
    "Solution:"
   ]
  },
  {
   "cell_type": "code",
   "execution_count": 77,
   "id": "821e8706",
   "metadata": {},
   "outputs": [
    {
     "name": "stdout",
     "output_type": "stream",
     "text": [
      "Give two numbers: 3,5\n",
      "[3, 5]\n",
      "[[0, 0, 0, 0, 0], [0, 0, 0, 0, 0], [0, 0, 0, 0, 0]]\n",
      "[[0, 0, 0, 0, 0], [0, 1, 2, 3, 4], [0, 2, 4, 6, 8]]\n"
     ]
    }
   ],
   "source": [
    "def matrix(input_str):\n",
    "    dimensions= [int(x) for x in input_str.split(',')]\n",
    "    print(dimensions)\n",
    "    rowNum= dimensions[0]\n",
    "    colNum= dimensions[1]\n",
    "    \n",
    "    mat=[[0 for col in range(colNum)] for row in range(rowNum)]\n",
    "    print(mat)\n",
    "    for i in range(rowNum):\n",
    "        for j in range(colNum):\n",
    "            mat[i][j]= i*j\n",
    "    return mat\n",
    "input_str= input(\"Give two numbers: \")\n",
    "print(matrix(input_str))"
   ]
  },
  {
   "cell_type": "markdown",
   "id": "82e53529",
   "metadata": {},
   "source": [
    "Question 8\n",
    "\n",
    "Level 2\n",
    "\n",
    "Question: Write a program that accepts a comma separated sequence of words as input and prints the words in a comma-separated sequence after sorting them alphabetically. Suppose the following input is supplied to the program: without,hello,bag,world Then, the output should be: bag,hello,without,world\n",
    "\n",
    "Hints: In case of input data being supplied to the question, it should be assumed to be a console input.\n",
    "\n",
    "Solution:"
   ]
  },
  {
   "cell_type": "code",
   "execution_count": 92,
   "id": "bee18b67",
   "metadata": {},
   "outputs": [
    {
     "name": "stdout",
     "output_type": "stream",
     "text": [
      "without,hello,bag,world \n",
      "bag,hello,without,world \n"
     ]
    }
   ],
   "source": [
    "items=[item for item in input().split(',')]\n",
    "items.sort()\n",
    "print(','.join(items))"
   ]
  },
  {
   "cell_type": "code",
   "execution_count": 84,
   "id": "f1d3d070",
   "metadata": {},
   "outputs": [
    {
     "name": "stdout",
     "output_type": "stream",
     "text": [
      "without,hello,bag,world \n",
      "bag,hello,without,world \n"
     ]
    }
   ],
   "source": [
    "def sortedSequence(input_sqc):\n",
    "    seq= [word for word in input_sqc.split(',')]\n",
    "    seq.sort()\n",
    "    return ','.join(seq)\n",
    "input_sqc= input()\n",
    "print(sortedSequence(input_sqc))"
   ]
  },
  {
   "cell_type": "code",
   "execution_count": 93,
   "id": "138effcf",
   "metadata": {},
   "outputs": [
    {
     "name": "stdout",
     "output_type": "stream",
     "text": [
      "['Ford', 'Mitsubishi', 'BMW', 'VW']\n",
      "['VW', 'BMW', 'Ford', 'Mitsubishi']\n"
     ]
    }
   ],
   "source": [
    "# A function that returns the length of the value:\n",
    "def myFunc(e):\n",
    "  return len(e)\n",
    "\n",
    "cars = ['Ford', 'Mitsubishi', 'BMW', 'VW']\n",
    "print(cars)\n",
    "cars.sort(reverse=False, key=myFunc)\n",
    "print(cars)"
   ]
  },
  {
   "cell_type": "markdown",
   "id": "2323fb65",
   "metadata": {},
   "source": [
    "Question 9\n",
    "\n",
    "Level 2\n",
    "\n",
    "Question: Write a program that accepts sequence of lines as input and prints the lines after making all characters in the sentence capitalized. Suppose the following input is supplied to the program: Hello world Practice makes perfect Then, the output should be: HELLO WORLD PRACTICE MAKES PERFECT\n",
    "\n",
    "Hints: In case of input data being supplied to the question, it should be assumed to be a console input.\n",
    "\n",
    "Solution:"
   ]
  },
  {
   "cell_type": "code",
   "execution_count": 95,
   "id": "df48a7ce",
   "metadata": {},
   "outputs": [
    {
     "name": "stdout",
     "output_type": "stream",
     "text": [
      "Hello world Practice makes perfect\n",
      "HELLO WORLD PRACTICE MAKES PERFECT\n"
     ]
    }
   ],
   "source": [
    "items=[item.upper() for item in input()]\n",
    "print(''.join(items))"
   ]
  },
  {
   "cell_type": "markdown",
   "id": "ee78c421",
   "metadata": {},
   "source": [
    "Question 10\n",
    "\n",
    "Level 2\n",
    "\n",
    "Question: Write a program that accepts a sequence of whitespace separated words as input and prints the words after removing all duplicate words and sorting them alphanumerically. Suppose the following input is supplied to the program: hello world and practice makes perfect and hello world again Then, the output should be: again and hello makes perfect practice world\n",
    "\n",
    "Hints: In case of input data being supplied to the question, it should be assumed to be a console input. We use set container to remove duplicated data automatically and then use sorted() to sort the data.\n",
    "\n",
    "Solution:"
   ]
  },
  {
   "cell_type": "code",
   "execution_count": 110,
   "id": "f77cd85b",
   "metadata": {},
   "outputs": [
    {
     "name": "stdout",
     "output_type": "stream",
     "text": [
      "hello world and practice makes perfect and hello world again\n",
      "again and hello makes perfect practice world\n"
     ]
    }
   ],
   "source": [
    "data= input()\n",
    "clean_data=[]\n",
    "text= data.split(' ')\n",
    "taille= len(data.split(' '))\n",
    "for item in range(taille):\n",
    "    word=text[item]\n",
    "    if word not in clean_data:\n",
    "        clean_data.append(word)\n",
    "clean_data.sort()\n",
    "print(' '.join(clean_data))"
   ]
  },
  {
   "cell_type": "code",
   "execution_count": 113,
   "id": "c7d52736",
   "metadata": {},
   "outputs": [
    {
     "name": "stdout",
     "output_type": "stream",
     "text": [
      "hello world and practice makes perfect and hello world again\n",
      "{'again', 'practice', 'perfect', 'and', 'makes', 'world', 'hello'}\n",
      "again and hello makes perfect practice world\n"
     ]
    }
   ],
   "source": [
    "words=[word for word in input().split(' ')]\n",
    "print(set(words))\n",
    "print(' '.join(sorted(list(set(words)))))"
   ]
  },
  {
   "cell_type": "markdown",
   "id": "78c3b04d",
   "metadata": {},
   "source": [
    "Question 11\n",
    "\n",
    "Level 2\n",
    "\n",
    "Question: Write a program which accepts a sequence of comma separated 4 digit binary numbers as its input and then check whether they are divisible by 5 or not. The numbers that are divisible by 5 are to be printed in a comma separated sequence. Example: 0100,0011,1010,1001 Then the output should be: 1010 Notes: Assume the data is input by console.\n",
    "\n",
    "Hints: In case of input data being supplied to the question, it should be assumed to be a console input.\n",
    "\n",
    "Solution:"
   ]
  },
  {
   "cell_type": "code",
   "execution_count": 122,
   "id": "355656a2",
   "metadata": {},
   "outputs": [
    {
     "name": "stdout",
     "output_type": "stream",
     "text": [
      "0100,0011,1010,1001\n",
      "1010\n"
     ]
    }
   ],
   "source": [
    "digits= [digit for digit in input().split(',')]\n",
    "digit_div=[]\n",
    "for digit in digits:\n",
    "    if (int(digit, 2)%5==0):\n",
    "        digit_div.append(digit)\n",
    "        \n",
    "print(','.join(digit_div))"
   ]
  },
  {
   "cell_type": "code",
   "execution_count": 125,
   "id": "2b2eec70",
   "metadata": {},
   "outputs": [
    {
     "name": "stdout",
     "output_type": "stream",
     "text": [
      "Enter a Binary number:0011\n",
      "The decimal conversion is: 3\n",
      "<class 'int'>\n"
     ]
    }
   ],
   "source": [
    "number= input('Enter a Binary number:')\n",
    "dec_number= int(number, 2)\n",
    "print('The decimal conversion is:', dec_number)\n",
    "print(type(dec_number))"
   ]
  },
  {
   "cell_type": "markdown",
   "id": "5061acb7",
   "metadata": {},
   "source": [
    "Question 12\n",
    "\n",
    "Level 2\n",
    "\n",
    "Question: Write a program, which will find all such numbers between 1000 and 3000 (both included) such that each digit of the number is an even number. The numbers obtained should be printed in a comma-separated sequence on a single line.\n",
    "\n",
    "Hints: In case of input data being supplied to the question, it should be assumed to be a console input.\n",
    "\n",
    "Solution:"
   ]
  },
  {
   "cell_type": "code",
   "execution_count": 146,
   "id": "4986777c",
   "metadata": {},
   "outputs": [
    {
     "name": "stdout",
     "output_type": "stream",
     "text": [
      "2000,2002,2004,2006,2008,2020,2022,2024,2026,2028,2040,2042,2044,2046,2048,2060,2062,2064,2066,2068,2080,2082,2084,2086,2088,2200,2202,2204,2206,2208,2220,2222,2224,2226,2228,2240,2242,2244,2246,2248,2260,2262,2264,2266,2268,2280,2282,2284,2286,2288,2400,2402,2404,2406,2408,2420,2422,2424,2426,2428,2440,2442,2444,2446,2448,2460,2462,2464,2466,2468,2480,2482,2484,2486,2488,2600,2602,2604,2606,2608,2620,2622,2624,2626,2628,2640,2642,2644,2646,2648,2660,2662,2664,2666,2668,2680,2682,2684,2686,2688,2800,2802,2804,2806,2808,2820,2822,2824,2826,2828,2840,2842,2844,2846,2848,2860,2862,2864,2866,2868,2880,2882,2884,2886,2888\n"
     ]
    }
   ],
   "source": [
    "values = []\n",
    "for i in range(1000, 3001):\n",
    "    s = str(i)\n",
    "    if (int(s[0])%2==0) and (int(s[1])%2==0) and (int(s[2])%2==0) and (int(s[3])%2==0):\n",
    "        values.append(s)\n",
    "print(\",\".join(values))      "
   ]
  },
  {
   "cell_type": "markdown",
   "id": "c4988da2",
   "metadata": {},
   "source": [
    "Question 13\n",
    "\n",
    "Level 2\n",
    "\n",
    "Question: Write a program that accepts a sentence and calculate the number of letters and digits. Suppose the following input is supplied to the program: hello world! 123 Then, the output should be: LETTERS 10 DIGITS 3\n",
    "\n",
    "Hints: In case of input data being supplied to the question, it should be assumed to be a console input.\n",
    "\n",
    "Solution:"
   ]
  },
  {
   "cell_type": "code",
   "execution_count": 152,
   "id": "f193b969",
   "metadata": {},
   "outputs": [
    {
     "name": "stdout",
     "output_type": "stream",
     "text": [
      "hello world! 123 \n",
      "LETTRE 10 DIGITS 3\n"
     ]
    }
   ],
   "source": [
    "count_alph=0\n",
    "count_digit=0\n",
    "sentence= input()\n",
    "words=[word for word in sentence.split(' ')]\n",
    "for word in words:\n",
    "    for i in word:\n",
    "        if (i.isalpha()):\n",
    "            count_alph+=1\n",
    "        elif (i.isdigit()):\n",
    "            count_digit+=1\n",
    "        else:\n",
    "            pass\n",
    "print(\"LETTRE\", count_alph, \"DIGITS\" ,count_digit)"
   ]
  },
  {
   "cell_type": "code",
   "execution_count": 153,
   "id": "49490ad5",
   "metadata": {},
   "outputs": [
    {
     "name": "stdout",
     "output_type": "stream",
     "text": [
      "hello world! 123 \n",
      "{'DIGITS': 3, 'LETTRES': 10}\n"
     ]
    }
   ],
   "source": [
    "s=input()\n",
    "d={\"DIGITS\":0, \"LETTRES\":0}\n",
    "for c in s:\n",
    "    if c.isalpha():\n",
    "        d['LETTRES']+=1\n",
    "    elif c.isdigit():\n",
    "        d[\"DIGITS\"]+=1\n",
    "    else:\n",
    "        pass\n",
    "    \n",
    "print(d)"
   ]
  },
  {
   "cell_type": "markdown",
   "id": "9b9ace04",
   "metadata": {},
   "source": [
    "Question 14\n",
    "\n",
    "Level 2\n",
    "\n",
    "Question: Write a program that accepts a sentence and calculate the number of upper case letters and lower case letters. Suppose the following input is supplied to the program: Hello world! Then, the output should be: UPPER CASE 1 LOWER CASE 9\n",
    "\n",
    "Hints: In case of input data being supplied to the question, it should be assumed to be a console input.\n",
    "\n",
    "Solution:"
   ]
  },
  {
   "cell_type": "code",
   "execution_count": 155,
   "id": "bcb22c38",
   "metadata": {},
   "outputs": [
    {
     "name": "stdout",
     "output_type": "stream",
     "text": [
      "Hello world!\n",
      "{'UPPER CASE': 1, 'LOWER CASE': 9}\n"
     ]
    }
   ],
   "source": [
    "s=input()\n",
    "d={\"UPPER CASE\":0, \"LOWER CASE\":0}\n",
    "for c in s:\n",
    "    if c.isalpha():\n",
    "        if c.islower():\n",
    "            d['LOWER CASE']+=1\n",
    "        else:\n",
    "            d[\"UPPER CASE\"]+=1\n",
    "    else:\n",
    "        pass\n",
    "print(d)"
   ]
  },
  {
   "cell_type": "markdown",
   "id": "a77b18a3",
   "metadata": {},
   "source": [
    "Question 15\n",
    "\n",
    "Level 2\n",
    "\n",
    "Question: Write a program that computes the value of a+aa+aaa+aaaa with a given digit as the value of a. Suppose the following input is supplied to the program: 9 Then, the output should be: 11106\n",
    "\n",
    "Hints: In case of input data being supplied to the question, it should be assumed to be a console input.\n",
    "\n",
    "Solution:"
   ]
  },
  {
   "cell_type": "code",
   "execution_count": 162,
   "id": "1845c533",
   "metadata": {},
   "outputs": [
    {
     "name": "stdout",
     "output_type": "stream",
     "text": [
      "9\n",
      "11106\n"
     ]
    }
   ],
   "source": [
    "a = input()\n",
    "n1 = int( \"%s\" % a )\n",
    "n2 = int( \"%s%s\" % (a,a) )\n",
    "n3 = int( \"%s%s%s\" % (a,a,a) )\n",
    "n4 = int( \"%s%s%s%s\" % (a,a,a,a) )\n",
    "print(n1+n2+n3+n4)"
   ]
  },
  {
   "cell_type": "markdown",
   "id": "f4120281",
   "metadata": {},
   "source": [
    "Question 16\n",
    "\n",
    "Level 2\n",
    "\n",
    "Question: Use a list comprehension to square each odd number in a list. The list is input by a sequence of comma-separated numbers. Suppose the following input is supplied to the program: 1,2,3,4,5,6,7,8,9 Then, the output should be: 1,3,5,7,9\n",
    "\n",
    "Hints: In case of input data being supplied to the question, it should be assumed to be a console input.\n",
    "\n",
    "Solution:"
   ]
  },
  {
   "cell_type": "code",
   "execution_count": 173,
   "id": "c3293972",
   "metadata": {},
   "outputs": [
    {
     "name": "stdout",
     "output_type": "stream",
     "text": [
      "1,2,3,4,5,6,7,8,9\n",
      "[1, 2, 3, 4, 5, 6, 7, 8, 9]\n",
      "[1, 3, 5, 7, 9]\n"
     ]
    }
   ],
   "source": [
    "nbr= input()\n",
    "odd_lst=[]\n",
    "list_nbr= [int(n) for n in nbr.split(',') ]\n",
    "for n in list_nbr:\n",
    "    if n%2!=0:\n",
    "        odd_lst.append(n)\n",
    "print(odd_lst)"
   ]
  },
  {
   "cell_type": "code",
   "execution_count": 176,
   "id": "05469739",
   "metadata": {},
   "outputs": [
    {
     "name": "stdout",
     "output_type": "stream",
     "text": [
      "1,2,3,4,5,6,7,8,9\n",
      "1,3,5,7,9\n"
     ]
    }
   ],
   "source": [
    "print(','.join([nbr for nbr in input().split(',')  if int(nbr)%2!=0]))"
   ]
  },
  {
   "cell_type": "markdown",
   "id": "63bb3736",
   "metadata": {},
   "source": [
    "Question 17\n",
    "\n",
    "Level 2\n",
    "\n",
    "Question: Write a program that computes the net amount of a bank account based a transaction log from console input. The transaction log format is shown as following: D 100 W 200\n",
    "\n",
    "D means deposit while W means withdrawal. Suppose the following input is supplied to the program: D 300 D 300 W 200 D 100 Then, the output should be: 500\n",
    "\n",
    "Hints: In case of input data being supplied to the question, it should be assumed to be a console input.\n",
    "\n",
    "Solution:"
   ]
  },
  {
   "cell_type": "code",
   "execution_count": 190,
   "id": "daeff787",
   "metadata": {},
   "outputs": [
    {
     "name": "stdout",
     "output_type": "stream",
     "text": [
      "D 300 D 300 W 200 D 100\n",
      "500\n"
     ]
    }
   ],
   "source": [
    "netAmount = 0\n",
    "\n",
    "s = input()\n",
    "values = s.split(\" \")\n",
    "for i in range(0,len(values), 2):\n",
    "    operation = values[i]\n",
    "    amount = int(values[i+1])\n",
    "    if operation==\"D\":\n",
    "        netAmount+=amount\n",
    "    elif operation==\"W\":\n",
    "        netAmount-=amount\n",
    "    else:\n",
    "        pass\n",
    "print(netAmount)"
   ]
  },
  {
   "cell_type": "markdown",
   "id": "24311ac1",
   "metadata": {},
   "source": [
    "Question 18\n",
    "\n",
    "Level 3\n",
    "\n",
    "Question: A website requires the users to input username and password to register. Write a program to check the validity of password input by users. Following are the criteria for checking the password:\n",
    "\n",
    "    1. At least 1 letter between [a-z]\n",
    "    2. At least 1 number between [0-9]\n",
    "    3. At least 1 letter between [A-Z]\n",
    "    4. At least 1 character from [$#@]\n",
    "    5. Minimum length of transaction password: 6\n",
    "    6. Maximum length of transaction password: 12 \n",
    "\n",
    "Your program should accept a sequence of comma separated passwords and will check them according to the above criteria. Passwords that match the criteria are to be printed, each separated by a comma. Example If the following passwords are given as input to the program: ABd1234@1,a F1#,2w3E*,2We3345 Then, the output of the program should be: ABd1234@1\n",
    "\n",
    "Hints: In case of input data being supplied to the question, it should be assumed to be a console input.\n",
    "\n",
    "Solutions:\n",
    "    "
   ]
  },
  {
   "cell_type": "code",
   "execution_count": 206,
   "id": "b617422d",
   "metadata": {},
   "outputs": [
    {
     "name": "stdout",
     "output_type": "stream",
     "text": [
      "ABd1234@1,a F1#,2w3E*,2We3345\n",
      "ABd1234@1\n"
     ]
    }
   ],
   "source": [
    "import re\n",
    "value=[]\n",
    "items=[x for x in input().split(\",\")]\n",
    "for p in items:\n",
    "    if len(p)>12 or len(p)<6:\n",
    "        continue\n",
    "    else:\n",
    "        pass\n",
    "    if not re.search(\"[a-zA-Z0-9]\",p):\n",
    "        continue\n",
    "    elif not re.search(\"[$#@]\",p):\n",
    "        continue\n",
    "    else: \n",
    "        pass\n",
    "    value.append(p)\n",
    "print(\",\".join(value))\n",
    "        \n",
    "    "
   ]
  },
  {
   "cell_type": "markdown",
   "id": "f25aeecf",
   "metadata": {},
   "source": [
    "Question 19\n",
    "\n",
    "Level 3\n",
    "\n",
    "Question: You are required to write a program to sort the (name, age, height) tuples by ascending order where name is string, age and height are numbers. The tuples are input by console. The sort criteria is:\n",
    "1. Sort based on name; \n",
    "2. Then sort based on age;\n",
    "3. Then sort by score. \n",
    "\n",
    "The priority is that name > age > score. If the following tuples are given as input to the program: Tom,19,80 John,20,90 Jony,17,91 Jony,17,93 Json,21,85 Then, the output of the program should be: [('John', '20', '90'), ('Jony', '17', '91'), ('Jony', '17', '93'), ('Json', '21', '85'), ('Tom', '19', '80')]\n",
    "\n",
    "Hints: In case of input data being supplied to the question, it should be assumed to be a console input. We use itemgetter to enable multiple sort keys.\n",
    "\n",
    "Solutions: from operator import itemgetter, attrgetter"
   ]
  },
  {
   "cell_type": "code",
   "execution_count": 241,
   "id": "b13a95db",
   "metadata": {},
   "outputs": [
    {
     "name": "stdout",
     "output_type": "stream",
     "text": [
      "Tom,19,80 John,20,90 Jony,17,91 Jony,17,93 Json,21,85\n",
      "[('John', 20, 90.0), ('Jony', 17, 91.0), ('Jony', 17, 93.0), ('Json', 21, 85.0), ('Tom', 19, 80.0)]\n"
     ]
    }
   ],
   "source": [
    "from operator import itemgetter\n",
    "tuple_list=[]\n",
    "s = input()\n",
    "values = s.split(\" \")\n",
    "for tup in range(len(values)):\n",
    "    tup_item=values[tup]\n",
    "    item=tup_item.split(\",\")\n",
    "    for i in range(0, len(item),3):\n",
    "        name = item[i]\n",
    "        age = int(item[i+1])\n",
    "        score= float(item[i+2])\n",
    "    tuple_list.append((name, age, score))\n",
    "my_list= tuple_list.copy()\n",
    "print(sorted(my_list , key=itemgetter(0,1,2)))"
   ]
  },
  {
   "cell_type": "code",
   "execution_count": 268,
   "id": "083415a7",
   "metadata": {},
   "outputs": [
    {
     "name": "stdout",
     "output_type": "stream",
     "text": [
      "Tom,19,80 John,20,90 Jony,17,91 Jony,17,93 Json,21,85\n",
      "[('Tom', '19', '80'), ('John', '20', '90'), ('Jony', '17', '91'), ('Jony', '17', '93'), ('Json', '21', '85')]\n",
      "[('John', '20', '90'), ('Jony', '17', '91'), ('Jony', '17', '93'), ('Json', '21', '85'), ('Tom', '19', '80')]\n"
     ]
    }
   ],
   "source": [
    "w=[]\n",
    "\n",
    "s=input()\n",
    "values= [x for x in s.split(\" \")]\n",
    "for val in values:\n",
    "    w.append(tuple(map(str, val.split(','))))\n",
    "print(w)\n",
    "print(sorted(w, key=itemgetter(0, 1, 2)))"
   ]
  },
  {
   "cell_type": "markdown",
   "id": "9e96ad23",
   "metadata": {},
   "source": [
    "Question 20\n",
    "\n",
    "Level 3\n",
    "\n",
    "Question: Define a class with a generator which can iterate the numbers, which are divisible by 7, between a given range 0 and n.\n",
    "\n",
    "Hints: Consider use yield\n",
    "\n",
    "Solution:"
   ]
  },
  {
   "cell_type": "code",
   "execution_count": 285,
   "id": "6d84af66",
   "metadata": {},
   "outputs": [
    {
     "data": {
      "text/plain": [
       "<generator object putNumbers at 0x000001240F626120>"
      ]
     },
     "execution_count": 285,
     "metadata": {},
     "output_type": "execute_result"
    }
   ],
   "source": [
    "def putNumbers(n):\n",
    "    i=0\n",
    "    while(i<n):\n",
    "        j=1\n",
    "        if j%7==0:\n",
    "            yield j\n",
    "        i+=1\n",
    "putNumbers(20)"
   ]
  },
  {
   "cell_type": "markdown",
   "id": "c28516e4",
   "metadata": {},
   "source": [
    "Question 21\n",
    "\n",
    "Level 3\n",
    "\n",
    "Question A robot moves in a plane starting from the original point (0,0). The robot can move toward UP, DOWN, LEFT and RIGHT with a given steps. The trace of robot movement is shown as the following: UP 5 DOWN 3 LEFT 3 RIGHT 2 ¡­ The numbers after the direction are steps. Please write a program to compute the distance from current position after a sequence of movement and original point. If the distance is a float, then just print the nearest integer. Example: If the following tuples are given as input to the program: UP 5 DOWN 3 LEFT 3 RIGHT 2 Then, the output of the program should be: 2\n",
    "\n",
    "Hints: In case of input data being supplied to the question, it should be assumed to be a console input.\n",
    "\n",
    "Solution:"
   ]
  },
  {
   "cell_type": "code",
   "execution_count": 304,
   "id": "0e506b81",
   "metadata": {},
   "outputs": [
    {
     "name": "stdout",
     "output_type": "stream",
     "text": [
      "UP 5 DOWN 3 LEFT 3 RIGHT 2\n",
      "[2, -1]\n",
      "2\n"
     ]
    }
   ],
   "source": [
    "pos=[0, 0]\n",
    "s = input()\n",
    "movement = s.split(\" \")\n",
    "for i in range(0,len(movement)-1, 2):\n",
    "    direction = movement[i]\n",
    "    steps = int(movement[i+1])\n",
    "    if direction==\"UP\":\n",
    "        pos[0]+=steps\n",
    "    elif direction==\"DOWN\":\n",
    "        pos[0]-=steps\n",
    "    elif direction==\"LEFT\":\n",
    "        pos[1]-=steps\n",
    "    elif direction==\"RIGHT\":\n",
    "        pos[1]+=steps\n",
    "    else:\n",
    "        pass\n",
    "    \n",
    "print(pos)  \n",
    "print(int(round(math.sqrt(pos[0]**2+ pos[1]**2))))"
   ]
  },
  {
   "cell_type": "markdown",
   "id": "ae25f014",
   "metadata": {},
   "source": [
    "Question 22\n",
    "\n",
    "Level 3\n",
    "\n",
    "Question: Write a program to compute the frequency of the words from the input. The output should output after sorting the key alphanumerically. Suppose the following input is supplied to the program: New to Python or choosing between Python 2 and Python 3? Read Python 2 or Python 3. Then, the output should be: 2:2 3.:1 3?:1 New:1 Python:5 Read:1 and:1 between:1 choosing:1 or:2 to:1\n",
    "\n",
    "Hints In case of input data being supplied to the question, it should be assumed to be a console input.\n",
    "\n",
    "Solution:"
   ]
  },
  {
   "cell_type": "code",
   "execution_count": 325,
   "id": "790223e0",
   "metadata": {},
   "outputs": [
    {
     "name": "stdout",
     "output_type": "stream",
     "text": [
      "New to Python or choosing between Python 2 and Python 3? Read Python 2 or Python 3.\n",
      "2:2\n",
      "3.:1\n",
      "3?:1\n",
      "New:1\n",
      "Python:5\n",
      "Read:1\n",
      "and:1\n",
      "between:1\n",
      "choosing:1\n",
      "or:2\n",
      "to:1\n"
     ]
    }
   ],
   "source": [
    "freq = {}   # frequency of words in text\n",
    "line = input()\n",
    "for word in line.split():\n",
    "    freq[word] = freq.get(word,0)+1\n",
    "\n",
    "words = sorted(freq.keys())\n",
    "for w in words:\n",
    "    print(\"%s:%d\" % (w,freq[w]))"
   ]
  },
  {
   "cell_type": "markdown",
   "id": "90ebe829",
   "metadata": {},
   "source": [
    "Question 23\n",
    "\n",
    "level 1\n",
    "\n",
    "Question: Write a method which can calculate square value of number\n",
    "\n",
    "Hints: Using the ** operator\n",
    "\n",
    "Solution:"
   ]
  },
  {
   "cell_type": "code",
   "execution_count": 330,
   "id": "4e81ad53",
   "metadata": {},
   "outputs": [
    {
     "name": "stdout",
     "output_type": "stream",
     "text": [
      "5\n",
      "25\n"
     ]
    }
   ],
   "source": [
    "def calculateSquare(value):\n",
    "    return int(value**2)\n",
    "value= float(input())\n",
    "print(calculateSquare(value))"
   ]
  },
  {
   "cell_type": "markdown",
   "id": "7f1354bf",
   "metadata": {},
   "source": [
    "Question 24\n",
    "\n",
    "Level 1\n",
    "\n",
    "Question:\n",
    "\n",
    "Python has many built-in functions, and if you do not know how to use it, you can read document online or find some books. But Python has a built-in document function for every built-in functions.\n",
    "\n",
    "Please write a program to print some Python built-in functions documents, such as abs(), int(), raw_input()\n",
    "\n",
    "And add document for your own function Hints: The built-in document method is doc\n",
    "\n",
    "Solution:"
   ]
  },
  {
   "cell_type": "code",
   "execution_count": 333,
   "id": "e99147a7",
   "metadata": {},
   "outputs": [
    {
     "name": "stdout",
     "output_type": "stream",
     "text": [
      "Return the absolute value of the argument.\n",
      "int([x]) -> integer\n",
      "int(x, base=10) -> integer\n",
      "\n",
      "Convert a number or string to an integer, or return 0 if no arguments\n",
      "are given.  If x is a number, return x.__int__().  For floating point\n",
      "numbers, this truncates towards zero.\n",
      "\n",
      "If x is not a number or if base is given, then x must be a string,\n",
      "bytes, or bytearray instance representing an integer literal in the\n",
      "given base.  The literal can be preceded by '+' or '-' and be surrounded\n",
      "by whitespace.  The base defaults to 10.  Valid bases are 0 and 2-36.\n",
      "Base 0 means to interpret the base from the string as an integer literal.\n",
      ">>> int('0b100', base=0)\n",
      "4\n",
      "Forward raw_input to frontends\n",
      "\n",
      "        Raises\n",
      "        ------\n",
      "        StdinNotImplementedError if active frontend doesn't support stdin.\n",
      "        \n"
     ]
    }
   ],
   "source": [
    "print(abs.__doc__)\n",
    "print(int.__doc__)\n",
    "print(input.__doc__)\n"
   ]
  },
  {
   "cell_type": "code",
   "execution_count": 336,
   "id": "384e41eb",
   "metadata": {},
   "outputs": [
    {
     "name": "stdout",
     "output_type": "stream",
     "text": [
      "\n",
      "    Return the square value of input number.\n",
      "    \n",
      "    The input number must be integer or float\n",
      "    \n"
     ]
    }
   ],
   "source": [
    "def square(value):\n",
    "    \"\"\"\n",
    "    Return the square value of input number.\n",
    "    \n",
    "    The input number must be integer or float\n",
    "    \"\"\"\n",
    "    return value**2\n",
    "print(square.__doc__)"
   ]
  },
  {
   "cell_type": "markdown",
   "id": "956f7237",
   "metadata": {},
   "source": [
    "Question 25\n",
    "\n",
    "Level 1\n",
    "\n",
    "Question: Define a class, which have a class parameter and have a same instance parameter.\n",
    "\n",
    "Hints: Define a instance parameter, need add it in init method You can init a object with construct parameter or set the value later\n",
    "\n",
    "Solution:"
   ]
  },
  {
   "cell_type": "code",
   "execution_count": 340,
   "id": "7235381c",
   "metadata": {},
   "outputs": [
    {
     "name": "stdout",
     "output_type": "stream",
     "text": [
      "Person name is Jeffrey\n",
      "Person name is NICO\n"
     ]
    }
   ],
   "source": [
    "class Person:\n",
    "    name='Person'\n",
    "    def __init__(self, name=None):\n",
    "        self.name=name\n",
    "        \n",
    "jeffrey= Person('Jeffrey')\n",
    "print(\"%s name is %s\"%(Person.name, jeffrey.name))\n",
    "\n",
    "nico= Person()\n",
    "nico.name= \"NICO\"\n",
    "print(\"%s name is %s\"%(Person.name, nico.name))"
   ]
  },
  {
   "cell_type": "markdown",
   "id": "c0d2b03b",
   "metadata": {},
   "source": [
    "Question 26:\n",
    "\n",
    "Define a function which can compute the sum of two numbers.\n",
    "\n",
    "Hints: Define a function with two numbers as arguments. You can compute the sum in the function and return the value.\n",
    "\n",
    "Solution"
   ]
  },
  {
   "cell_type": "code",
   "execution_count": 343,
   "id": "904cc15b",
   "metadata": {},
   "outputs": [
    {
     "name": "stdout",
     "output_type": "stream",
     "text": [
      "10\n"
     ]
    }
   ],
   "source": [
    "def sumFunction(val1, val2):\n",
    "    \"\"\"\n",
    "    This function return the sum of two values\n",
    "    \"\"\"\n",
    "    return val1+val2\n",
    "print(sumFunction(4, 6))"
   ]
  },
  {
   "cell_type": "markdown",
   "id": "75ac25b8",
   "metadata": {},
   "source": [
    "Question 27\n",
    "\n",
    "Define a function that can convert a integer into a string and print it in console.\n",
    "\n",
    "Hints:\n",
    "\n",
    "Use str() to convert a number to string.\n",
    "\n",
    "Solution"
   ]
  },
  {
   "cell_type": "code",
   "execution_count": 344,
   "id": "8017a0f6",
   "metadata": {},
   "outputs": [
    {
     "name": "stdout",
     "output_type": "stream",
     "text": [
      "6\n"
     ]
    }
   ],
   "source": [
    "def convertToString(value):\n",
    "    \"\"\"\n",
    "    This function convert an integer into string\n",
    "    \"\"\"\n",
    "    return str(value)\n",
    "print(convertToString(6))\n"
   ]
  },
  {
   "cell_type": "markdown",
   "id": "89faf00f",
   "metadata": {},
   "source": [
    "Question 29\n",
    "\n",
    "Define a function that can receive two integral numbers in string form and compute their sum and then print it in console.\n",
    "\n",
    "Hints:\n",
    "\n",
    "Use int() to convert a string to integer.\n",
    "\n",
    "Solution"
   ]
  },
  {
   "cell_type": "code",
   "execution_count": 346,
   "id": "a532d1a2",
   "metadata": {},
   "outputs": [
    {
     "name": "stdout",
     "output_type": "stream",
     "text": [
      "9\n"
     ]
    }
   ],
   "source": [
    "def convertToInteger(val1, val2):\n",
    "    \"\"\"\n",
    "    This function convert the values and calculate their sum\n",
    "    \"\"\"\n",
    "    return int(val1)+int(val2)\n",
    "val1= '2'\n",
    "val2='7'\n",
    "print(convertToInteger(val1, val2))"
   ]
  },
  {
   "cell_type": "markdown",
   "id": "8c9ddb51",
   "metadata": {},
   "source": [
    "Question 30\n",
    "\n",
    "Define a function that can accept two strings as input and concatenate them and then print it in console.\n",
    "\n",
    "Hints:\n",
    "\n",
    "Use + to concatenate the strings\n",
    "\n",
    "Solution"
   ]
  },
  {
   "cell_type": "code",
   "execution_count": 347,
   "id": "1bb5f46f",
   "metadata": {},
   "outputs": [
    {
     "name": "stdout",
     "output_type": "stream",
     "text": [
      "leilakhellouf\n"
     ]
    }
   ],
   "source": [
    "def stringConcat(string1, string2):\n",
    "    \"\"\"\n",
    "    This fucntion return the concatenation of two string \n",
    "    \"\"\"\n",
    "    return string1+string2\n",
    "string1= \"leila\"\n",
    "string2= \"khellouf\"\n",
    "print(stringConcat(string1, string2))"
   ]
  },
  {
   "cell_type": "markdown",
   "id": "c5f2f78a",
   "metadata": {},
   "source": [
    "Question 31\n",
    "\n",
    "Define a function that can accept two strings as input and print the string with maximum length in console. If two strings have the same length, then the function should print al l strings line by line.\n",
    "\n",
    "Hints:\n",
    "\n",
    "Use len() function to get the length of a string\n",
    "\n",
    "Solution"
   ]
  },
  {
   "cell_type": "code",
   "execution_count": 350,
   "id": "80246e2b",
   "metadata": {},
   "outputs": [
    {
     "name": "stdout",
     "output_type": "stream",
     "text": [
      "['leila']\n",
      "['khell']\n"
     ]
    }
   ],
   "source": [
    "def maximumLength(s1, s2):\n",
    "    \"\"\"\n",
    "    This function accept two strings as input and print the\n",
    "    string with maximum length in console. \n",
    "    If two strings have the same length, \n",
    "    then the function should print al l strings line by line\n",
    "    \"\"\"\n",
    "    if len(s1)==len(s2):\n",
    "        print(s1.split(\" \"))\n",
    "        print(s2.split(\" \"))\n",
    "    elif len(s1)<len(s2):\n",
    "        print(s2)\n",
    "    elif len(s1)> len(s2):\n",
    "        print(s1)\n",
    "    else: \n",
    "        pass\n",
    "        \n",
    "maximumLength('leila', 'khell')       "
   ]
  },
  {
   "cell_type": "markdown",
   "id": "0c081830",
   "metadata": {},
   "source": [
    "Question 32\n",
    "\n",
    "Define a function that can accept an integer number as input and print the \"It is an even number\" if the number is even, otherwise print \"It is an odd number\".\n",
    "\n",
    "Hints:\n",
    "\n",
    "Use % operator to check if a number is even or odd.\n",
    "\n",
    "Solution"
   ]
  },
  {
   "cell_type": "code",
   "execution_count": 354,
   "id": "102d9808",
   "metadata": {},
   "outputs": [
    {
     "name": "stdout",
     "output_type": "stream",
     "text": [
      "It is an odd number\n"
     ]
    }
   ],
   "source": [
    "def evenoddNumber(value):\n",
    "    if value%2==0:\n",
    "        print(\"It is an even number\")\n",
    "    else:\n",
    "        print(\"It is an odd number\")\n",
    "evenoddNumber(5)"
   ]
  },
  {
   "cell_type": "markdown",
   "id": "d62529ed",
   "metadata": {},
   "source": [
    "### Question 33\n",
    "\n",
    "Define a function which can print a dictionary where the keys are numbers between 1 and 3 (both included) and the values are square of keys.\n",
    "\n",
    "Hints:\n",
    "\n",
    "Use dict[key]=value pattern to put entry into a dictionary.\n",
    "Use ** operator to get power of a number.\n",
    "\n",
    "Solution"
   ]
  },
  {
   "cell_type": "code",
   "execution_count": 379,
   "id": "a1f79a43",
   "metadata": {},
   "outputs": [
    {
     "name": "stdout",
     "output_type": "stream",
     "text": [
      "1,2,3,4,5\n",
      "{'1': 1, '2': 4, '3': 9, '4': 16, '5': 25}\n"
     ]
    }
   ],
   "source": [
    "def squareDict(input_dict):\n",
    "    dict_val=dict() \n",
    "    for key in input_dict:\n",
    "        dict_val[key]= int(key)**2\n",
    "    return dict_val\n",
    "   \n",
    "input_dict= input().split(\",\")\n",
    "dict_val= squareDict(input_dict)\n",
    "print(dict_val)"
   ]
  },
  {
   "cell_type": "markdown",
   "id": "ab3ca42e",
   "metadata": {},
   "source": [
    "Question 34\n",
    "\n",
    "Define a function which can print a dictionary where the keys are numbers between 1 and 20 (both included) and the values are square of keys.\n",
    "\n",
    "Hints:\n",
    "\n",
    "Use dict[key]=value pattern to put entry into a dictionary. Use ** operator to get power of a number. Use range() for loops.\n",
    "\n",
    "Solution"
   ]
  },
  {
   "cell_type": "code",
   "execution_count": 386,
   "id": "8aa9cdf6",
   "metadata": {},
   "outputs": [
    {
     "name": "stdout",
     "output_type": "stream",
     "text": [
      "{0: 0, 1: 1, 2: 4, 3: 9, 4: 16, 5: 25, 6: 36, 7: 49, 8: 64, 9: 81, 10: 100, 11: 121, 12: 144, 13: 169, 14: 196, 15: 225, 16: 256, 17: 289, 18: 324, 19: 361}\n"
     ]
    }
   ],
   "source": [
    "def squareDict(taille):\n",
    "    dict_val=dict() \n",
    "    for key in range(taille):\n",
    "        dict_val[key]= int(key)**2\n",
    "    return dict_val\n",
    "dict_val= squareDict(20)\n",
    "print(dict_val)\n"
   ]
  },
  {
   "cell_type": "markdown",
   "id": "94b86c51",
   "metadata": {},
   "source": [
    "Question 35\n",
    "\n",
    "Define a function which can generate a dictionary where the keys are numbers between 1 and 20 (both included) and the values are square of keys. The function should just print the values only.\n",
    "\n",
    "Hints:\n",
    "\n",
    "Use dict[key]=value pattern to put entry into a dictionary. Use ** operator to get power of a number. Use range() for loops. Use keys() to iterate keys in the dictionary. Also we can use item() to get key/value pairs.\n",
    "\n",
    "Solution"
   ]
  },
  {
   "cell_type": "code",
   "execution_count": 383,
   "id": "686f44e1",
   "metadata": {},
   "outputs": [
    {
     "name": "stdout",
     "output_type": "stream",
     "text": [
      "dict_values([0, 1, 4, 9, 16, 25, 36, 49, 64, 81, 100, 121, 144, 169, 196, 225, 256, 289, 324, 361])\n"
     ]
    }
   ],
   "source": [
    "print(dict_val.values())"
   ]
  },
  {
   "cell_type": "markdown",
   "id": "ec191dd2",
   "metadata": {},
   "source": [
    "Question 36\n",
    "\n",
    "Define a function which can generate a dictionary where the keys are numbers between 1 and 20 (both included) and the values are square of keys. The function should just print the keys only.\n",
    "\n",
    "Hints:\n",
    "\n",
    "Use dict[key]=value pattern to put entry into a dictionary. Use ** operator to get power of a number. Use range() for loops. Use keys() to iterate keys in the dictionary. Also we can use item() to get key/value pairs."
   ]
  },
  {
   "cell_type": "code",
   "execution_count": 384,
   "id": "fae11c06",
   "metadata": {},
   "outputs": [
    {
     "name": "stdout",
     "output_type": "stream",
     "text": [
      "dict_keys([0, 1, 2, 3, 4, 5, 6, 7, 8, 9, 10, 11, 12, 13, 14, 15, 16, 17, 18, 19])\n"
     ]
    }
   ],
   "source": [
    "print(dict_val.keys())"
   ]
  },
  {
   "cell_type": "markdown",
   "id": "4d5880d0",
   "metadata": {},
   "source": [
    "Question 37\n",
    "\n",
    "Define a function which can generate and print a list where the values are square of numbers between 1 and 20 (both included).\n",
    "\n",
    "Hints:\n",
    "\n",
    "Use ** operator to get power of a number. Use range() for loops. Use list.append() to add values into a list.\n",
    "\n",
    "Solution"
   ]
  },
  {
   "cell_type": "code",
   "execution_count": 390,
   "id": "c7e9536b",
   "metadata": {},
   "outputs": [
    {
     "name": "stdout",
     "output_type": "stream",
     "text": [
      "20\n",
      "[0, 1, 4, 9, 16, 25, 36, 49, 64, 81, 100, 121, 144, 169, 196, 225, 256, 289, 324, 361]\n"
     ]
    }
   ],
   "source": [
    "def squareList(taille):\n",
    "    sqrtlst=[]\n",
    "    for i in range(taille):\n",
    "        sqrtlst.append(i**2)\n",
    "    return sqrtlst\n",
    "\n",
    "taille=int(input())\n",
    "lst= squareList(taille)\n",
    "print(lst)"
   ]
  },
  {
   "cell_type": "markdown",
   "id": "8bfe332e",
   "metadata": {},
   "source": [
    "Question 38\n",
    "\n",
    "Define a function which can generate a list where the values are square of numbers between 1 and 20 (both included). Then the function needs to print the first 5 elements in the list.\n",
    "\n",
    "Hints:\n",
    "\n",
    "Use ** operator to get power of a number. Use range() for loops. Use list.append() to add values into a list. Use [n1:n2] to slice a list\n",
    "\n",
    "Solution"
   ]
  },
  {
   "cell_type": "code",
   "execution_count": 391,
   "id": "9fb17ad8",
   "metadata": {},
   "outputs": [
    {
     "name": "stdout",
     "output_type": "stream",
     "text": [
      "20\n",
      "[0, 1, 4, 9, 16]\n"
     ]
    }
   ],
   "source": [
    "def squareList(taille):\n",
    "    sqrtlst=[]\n",
    "    for i in range(taille):\n",
    "        sqrtlst.append(i**2)\n",
    "    return sqrtlst\n",
    "\n",
    "taille=int(input())\n",
    "lst= squareList(taille)\n",
    "print(lst[:5])"
   ]
  },
  {
   "cell_type": "markdown",
   "id": "a0233096",
   "metadata": {},
   "source": [
    "Question 39\n",
    "\n",
    "Define a function which can generate a list where the values are square of numbers between 1 and 20 (both included). Then the function needs to print the last 5 elements in the list.\n",
    "\n",
    "Hints:\n",
    "\n",
    "Use ** operator to get power of a number. Use range() for loops. Use list.append() to add values into a list. Use [n1:n2] to slice a list\n",
    "\n",
    "Solution"
   ]
  },
  {
   "cell_type": "code",
   "execution_count": 396,
   "id": "e2142c01",
   "metadata": {},
   "outputs": [
    {
     "name": "stdout",
     "output_type": "stream",
     "text": [
      "20\n",
      "[225, 256, 289, 324, 361]\n"
     ]
    }
   ],
   "source": [
    "def squareList(taille):\n",
    "    sqrtlst=[]\n",
    "    for i in range(taille):\n",
    "        sqrtlst.append(i**2)\n",
    "    return sqrtlst\n",
    "\n",
    "taille=int(input())\n",
    "lst= squareList(taille)\n",
    "print(lst[-5:])"
   ]
  },
  {
   "cell_type": "markdown",
   "id": "d0ef7051",
   "metadata": {},
   "source": [
    "Question 40\n",
    "\n",
    "Define a function which can generate a list where the values are square of numbers between 1 and 20 (both included). Then the function needs to print all values except the first 5 elements in the list.\n",
    "\n",
    "Hints:\n",
    "\n",
    "Use ** operator to get power of a number. Use range() for loops. Use list.append() to add values into a list. Use [n1:n2] to slice a list\n",
    "\n",
    "Solution"
   ]
  },
  {
   "cell_type": "code",
   "execution_count": 397,
   "id": "8b93d66a",
   "metadata": {},
   "outputs": [
    {
     "name": "stdout",
     "output_type": "stream",
     "text": [
      "20\n",
      "[25, 36, 49, 64, 81, 100, 121, 144, 169, 196, 225, 256, 289, 324, 361]\n"
     ]
    }
   ],
   "source": [
    "def squareList(taille):\n",
    "    sqrtlst=[]\n",
    "    for i in range(taille):\n",
    "        sqrtlst.append(i**2)\n",
    "    return sqrtlst\n",
    "\n",
    "taille=int(input())\n",
    "lst= squareList(taille)\n",
    "print(lst[5:])"
   ]
  },
  {
   "cell_type": "markdown",
   "id": "ddd66787",
   "metadata": {},
   "source": [
    "Question 41\n",
    "\n",
    "Define a function which can generate and print a tuple where the value are square of numbers between 1 and 20 (both included).\n",
    "\n",
    "Hints:\n",
    "\n",
    "Use ** operator to get power of a number. Use range() for loops. Use list.append() to add values into a list. Use tuple() to get a tuple from a list.\n",
    "\n",
    "Solution"
   ]
  },
  {
   "cell_type": "code",
   "execution_count": 398,
   "id": "e2ff8533",
   "metadata": {},
   "outputs": [
    {
     "name": "stdout",
     "output_type": "stream",
     "text": [
      "20\n",
      "(0, 1, 4, 9, 16, 25, 36, 49, 64, 81, 100, 121, 144, 169, 196, 225, 256, 289, 324, 361)\n"
     ]
    }
   ],
   "source": [
    "def squareList(taille):\n",
    "    sqrtlst=[]\n",
    "    for i in range(taille):\n",
    "        sqrtlst.append(i**2)\n",
    "    return sqrtlst\n",
    "\n",
    "taille=int(input())\n",
    "lst= squareList(taille)\n",
    "print(tuple(lst))"
   ]
  },
  {
   "cell_type": "markdown",
   "id": "2f668957",
   "metadata": {},
   "source": [
    "Question 42\n",
    "\n",
    "With a given tuple (1,2,3,4,5,6,7,8,9,10), write a program to print the first half values in one line and the last half values in one line.\n",
    "\n",
    "Hints:\n",
    "\n",
    "Use [n1:n2] notation to get a slice from a tuple.\n",
    "\n",
    "Solution"
   ]
  },
  {
   "cell_type": "code",
   "execution_count": 414,
   "id": "98e54fac",
   "metadata": {},
   "outputs": [
    {
     "name": "stdout",
     "output_type": "stream",
     "text": [
      "(1, 5, 4, 4, 5)\n",
      "(6, 7, 8, 9, 10)\n"
     ]
    }
   ],
   "source": [
    "tple=(1,5,4,4,5,6,7,8,9,10)\n",
    "\n",
    "print(tple[:5])\n",
    "print(tple[5:])\n",
    "    "
   ]
  },
  {
   "cell_type": "markdown",
   "id": "1fc0edcf",
   "metadata": {},
   "source": [
    "Question 43\n",
    "\n",
    "Write a program to generate and print another tuple whose values are even numbers in the given tuple (1,2,3,4,5,6,7,8,9,10).\n",
    "\n",
    "Hints:\n",
    "\n",
    "Use \"for\" to iterate the tuple Use tuple() to generate a tuple from a list.\n",
    "\n",
    "Solution"
   ]
  },
  {
   "cell_type": "code",
   "execution_count": 416,
   "id": "0cf38b6a",
   "metadata": {},
   "outputs": [
    {
     "data": {
      "text/plain": [
       "(2, 4, 6, 8, 10)"
      ]
     },
     "execution_count": 416,
     "metadata": {},
     "output_type": "execute_result"
    }
   ],
   "source": [
    "tple=  (1,2,3,4,5,6,7,8,9,10)\n",
    "even= tuple(val for val in tple if val%2==0)\n",
    "even"
   ]
  },
  {
   "cell_type": "markdown",
   "id": "69e9380c",
   "metadata": {},
   "source": [
    "Question 44\n",
    "\n",
    "Write a program which accepts a string as input to print \"Yes\" if the string is \"yes\" or \"YES\" or \"Yes\", otherwise print \"No\".\n",
    "\n",
    "Hints:\n",
    "\n",
    "Use if statement to judge condition.\n",
    "\n",
    "Solution"
   ]
  },
  {
   "cell_type": "code",
   "execution_count": 422,
   "id": "e7e7fb6d",
   "metadata": {},
   "outputs": [
    {
     "name": "stdout",
     "output_type": "stream",
     "text": [
      "No\n",
      "NO\n"
     ]
    }
   ],
   "source": [
    "def checkString(string):\n",
    "    if (string==\"Yes\") or (string==\"yes\") or (string==\"YES\"):\n",
    "        print(\"Yes\")\n",
    "    else:\n",
    "        print(\"NO\")\n",
    "string= input()\n",
    "checkString(string)"
   ]
  },
  {
   "cell_type": "markdown",
   "id": "0bd6ab34",
   "metadata": {},
   "source": [
    "Question 45\n",
    "\n",
    "Write a program which can filter even numbers in a list by using filter function. The list is: [1,2,3,4,5,6,7,8,9,10].\n",
    "\n",
    "Hints:\n",
    "\n",
    "Use filter() to filter some elements in a list. Use lambda to define anonymous functions.\n",
    "\n",
    "Solution"
   ]
  },
  {
   "cell_type": "code",
   "execution_count": 426,
   "id": "0e04e9c0",
   "metadata": {},
   "outputs": [
    {
     "name": "stdout",
     "output_type": "stream",
     "text": [
      "2\n",
      "4\n",
      "6\n",
      "8\n",
      "10\n"
     ]
    }
   ],
   "source": [
    "li = [1,2,3,4,5,6,7,8,9,10]\n",
    "evenNumbers = filter(lambda x: x%2==0, li)\n",
    "for x in evenNumbers:\n",
    "    print(x)"
   ]
  },
  {
   "cell_type": "markdown",
   "id": "4c020941",
   "metadata": {},
   "source": [
    "Question 46\n",
    "\n",
    "Write a program which can map() to make a list whose elements are square of elements in [1,2,3,4,5,6,7,8,9,10].\n",
    "\n",
    "Hints Use map() to generate a list. Use lambda to define anonymous functions.\n",
    "\n",
    "Solution"
   ]
  },
  {
   "cell_type": "code",
   "execution_count": 428,
   "id": "b22313df",
   "metadata": {},
   "outputs": [
    {
     "name": "stdout",
     "output_type": "stream",
     "text": [
      "1\n",
      "4\n",
      "9\n",
      "16\n",
      "25\n",
      "36\n",
      "49\n",
      "64\n",
      "81\n",
      "100\n"
     ]
    }
   ],
   "source": [
    "li = [1,2,3,4,5,6,7,8,9,10]\n",
    "evenNumbers = map(lambda x: x**2, li)\n",
    "for x in evenNumbers:\n",
    "    print(x)"
   ]
  },
  {
   "cell_type": "markdown",
   "id": "9a735f7f",
   "metadata": {},
   "source": [
    "Question 47\n",
    "\n",
    "Write a program which can map() and filter() to make a list whose elements are square of even number in [1,2,3,4,5,6,7,8,9,10].\n",
    "\n",
    "Hints Use map() to generate a list. Use filter() to filter elements of a list. Use lambda to define anonymous functions.\n",
    "\n",
    "Solution"
   ]
  },
  {
   "cell_type": "code",
   "execution_count": 430,
   "id": "09659e6e",
   "metadata": {},
   "outputs": [
    {
     "name": "stdout",
     "output_type": "stream",
     "text": [
      "4\n",
      "16\n",
      "36\n",
      "64\n",
      "100\n"
     ]
    }
   ],
   "source": [
    "li = [1,2,3,4,5,6,7,8,9,10]\n",
    "evenNumbers = map(lambda x: x**2, filter(lambda x:x%2==0, li))\n",
    "for x in evenNumbers:\n",
    "    print(x)"
   ]
  },
  {
   "cell_type": "markdown",
   "id": "4653d31d",
   "metadata": {},
   "source": [
    "Question 48\n",
    "\n",
    "Write a program which can filter() to make a list whose elements are even number between 1 and 20 (both included).\n",
    "\n",
    "Hints:\n",
    "\n",
    "Use filter() to filter elements of a list. Use lambda to define anonymous functions.\n",
    "\n",
    "Solution"
   ]
  },
  {
   "cell_type": "code",
   "execution_count": 433,
   "id": "7e9d7556",
   "metadata": {},
   "outputs": [
    {
     "name": "stdout",
     "output_type": "stream",
     "text": [
      "0\n",
      "2\n",
      "4\n",
      "6\n",
      "8\n",
      "10\n",
      "12\n",
      "14\n",
      "16\n",
      "18\n",
      "20\n"
     ]
    }
   ],
   "source": [
    "li = [1,2,3,4,5,6,7,8,9,10]\n",
    "evenNumbers = filter(lambda x: x%2==0, range(0,21))\n",
    "for x in evenNumbers:\n",
    "    print(x)"
   ]
  },
  {
   "cell_type": "markdown",
   "id": "f4f10481",
   "metadata": {},
   "source": [
    "Question 49\n",
    "\n",
    "Write a program which can map() to make a list whose elements are square of numbers between 1 and 20 (both included).\n",
    "\n",
    "Hints Use map() to generate a list. Use lambda to define anonymous functions.\n",
    "\n",
    "Solution"
   ]
  },
  {
   "cell_type": "code",
   "execution_count": 434,
   "id": "3713020d",
   "metadata": {},
   "outputs": [
    {
     "name": "stdout",
     "output_type": "stream",
     "text": [
      "1\n",
      "4\n",
      "9\n",
      "16\n",
      "25\n",
      "36\n",
      "49\n",
      "64\n",
      "81\n",
      "100\n",
      "121\n",
      "144\n",
      "169\n",
      "196\n",
      "225\n",
      "256\n",
      "289\n",
      "324\n",
      "361\n",
      "400\n"
     ]
    }
   ],
   "source": [
    "squareNbre= map(lambda x:x**2, range(1,21))\n",
    "for nbr in squareNbre:\n",
    "    print(nbr)"
   ]
  },
  {
   "cell_type": "markdown",
   "id": "aa8da3b1",
   "metadata": {},
   "source": [
    "Question 50\n",
    "\n",
    "Define a class named American which has a static method called printNationality.\n",
    "\n",
    "Hints: Use @staticmethod decorator to define class static method.\n",
    "\n",
    "Solution"
   ]
  },
  {
   "cell_type": "code",
   "execution_count": 436,
   "id": "fe00a786",
   "metadata": {},
   "outputs": [
    {
     "name": "stdout",
     "output_type": "stream",
     "text": [
      "America\n",
      "America\n"
     ]
    }
   ],
   "source": [
    "class Americain(object):\n",
    "    @staticmethod\n",
    "    def printNationality():\n",
    "        print(\"America\")\n",
    "        \n",
    "anAmerican=Americain()\n",
    "anAmerican.printNationality()\n",
    "Americain.printNationality()"
   ]
  },
  {
   "cell_type": "markdown",
   "id": "8accb9e7",
   "metadata": {},
   "source": [
    "Question 51\n",
    "\n",
    "Define a class named American and its subclass NewYorker.\n",
    "\n",
    "Hints:\n",
    "\n",
    "Use class Subclass(ParentClass) to define a subclass.\n",
    "\n",
    "Solution:"
   ]
  },
  {
   "cell_type": "code",
   "execution_count": 437,
   "id": "73b6da91",
   "metadata": {},
   "outputs": [
    {
     "name": "stdout",
     "output_type": "stream",
     "text": [
      "<__main__.Americain object at 0x000001240EE91A30>\n"
     ]
    }
   ],
   "source": [
    "class NewYorker(Americain):\n",
    "    pass\n",
    "anAmericain=Americain()\n",
    "aNewYorker= NewYorker()\n",
    "print(anAmericain)"
   ]
  },
  {
   "cell_type": "markdown",
   "id": "4884bfb3",
   "metadata": {},
   "source": [
    "Question 52\n",
    "\n",
    "Define a class named Circle which can be constructed by a radius. The Circle class has a method which can compute the area.\n",
    "\n",
    "Hints:\n",
    "\n",
    "Use def methodName(self) to define a method.\n",
    "\n",
    "Solution:"
   ]
  },
  {
   "cell_type": "code",
   "execution_count": 444,
   "id": "92aea928",
   "metadata": {},
   "outputs": [
    {
     "name": "stdout",
     "output_type": "stream",
     "text": [
      "28.274333882308138\n"
     ]
    }
   ],
   "source": [
    "class Circle(object):\n",
    "    def __init__(self, radius=None):\n",
    "        self.radius=radius\n",
    "        \n",
    "    def area(self, radius):\n",
    "        return (math.pi)*(radius**2)\n",
    "\n",
    "circle= Circle()\n",
    "print(circle.area(3))"
   ]
  },
  {
   "cell_type": "markdown",
   "id": "047c28b2",
   "metadata": {},
   "source": [
    "Question 53\n",
    "\n",
    "Define a class named Rectangle which can be constructed by a length and width. The Rectangle class has a method which can compute the area.\n",
    "\n",
    "Hints:\n",
    "\n",
    "Use def methodName(self) to define a method.\n",
    "\n",
    "Solution:"
   ]
  },
  {
   "cell_type": "code",
   "execution_count": 447,
   "id": "1ad67288",
   "metadata": {},
   "outputs": [
    {
     "name": "stdout",
     "output_type": "stream",
     "text": [
      "20\n"
     ]
    }
   ],
   "source": [
    "class Rectangle(object):\n",
    "    def __init__(self, length, width):\n",
    "        self.length=length\n",
    "        self.width=width\n",
    "        \n",
    "    def area(self):\n",
    "        return self.length*self.width\n",
    "rectangle= Rectangle(2, 10)\n",
    "print(rectangle.area())"
   ]
  },
  {
   "cell_type": "markdown",
   "id": "21d187bd",
   "metadata": {},
   "source": [
    "Question 54\n",
    "\n",
    "Define a class named Shape and its subclass Square. The Square class has an init function which takes a length as argument. Both classes have a area function which can print the area of the shape where Shape's area is 0 by default.\n",
    "\n",
    "Hints:\n",
    "\n",
    "To override a method in super class, we can define a method with the same name in the super class.\n",
    "\n",
    "Solution:"
   ]
  },
  {
   "cell_type": "code",
   "execution_count": 450,
   "id": "17b57288",
   "metadata": {},
   "outputs": [
    {
     "name": "stdout",
     "output_type": "stream",
     "text": [
      "25\n",
      "0\n"
     ]
    }
   ],
   "source": [
    "class Shape(object):\n",
    "    def __init__(self):\n",
    "        pass\n",
    "    def shapeArea(self):\n",
    "        return 0\n",
    "class Square(Shape):\n",
    "    def __init__(self, l):\n",
    "        self.length=l\n",
    "        \n",
    "    def area(self):\n",
    "        return self.length*self.length\n",
    "asquare= Square(5)\n",
    "print(asquare.area())\n",
    "print(asquare.shapeArea())\n",
    "    "
   ]
  },
  {
   "cell_type": "markdown",
   "id": "68eb740a",
   "metadata": {},
   "source": [
    "Question 55\n",
    "\n",
    "Please raise a RuntimeError exception.\n",
    "\n",
    "Hints:\n",
    "\n",
    "Use raise() to raise an exception.\n",
    "\n",
    "Solution:"
   ]
  },
  {
   "cell_type": "code",
   "execution_count": 451,
   "id": "1aa8211a",
   "metadata": {},
   "outputs": [
    {
     "ename": "RuntimeError",
     "evalue": "something wrong",
     "output_type": "error",
     "traceback": [
      "\u001b[1;31m---------------------------------------------------------------------------\u001b[0m",
      "\u001b[1;31mRuntimeError\u001b[0m                              Traceback (most recent call last)",
      "\u001b[1;32m~\\AppData\\Local\\Temp/ipykernel_16808/2384397409.py\u001b[0m in \u001b[0;36m<module>\u001b[1;34m\u001b[0m\n\u001b[1;32m----> 1\u001b[1;33m \u001b[1;32mraise\u001b[0m \u001b[0mRuntimeError\u001b[0m\u001b[1;33m(\u001b[0m\u001b[1;34m'something wrong'\u001b[0m\u001b[1;33m)\u001b[0m\u001b[1;33m\u001b[0m\u001b[1;33m\u001b[0m\u001b[0m\n\u001b[0m",
      "\u001b[1;31mRuntimeError\u001b[0m: something wrong"
     ]
    }
   ],
   "source": [
    "raise RuntimeError('something wrong')"
   ]
  },
  {
   "cell_type": "code",
   "execution_count": 456,
   "id": "ee718e43",
   "metadata": {},
   "outputs": [
    {
     "name": "stdout",
     "output_type": "stream",
     "text": [
      "division by zero!\n",
      "In finally block for cleanup\n"
     ]
    }
   ],
   "source": [
    "def throws():\n",
    "    return 5/0\n",
    "\n",
    "try:\n",
    "    throws()\n",
    "except ZeroDivisionError:\n",
    "    print(\"division by zero!\")\n",
    "except Exception:\n",
    "    print('Caught an exception')\n",
    "finally:\n",
    "    print('In finally block for cleanup')"
   ]
  },
  {
   "cell_type": "markdown",
   "id": "ad2367a8",
   "metadata": {},
   "source": [
    "Question 57\n",
    "\n",
    "Define a custom exception class which takes a string message as attribute.\n",
    "\n",
    "Hints:\n",
    "\n",
    "To define a custom exception, we need to define a class inherited from Exception.\n",
    "\n",
    "Solution:"
   ]
  },
  {
   "cell_type": "code",
   "execution_count": 458,
   "id": "e75503ad",
   "metadata": {},
   "outputs": [
    {
     "data": {
      "text/plain": [
       "__main__.MyError('something wrong')"
      ]
     },
     "execution_count": 458,
     "metadata": {},
     "output_type": "execute_result"
    }
   ],
   "source": [
    "class MyError(Exception):\n",
    "    \"\"\" My own exception class\n",
    "    Attributes:\n",
    "    msg-- explanation of the error\n",
    "    \"\"\"\n",
    "    def __init__(self, msg):\n",
    "        self.msg=msg\n",
    "    \n",
    "error= MyError(\"something wrong\")\n",
    "error"
   ]
  },
  {
   "cell_type": "markdown",
   "id": "70b0c6b9",
   "metadata": {},
   "source": [
    "Question 58\n",
    "\n",
    "Assuming that we have some email addresses in the \"username@companyname.com\" format, please write program to print the user name of a given email address. Both user names and company names are composed of letters only.\n",
    "\n",
    "Example: If the following email address is given as input to the program:\n",
    "\n",
    "john@google.com\n",
    "\n",
    "Then, the output of the program should be:\n",
    "\n",
    "john\n",
    "\n",
    "In case of input data being supplied to the question, it should be assumed to be a console input.\n",
    "\n",
    "Hints:\n",
    "\n",
    "Use \\w to match letters.\n",
    "\n",
    "Solution:"
   ]
  },
  {
   "cell_type": "code",
   "execution_count": 10,
   "id": "0cbc4b20",
   "metadata": {},
   "outputs": [
    {
     "data": {
      "text/plain": [
       "'tony@tiger.net'"
      ]
     },
     "execution_count": 10,
     "metadata": {},
     "output_type": "execute_result"
    }
   ],
   "source": [
    "email = \"tony@tiremove_thisger.net\"\n",
    "m = re.search(\"remove_this\", email)\n",
    "email[:m.start()] + email[m.end():]"
   ]
  },
  {
   "cell_type": "code",
   "execution_count": 9,
   "id": "19c54484",
   "metadata": {},
   "outputs": [
    {
     "name": "stdout",
     "output_type": "stream",
     "text": [
      "Please enter your email: john@google.com\n"
     ]
    },
    {
     "data": {
      "text/plain": [
       "'john'"
      ]
     },
     "execution_count": 9,
     "metadata": {},
     "output_type": "execute_result"
    }
   ],
   "source": [
    "import re\n",
    "email=input(\"Please enter your email: \")\n",
    "m = re.search(\"@\", email)\n",
    "email[:m.start()]\n"
   ]
  },
  {
   "cell_type": "code",
   "execution_count": 21,
   "id": "6205e9e3",
   "metadata": {},
   "outputs": [
    {
     "name": "stdout",
     "output_type": "stream",
     "text": [
      "john@google.com\n",
      "john\n"
     ]
    }
   ],
   "source": [
    "emailAdress= input()\n",
    "pat2= \"(\\w+)@((\\w+\\.)+(com))\"\n",
    "r2= re.match(pat2, emailAdress)\n",
    "print(r2.group(1))"
   ]
  },
  {
   "cell_type": "markdown",
   "id": "ea1d7863",
   "metadata": {},
   "source": [
    "Question 59\n",
    "\n",
    "Assuming that we have some email addresses in the \"username@companyname.com\" format, please write program to print the company name of a given email address. Both user names and company names are composed of letters only.\n",
    "\n",
    "Example: If the following email address is given as input to the program:\n",
    "\n",
    "john@google.com\n",
    "\n",
    "Then, the output of the program should be:\n",
    "\n",
    "google\n",
    "\n",
    "In case of input data being supplied to the question, it should be assumed to be a console input.\n",
    "\n",
    "Hints:\n",
    "\n",
    "Use \\w to match letters.\n",
    "\n",
    "Solution:"
   ]
  },
  {
   "cell_type": "code",
   "execution_count": 31,
   "id": "ab82e12d",
   "metadata": {},
   "outputs": [
    {
     "name": "stdout",
     "output_type": "stream",
     "text": [
      "john@google.com\n",
      "google\n"
     ]
    }
   ],
   "source": [
    "emailAdress= input()\n",
    "pat2= \"(\\w+)@((\\w+)+(\\.com))\"\n",
    "r2= re.match(pat2, emailAdress)\n",
    "print(r2.group(3))"
   ]
  },
  {
   "cell_type": "markdown",
   "id": "ac28dab7",
   "metadata": {},
   "source": [
    "Question 60\n",
    "\n",
    "Write a program which accepts a sequence of words separated by whitespace as input to print the words composed of digits only.\n",
    "\n",
    "Example: If the following words is given as input to the program:\n",
    "\n",
    "2 cats and 3 dogs.\n",
    "\n",
    "Then, the output of the program should be:\n",
    "\n",
    "['2', '3']\n",
    "\n",
    "In case of input data being supplied to the question, it should be assumed to be a console input.\n",
    "\n",
    "Hints:\n",
    "\n",
    "Use re.findall() to find all substring using regex.\n",
    "\n",
    "Solution:"
   ]
  },
  {
   "cell_type": "code",
   "execution_count": 36,
   "id": "a502faf1",
   "metadata": {},
   "outputs": [
    {
     "name": "stdout",
     "output_type": "stream",
     "text": [
      "2 cats and 3 dogs\n",
      "['2', '3']\n"
     ]
    }
   ],
   "source": [
    "sequence= input()\n",
    "items=[item for item in sequence.split(\" \")]\n",
    "lst=[]\n",
    "for item in items:\n",
    "    if not re.search(\"[a-zA-Z]\",item):\n",
    "        lst.append(item)\n",
    "print(lst)"
   ]
  },
  {
   "cell_type": "code",
   "execution_count": 34,
   "id": "665ae335",
   "metadata": {},
   "outputs": [
    {
     "name": "stdout",
     "output_type": "stream",
     "text": [
      "2 cats and 3 dogs\n",
      "['2', '3']\n"
     ]
    }
   ],
   "source": [
    "sequence= input()\n",
    "pattern='[0-9]+'\n",
    "result= re.findall(pattern, sequence)\n",
    "print(result)"
   ]
  },
  {
   "cell_type": "code",
   "execution_count": 35,
   "id": "c165d236",
   "metadata": {},
   "outputs": [
    {
     "name": "stdout",
     "output_type": "stream",
     "text": [
      "['2', '3']\n"
     ]
    }
   ],
   "source": [
    "print(re.findall(\"\\d\", sequence))"
   ]
  },
  {
   "cell_type": "markdown",
   "id": "85cac27e",
   "metadata": {},
   "source": [
    "Question 61\n",
    "\n",
    "Print a unicode string \"hello world\".\n",
    "\n",
    "Hints:\n",
    "\n",
    "Use u'strings' format to define unicode string.\n",
    "\n",
    "Solution:"
   ]
  },
  {
   "cell_type": "code",
   "execution_count": 37,
   "id": "4107140a",
   "metadata": {},
   "outputs": [
    {
     "name": "stdout",
     "output_type": "stream",
     "text": [
      "hello world!\n"
     ]
    }
   ],
   "source": [
    "unicodeString = u\"hello world!\"\n",
    "print(unicodeString)"
   ]
  },
  {
   "cell_type": "markdown",
   "id": "7b146388",
   "metadata": {},
   "source": [
    "Question 62\n",
    "\n",
    "Write a program to read an ASCII string and to convert it to a unicode string encoded by utf-8.\n",
    "\n",
    "Hints:\n",
    "\n",
    "Use unicode() function to convert.\n",
    "\n",
    "Solution:"
   ]
  },
  {
   "cell_type": "code",
   "execution_count": 46,
   "id": "2800dbfb",
   "metadata": {},
   "outputs": [
    {
     "name": "stdout",
     "output_type": "stream",
     "text": [
      "hello world!\n",
      "hello world!\n"
     ]
    }
   ],
   "source": [
    "s= input()\n",
    "def ensureUtf(s):\n",
    "  try:\n",
    "      if type(s) == unicode:\n",
    "        return s.encode('utf8', 'ignore')\n",
    "  except: \n",
    "    return str(s)\n",
    "u= ensureUtf(s)\n",
    "print(u)"
   ]
  },
  {
   "cell_type": "markdown",
   "id": "e2ca0b11",
   "metadata": {},
   "source": [
    "Question 63\n",
    "\n",
    "Write a special comment to indicate a Python source code file is in unicode.\n",
    "\n",
    "Hints:\n",
    "\n",
    "Solution:"
   ]
  },
  {
   "cell_type": "code",
   "execution_count": 47,
   "id": "d6fff59f",
   "metadata": {},
   "outputs": [],
   "source": [
    "# -*- coding: utf-8 -*-\n",
    "\n",
    "#----------------------------------------#"
   ]
  },
  {
   "cell_type": "markdown",
   "id": "8cd98057",
   "metadata": {},
   "source": [
    "Question 64\n",
    "\n",
    "Write a program to compute 1/2+2/3+3/4+...+n/n+1 with a given n input by console (n>0).\n",
    "\n",
    "Example: If the following n is given as input to the program:\n",
    "\n",
    "5\n",
    "\n",
    "Then, the output of the program should be:\n",
    "\n",
    "3.55\n",
    "\n",
    "In case of input data being supplied to the question, it should be assumed to be a console input.\n",
    "\n",
    "Hints: Use float() to convert an integer to a float\n",
    "\n",
    "Solution:"
   ]
  },
  {
   "cell_type": "code",
   "execution_count": 69,
   "id": "7d6d13a7",
   "metadata": {},
   "outputs": [
    {
     "name": "stdout",
     "output_type": "stream",
     "text": [
      "5\n",
      "3.55\n"
     ]
    }
   ],
   "source": [
    "def computeFunction(n):\n",
    "    sum_=0.0\n",
    "    if n<=0:\n",
    "        print(\"You should give a positif number\")\n",
    "    else:\n",
    "        for i in range(1,n+1):\n",
    "            sum_+= float(float(i)/(i+1))\n",
    "    return sum_\n",
    "n=int(input())\n",
    "value= computeFunction(n)\n",
    "print(\"%.2f\"% value)"
   ]
  },
  {
   "cell_type": "markdown",
   "id": "6e526458",
   "metadata": {},
   "source": [
    "Question 65\n",
    "\n",
    "Write a program to compute:\n",
    "\n",
    "f(n)=f(n-1)+100 when n>0 and f(0)=1\n",
    "\n",
    "with a given n input by console (n>0).\n",
    "\n",
    "Example: If the following n is given as input to the program:\n",
    "\n",
    "5\n",
    "\n",
    "Then, the output of the program should be:\n",
    "\n",
    "500\n",
    "\n",
    "In case of input data being supplied to the question, it should be assumed to be a console input.\n",
    "\n",
    "Hints: We can define recursive function in Python.\n",
    "\n",
    "Solution:"
   ]
  },
  {
   "cell_type": "code",
   "execution_count": 75,
   "id": "87af56ae",
   "metadata": {},
   "outputs": [
    {
     "name": "stdout",
     "output_type": "stream",
     "text": [
      "5\n",
      "500\n"
     ]
    }
   ],
   "source": [
    "def computeFun(n):\n",
    "    \n",
    "    if n==0:\n",
    "        return 0\n",
    "    else:\n",
    "        return computeFun(n-1)+100\n",
    "    \n",
    "s= int(input())\n",
    "print(computeFun(s))"
   ]
  },
  {
   "cell_type": "markdown",
   "id": "4b0dc524",
   "metadata": {},
   "source": [
    "Question 66\n",
    "\n",
    "The Fibonacci Sequence is computed based on the following formula:\n",
    "\n",
    "f(n)=0 if n=0 f(n)=1 if n=1 f(n)=f(n-1)+f(n-2) if n>1\n",
    "\n",
    "Please write a program to compute the value of f(n) with a given n input by console.\n",
    "\n",
    "Example: If the following n is given as input to the program:\n",
    "\n",
    "7\n",
    "\n",
    "Then, the output of the program should be:\n",
    "\n",
    "13\n",
    "\n",
    "In case of input data being supplied to the question, it should be assumed to be a console input.\n",
    "\n",
    "Hints: We can define recursive function in Python.\n",
    "\n",
    "Solution:"
   ]
  },
  {
   "cell_type": "code",
   "execution_count": 76,
   "id": "3c683aa3",
   "metadata": {},
   "outputs": [
    {
     "name": "stdout",
     "output_type": "stream",
     "text": [
      "7\n",
      "13\n"
     ]
    }
   ],
   "source": [
    "def Fibonacci(n):\n",
    "    if n==0:\n",
    "        return 0\n",
    "    elif n==1:\n",
    "        return 1\n",
    "    else: \n",
    "        return Fibonacci(n-2)+Fibonacci(n-1)\n",
    "s= int(input())\n",
    "print(Fibonacci(s))"
   ]
  },
  {
   "cell_type": "markdown",
   "id": "be0d29dd",
   "metadata": {},
   "source": [
    "Question 67\n",
    "\n",
    "The Fibonacci Sequence is computed based on the following formula:\n",
    "\n",
    "f(n)=0 if n=0 f(n)=1 if n=1 f(n)=f(n-1)+f(n-2) if n>1\n",
    "\n",
    "Please write a program using list comprehension to print the Fibonacci Sequence in comma separated form with a given n input by console.\n",
    "\n",
    "Example: If the following n is given as input to the program:\n",
    "\n",
    "7\n",
    "\n",
    "Then, the output of the program should be:\n",
    "\n",
    "0,1,1,2,3,5,8,13\n",
    "\n",
    "Hints: We can define recursive function in Python. Use list comprehension to generate a list from an existing list. Use string.join() to join a list of strings.\n",
    "\n",
    "In case of input data being supplied to the question, it should be assumed to be a console input.\n",
    "\n",
    "Solution:"
   ]
  },
  {
   "cell_type": "code",
   "execution_count": 84,
   "id": "489ce0de",
   "metadata": {},
   "outputs": [
    {
     "name": "stdout",
     "output_type": "stream",
     "text": [
      "7\n",
      "0,1,1,2,3,5,8,13\n",
      "['0', '1', '1', '2', '3', '5', '8', '13']\n"
     ]
    }
   ],
   "source": [
    "def Fibonacci(n):\n",
    "    if n==0:\n",
    "        return 0\n",
    "    elif n==1:\n",
    "        return 1\n",
    "    else: \n",
    "        return Fibonacci(n-2)+Fibonacci(n-1)\n",
    "    return fib_lst\n",
    "s= int(input())\n",
    "\n",
    "lst=[]\n",
    "values=[str(Fibonacci(i)) for i in range(s+1)]\n",
    "print(\",\".join(values))\n",
    "print(values)"
   ]
  },
  {
   "cell_type": "markdown",
   "id": "687b24b8",
   "metadata": {},
   "source": [
    "Question 68\n",
    "\n",
    "Please write a program using generator to print the even numbers between 0 and n in comma separated form while n is input by console.\n",
    "\n",
    "Example: If the following n is given as input to the program:\n",
    "\n",
    "10\n",
    "\n",
    "Then, the output of the program should be:\n",
    "\n",
    "0,2,4,6,8,10\n",
    "\n",
    "Hints: Use yield to produce the next value in generator.\n",
    "\n",
    "In case of input data being supplied to the question, it should be assumed to be a console input.\n",
    "\n",
    "Solution:"
   ]
  },
  {
   "cell_type": "code",
   "execution_count": 93,
   "id": "4a4c2acf",
   "metadata": {},
   "outputs": [
    {
     "name": "stdout",
     "output_type": "stream",
     "text": [
      "10\n",
      "0,2,4,6,8,10\n"
     ]
    }
   ],
   "source": [
    "def generatorEvenNbr(n):\n",
    "    i=0\n",
    "    while i<=n:\n",
    "        if i%2==0:\n",
    "            yield i\n",
    "        i+=1\n",
    "n=int(input())  \n",
    "values=[]\n",
    "for i in generatorEvenNbr(n):\n",
    "    values.append(str(i))\n",
    "print(\",\".join(values))"
   ]
  },
  {
   "cell_type": "markdown",
   "id": "7b22cae2",
   "metadata": {},
   "source": [
    "Question 69\n",
    "\n",
    "Please write a program using generator to print the numbers which can be divisible by 5 and 7 between 0 and n in comma separated form while n is input by console.\n",
    "\n",
    "Example: If the following n is given as input to the program:\n",
    "\n",
    "100\n",
    "\n",
    "Then, the output of the program should be:\n",
    "\n",
    "0,35,70\n",
    "\n",
    "Hints: Use yield to produce the next value in generator.\n",
    "\n",
    "In case of input data being supplied to the question, it should be assumed to be a console input.\n",
    "\n",
    "Solution:"
   ]
  },
  {
   "cell_type": "code",
   "execution_count": 94,
   "id": "34c5b0df",
   "metadata": {},
   "outputs": [
    {
     "name": "stdout",
     "output_type": "stream",
     "text": [
      "100\n",
      "0,35,70\n"
     ]
    }
   ],
   "source": [
    "def generatorYield(n):\n",
    "    i=0\n",
    "    while i<=n:\n",
    "        if (i%5==0) and (i%7==0):\n",
    "            yield i\n",
    "        i+=1\n",
    "n=int(input())\n",
    "values = []\n",
    "for i in generatorYield(n):\n",
    "    values.append(str(i))\n",
    "\n",
    "print(\",\".join(values))"
   ]
  },
  {
   "cell_type": "markdown",
   "id": "a8746322",
   "metadata": {},
   "source": [
    "Question 70\n",
    "\n",
    "Please write assert statements to verify that every number in the list [2,4,6,8] is even.\n",
    "\n",
    "Hints: Use \"assert expression\" to make assertion.\n",
    "\n",
    "Solution:"
   ]
  },
  {
   "cell_type": "code",
   "execution_count": 99,
   "id": "fca7f121",
   "metadata": {},
   "outputs": [
    {
     "ename": "AssertionError",
     "evalue": "",
     "output_type": "error",
     "traceback": [
      "\u001b[1;31m---------------------------------------------------------------------------\u001b[0m",
      "\u001b[1;31mAssertionError\u001b[0m                            Traceback (most recent call last)",
      "\u001b[1;32m~\\AppData\\Local\\Temp/ipykernel_16176/1013108197.py\u001b[0m in \u001b[0;36m<module>\u001b[1;34m\u001b[0m\n\u001b[0;32m      1\u001b[0m \u001b[0mli\u001b[0m\u001b[1;33m=\u001b[0m\u001b[1;33m[\u001b[0m\u001b[1;36m2\u001b[0m\u001b[1;33m,\u001b[0m \u001b[1;36m5\u001b[0m\u001b[1;33m,\u001b[0m \u001b[1;36m8\u001b[0m\u001b[1;33m]\u001b[0m\u001b[1;33m\u001b[0m\u001b[1;33m\u001b[0m\u001b[0m\n\u001b[0;32m      2\u001b[0m \u001b[1;32mfor\u001b[0m \u001b[0mi\u001b[0m \u001b[1;32min\u001b[0m \u001b[0mli\u001b[0m\u001b[1;33m:\u001b[0m\u001b[1;33m\u001b[0m\u001b[1;33m\u001b[0m\u001b[0m\n\u001b[1;32m----> 3\u001b[1;33m     \u001b[1;32massert\u001b[0m \u001b[0mi\u001b[0m\u001b[1;33m%\u001b[0m\u001b[1;36m2\u001b[0m\u001b[1;33m==\u001b[0m\u001b[1;36m0\u001b[0m\u001b[1;33m\u001b[0m\u001b[1;33m\u001b[0m\u001b[0m\n\u001b[0m\u001b[0;32m      4\u001b[0m \u001b[1;33m\u001b[0m\u001b[0m\n",
      "\u001b[1;31mAssertionError\u001b[0m: "
     ]
    }
   ],
   "source": [
    "li=[2, 5, 8]\n",
    "for i in li:\n",
    "    assert i%2==0\n",
    "    "
   ]
  },
  {
   "cell_type": "markdown",
   "id": "48c675a2",
   "metadata": {},
   "source": [
    "Question 71\n",
    "\n",
    "Please write a program which accepts basic mathematic expression from console and print the evaluation result.\n",
    "\n",
    "Example: If the following string is given as input to the program:\n",
    "\n",
    "35+3\n",
    "\n",
    "Then, the output of the program should be:\n",
    "\n",
    "38\n",
    "\n",
    "Hints: Use eval() to evaluate an expression.\n",
    "\n",
    "Solution:"
   ]
  },
  {
   "cell_type": "code",
   "execution_count": 1,
   "id": "537c0d41",
   "metadata": {},
   "outputs": [
    {
     "data": {
      "text/plain": [
       "38"
      ]
     },
     "execution_count": 1,
     "metadata": {},
     "output_type": "execute_result"
    }
   ],
   "source": [
    "def basicMath(a,b):\n",
    "    add= a+b\n",
    "    return eval('add')\n",
    "a,b= 35, 3\n",
    "basicMath(a,b)"
   ]
  },
  {
   "cell_type": "markdown",
   "id": "02548a70",
   "metadata": {},
   "source": [
    "Question 72\n",
    "\n",
    "Please write a binary search function which searches an item in a sorted list. The function should return the index of element to be searched in the list.\n",
    "\n",
    "Hints: Use if/elif to deal with conditions.\n",
    "\n",
    "Solution:"
   ]
  },
  {
   "cell_type": "code",
   "execution_count": 16,
   "id": "39658de1",
   "metadata": {},
   "outputs": [
    {
     "name": "stdout",
     "output_type": "stream",
     "text": [
      "sorted list:  [10, 10, 10, 10, 20, 30, 45, 50]\n"
     ]
    },
    {
     "data": {
      "text/plain": [
       "[0, 1, 2, 3]"
      ]
     },
     "execution_count": 16,
     "metadata": {},
     "output_type": "execute_result"
    }
   ],
   "source": [
    "def serachItem(item, li):\n",
    "    lis= sorted(li)\n",
    "    print(\"sorted list: \",lis)\n",
    "    index=[]\n",
    "    for i in range(len(lis)):\n",
    "        if item ==lis[i]:\n",
    "            index.append(i)\n",
    "    return index\n",
    "        \n",
    "li = [10,20,30,10,50,10,45,10] \n",
    "item= 10\n",
    "index=serachItem(item, li)\n",
    "index"
   ]
  },
  {
   "cell_type": "code",
   "execution_count": 20,
   "id": "1daec15e",
   "metadata": {},
   "outputs": [
    {
     "name": "stdout",
     "output_type": "stream",
     "text": [
      "[0, 1, 2, 3]\n"
     ]
    }
   ],
   "source": [
    "li = [10,20,30,10,50,10,45,10] \n",
    "lis=sorted(li)\n",
    "item= 10\n",
    "res=[x for x in range(len(lis)) if lis[x]==item]\n",
    "print(res)"
   ]
  },
  {
   "cell_type": "code",
   "execution_count": 21,
   "id": "6ebab491",
   "metadata": {},
   "outputs": [
    {
     "name": "stdout",
     "output_type": "stream",
     "text": [
      "[0, 1, 2, 3]\n"
     ]
    }
   ],
   "source": [
    "res=[x for x , z in enumerate(lis) if z==item]\n",
    "print(res)"
   ]
  },
  {
   "cell_type": "markdown",
   "id": "2866e542",
   "metadata": {},
   "source": [
    "Question 73\n",
    "\n",
    "Please write a binary search function which searches an item in a sorted list. The function should return the index of element to be searched in the list.\n",
    "\n",
    "Hints: Use if/elif to deal with conditions.\n",
    "\n",
    "Solution:"
   ]
  },
  {
   "cell_type": "code",
   "execution_count": 26,
   "id": "5bc82bad",
   "metadata": {},
   "outputs": [
    {
     "name": "stdout",
     "output_type": "stream",
     "text": [
      "[2, 5, 7, 9, 11, 17, 222]\n",
      "4\n",
      "[2, 5, 7, 9, 11, 17, 222]\n",
      "-1\n"
     ]
    }
   ],
   "source": [
    "import math \n",
    "\n",
    "def binarySearchList(lst, element):\n",
    "    lis= sorted(lst)\n",
    "    print(lis)\n",
    "    top= len(lis)-1\n",
    "    bottom=0\n",
    "    index=-1\n",
    "    while top>=bottom and index==-1:\n",
    "        mid= int(math.floor((top+bottom)/ 2.0))\n",
    "        if lis[mid]== element:\n",
    "            index=mid\n",
    "        elif lis[mid]> element:\n",
    "            top= mid-1\n",
    "        else:\n",
    "            bottom=mid+1\n",
    "    return index\n",
    "        \n",
    "li=[2,5,7,9,11,17,222]\n",
    "index= binarySearchList(li,11)\n",
    "print(index)\n",
    "print(binarySearchList(li,12))   "
   ]
  },
  {
   "cell_type": "markdown",
   "id": "795d9d86",
   "metadata": {},
   "source": [
    "Question 74\n",
    "\n",
    "Please generate a random float where the value is between 10 and 100 using Python math module.\n",
    "\n",
    "Hints: Use random.random() to generate a random float in [0,1].\n",
    "\n",
    "Solution:"
   ]
  },
  {
   "cell_type": "code",
   "execution_count": 50,
   "id": "f8633b7f",
   "metadata": {},
   "outputs": [
    {
     "name": "stdout",
     "output_type": "stream",
     "text": [
      "50.913588017679636\n"
     ]
    }
   ],
   "source": [
    "import random\n",
    "generate= random.random()*(100-10)\n",
    "print(generate)"
   ]
  },
  {
   "cell_type": "markdown",
   "id": "514d398e",
   "metadata": {},
   "source": [
    "Question 75\n",
    "\n",
    "Please generate a random float where the value is between 5 and 95 using Python math module.\n",
    "\n",
    "Hints: Use random.random() to generate a random float in [0,1].\n",
    "\n",
    "Solution:"
   ]
  },
  {
   "cell_type": "code",
   "execution_count": 48,
   "id": "f738bdf7",
   "metadata": {},
   "outputs": [
    {
     "name": "stdout",
     "output_type": "stream",
     "text": [
      "19.526185128275173\n"
     ]
    }
   ],
   "source": [
    "generate= random.random()*(100-5)\n",
    "print(generate)"
   ]
  },
  {
   "cell_type": "markdown",
   "id": "32397558",
   "metadata": {},
   "source": [
    "Question 76\n",
    "\n",
    "Please write a program to output a random even number between 0 and 10 inclusive using random module and list comprehension.\n",
    "\n",
    "Hints: Use random.choice() to a random element from a list.\n",
    "\n",
    "Solution:"
   ]
  },
  {
   "cell_type": "code",
   "execution_count": 54,
   "id": "656b28a9",
   "metadata": {},
   "outputs": [
    {
     "name": "stdout",
     "output_type": "stream",
     "text": [
      "4\n"
     ]
    }
   ],
   "source": [
    "rndEven= random.choice([i for i in range(11) if i%2==0])\n",
    "print(rndEven)"
   ]
  },
  {
   "cell_type": "markdown",
   "id": "899f7c40",
   "metadata": {},
   "source": [
    "Question 77\n",
    "\n",
    "Please write a program to output a random number, which is divisible by 5 and 7, between 0 and 10 inclusive using random module and list comprehension.\n",
    "\n",
    "Hints: Use random.choice() to a random element from a list.\n",
    "\n",
    "Solution:"
   ]
  },
  {
   "cell_type": "code",
   "execution_count": 59,
   "id": "572191f9",
   "metadata": {},
   "outputs": [
    {
     "data": {
      "text/plain": [
       "0"
      ]
     },
     "execution_count": 59,
     "metadata": {},
     "output_type": "execute_result"
    }
   ],
   "source": [
    "nbr= random.choice([i for i in range(11) if i%5==0 and i%7==0])\n",
    "nbr"
   ]
  },
  {
   "cell_type": "markdown",
   "id": "8f9e2fbc",
   "metadata": {},
   "source": [
    "Question 78\n",
    "\n",
    "Please write a program to generate a list with 5 random numbers between 100 and 200 inclusive.\n",
    "\n",
    "Hints: Use random.sample() to generate a list of random values.\n",
    "\n",
    "Solution:"
   ]
  },
  {
   "cell_type": "code",
   "execution_count": 64,
   "id": "15726ea2",
   "metadata": {},
   "outputs": [
    {
     "data": {
      "text/plain": [
       "[141, 155, 181, 157, 115]"
      ]
     },
     "execution_count": 64,
     "metadata": {},
     "output_type": "execute_result"
    }
   ],
   "source": [
    "lst= random.sample(range(100, 201), 5)\n",
    "lst"
   ]
  },
  {
   "cell_type": "markdown",
   "id": "fb31ab1e",
   "metadata": {},
   "source": [
    "Question 79\n",
    "\n",
    "Please write a program to randomly generate a list with 5 even numbers between 100 and 200 inclusive.\n",
    "\n",
    "Hints: Use random.sample() to generate a list of random values.\n",
    "\n",
    "Solution:"
   ]
  },
  {
   "cell_type": "code",
   "execution_count": 66,
   "id": "1ed02932",
   "metadata": {},
   "outputs": [
    {
     "data": {
      "text/plain": [
       "[126, 124, 104, 184, 196]"
      ]
     },
     "execution_count": 66,
     "metadata": {},
     "output_type": "execute_result"
    }
   ],
   "source": [
    "lst= random.sample([i for i in range(100, 201) if i%2==0], 5)\n",
    "lst"
   ]
  },
  {
   "cell_type": "markdown",
   "id": "cdc15640",
   "metadata": {},
   "source": [
    "Question 80\n",
    "\n",
    "Please write a program to randomly generate a list with 5 numbers, which are divisible by 5 and 7 , between 1 and 1000 inclusive.\n",
    "\n",
    "Hints: Use random.sample() to generate a list of random values.\n",
    "\n",
    "Solution:"
   ]
  },
  {
   "cell_type": "code",
   "execution_count": 67,
   "id": "1c1955ea",
   "metadata": {},
   "outputs": [
    {
     "data": {
      "text/plain": [
       "[105, 70, 280, 700, 455]"
      ]
     },
     "execution_count": 67,
     "metadata": {},
     "output_type": "execute_result"
    }
   ],
   "source": [
    "gen= random.sample([i for i in range(1, 1001) if i%5==0 and i%7==0], 5)\n",
    "gen"
   ]
  },
  {
   "cell_type": "markdown",
   "id": "70a808b3",
   "metadata": {},
   "source": [
    "Question 81\n",
    "\n",
    "Please write a program to randomly print a integer number between 7 and 15 inclusive.\n",
    "\n",
    "Hints: Use random.randrange() to a random integer in a given range.\n",
    "\n",
    "Solution:"
   ]
  },
  {
   "cell_type": "code",
   "execution_count": 69,
   "id": "6b3c4b5c",
   "metadata": {},
   "outputs": [
    {
     "data": {
      "text/plain": [
       "11"
      ]
     },
     "execution_count": 69,
     "metadata": {},
     "output_type": "execute_result"
    }
   ],
   "source": [
    "intNbr= random.randrange(7, 15)\n",
    "intNbr"
   ]
  },
  {
   "cell_type": "markdown",
   "id": "4c64d477",
   "metadata": {},
   "source": [
    "Question 82\n",
    "\n",
    "Please write a program to compress and decompress the string \"hello world!hello world!hello world!hello world!\".\n",
    "\n",
    "Hints: Use zlib.compress() and zlib.decompress() to compress and decompress a string.\n",
    "\n",
    "Solution:"
   ]
  },
  {
   "cell_type": "code",
   "execution_count": 76,
   "id": "b141b170",
   "metadata": {},
   "outputs": [
    {
     "name": "stdout",
     "output_type": "stream",
     "text": [
      "48 23\n"
     ]
    },
    {
     "data": {
      "text/plain": [
       "(b'x\\x9c\\xcbH\\xcd\\xc9\\xc9W(\\xcf/\\xcaIQ\\xcc \\x82\\r\\x00\\xbd[\\x11\\xf5',\n",
       " b'hello world!hello world!hello world!hello world!')"
      ]
     },
     "execution_count": 76,
     "metadata": {},
     "output_type": "execute_result"
    }
   ],
   "source": [
    "import zlib\n",
    "string=  b\"hello world!hello world!hello world!hello world!\"\n",
    "compress= zlib.compress(string)\n",
    "decompress= zlib.decompress(compress)\n",
    "print(len(string), len(compress))\n",
    "compress, decompress"
   ]
  },
  {
   "cell_type": "markdown",
   "id": "56ecda22",
   "metadata": {},
   "source": [
    "Question 83\n",
    "\n",
    "Please write a program to print the running time of execution of \"1+1\" for 100 times.\n",
    "\n",
    "Hints: Use timeit() function to measure the running time.\n",
    "\n",
    "Solution:"
   ]
  },
  {
   "cell_type": "code",
   "execution_count": 83,
   "id": "b5b10c1b",
   "metadata": {},
   "outputs": [
    {
     "name": "stdout",
     "output_type": "stream",
     "text": [
      "1.649252700008219\n"
     ]
    }
   ],
   "source": [
    "from timeit import Timer\n",
    "t= Timer(\"for i in range(100): 1+1\")\n",
    "print(t.timeit())"
   ]
  },
  {
   "cell_type": "markdown",
   "id": "3471c9c3",
   "metadata": {},
   "source": [
    "Question 84\n",
    "\n",
    "Please write a program to shuffle and print the list [3,6,7,8].\n",
    "\n",
    "Hints: Use shuffle() function to shuffle a list.\n",
    "\n",
    "Solution:"
   ]
  },
  {
   "cell_type": "code",
   "execution_count": 92,
   "id": "ce294b7f",
   "metadata": {},
   "outputs": [
    {
     "name": "stdout",
     "output_type": "stream",
     "text": [
      "[8, 7, 6, 3]\n"
     ]
    }
   ],
   "source": [
    "from random import shuffle  # shuffle =mélanger \n",
    "li = [3,6,7,8]\n",
    "shuffle(li)\n",
    "print(li)"
   ]
  },
  {
   "cell_type": "markdown",
   "id": "ec333d35",
   "metadata": {},
   "source": [
    "Question 86\n",
    "\n",
    "Please write a program to generate all sentences where subject is in [\"I\", \"You\"] and verb is in [\"Play\", \"Love\"] and the object is in [\"Hockey\",\"Football\"].\n",
    "\n",
    "Hints: Use list[index] notation to get a element from a list.\n",
    "\n",
    "Solution:"
   ]
  },
  {
   "cell_type": "code",
   "execution_count": 94,
   "id": "ee1ee2fa",
   "metadata": {},
   "outputs": [
    {
     "name": "stdout",
     "output_type": "stream",
     "text": [
      "I Play Hockey.\n",
      "I Play Football.\n",
      "I Love Hockey.\n",
      "I Love Football.\n",
      "You Play Hockey.\n",
      "You Play Football.\n",
      "You Love Hockey.\n",
      "You Love Football.\n"
     ]
    }
   ],
   "source": [
    "subject= [\"I\", \"You\"]\n",
    "verb= [\"Play\", \"Love\"]\n",
    "objects=[\"Hockey\", \"Football\"]\n",
    "for i in range(len(subject)):\n",
    "    for j in range(len(verb)):\n",
    "        for k in range(len(objects)):\n",
    "            sentence=\"%s %s %s.\"%(subject[i], verb[j], objects[k])\n",
    "            print(sentence)"
   ]
  },
  {
   "cell_type": "markdown",
   "id": "43ef8214",
   "metadata": {},
   "source": [
    "Question 87\n",
    "\n",
    "Please write a program to print the list after removing delete even numbers in [5,6,77,45,22,12,24].\n",
    "\n",
    "Hints: Use list comprehension to delete a bunch of element from a list.\n",
    "\n",
    "Solution:"
   ]
  },
  {
   "cell_type": "code",
   "execution_count": 101,
   "id": "ffc1ab02",
   "metadata": {},
   "outputs": [
    {
     "data": {
      "text/plain": [
       "[5, 77, 45]"
      ]
     },
     "execution_count": 101,
     "metadata": {},
     "output_type": "execute_result"
    }
   ],
   "source": [
    "lst= [5,6,77,45,22,12,24]\n",
    "lst=[x for x in lst if x%2!=0]\n",
    "lst"
   ]
  },
  {
   "cell_type": "markdown",
   "id": "ff159453",
   "metadata": {},
   "source": [
    "Question 88\n",
    "\n",
    "By using list comprehension, please write a program to print the list after removing delete numbers which are divisible by 5 and 7 in [12,24,35,70,88,120,155].\n",
    "\n",
    "Hints: Use list comprehension to delete a bunch of element from a list.\n",
    "\n",
    "Solution:"
   ]
  },
  {
   "cell_type": "code",
   "execution_count": 102,
   "id": "2c0d3c07",
   "metadata": {},
   "outputs": [
    {
     "name": "stdout",
     "output_type": "stream",
     "text": [
      "[12, 24, 88]\n"
     ]
    }
   ],
   "source": [
    "li= [12,24,35,70,88,120,155]\n",
    "li=[x for x in li if x%5!=0 and x%7!=0]\n",
    "print(li)"
   ]
  },
  {
   "cell_type": "markdown",
   "id": "94ecac62",
   "metadata": {},
   "source": [
    "Question 89\n",
    "\n",
    "By using list comprehension, please write a program to print the list after removing the 0th, 2nd, 4th,6th numbers in [12,24,35,70,88,120,155].\n",
    "\n",
    "Hints: Use list comprehension to delete a bunch of element from a list. Use enumerate() to get (index, value) tuple.\n",
    "\n",
    "Solution:"
   ]
  },
  {
   "cell_type": "code",
   "execution_count": 106,
   "id": "5ce8d910",
   "metadata": {},
   "outputs": [
    {
     "name": "stdout",
     "output_type": "stream",
     "text": [
      "[24, 70, 120]\n",
      "[24, 70, 120]\n"
     ]
    }
   ],
   "source": [
    "lst= [12,24,35,70,88,120,155]\n",
    "new=[]\n",
    "for (index, value ) in enumerate(lst):\n",
    "    if index%2!=0:\n",
    "        new.append(value)\n",
    "print(new)\n",
    "lst=[v for (i, v) in enumerate(lst) if i%2!=0]\n",
    "print(lst)"
   ]
  },
  {
   "cell_type": "markdown",
   "id": "035857d1",
   "metadata": {},
   "source": [
    "Question 90\n",
    "\n",
    "By using list comprehension, please write a program generate a 358 3D array whose each element is 0.\n",
    "\n",
    "Hints: Use list comprehension to make an array.\n",
    "\n",
    "Solution:"
   ]
  },
  {
   "cell_type": "code",
   "execution_count": 108,
   "id": "f621b66a",
   "metadata": {},
   "outputs": [
    {
     "data": {
      "text/plain": [
       "[[[0, 0, 0, 0, 0, 0, 0, 0],\n",
       "  [0, 0, 0, 0, 0, 0, 0, 0],\n",
       "  [0, 0, 0, 0, 0, 0, 0, 0],\n",
       "  [0, 0, 0, 0, 0, 0, 0, 0],\n",
       "  [0, 0, 0, 0, 0, 0, 0, 0]],\n",
       " [[0, 0, 0, 0, 0, 0, 0, 0],\n",
       "  [0, 0, 0, 0, 0, 0, 0, 0],\n",
       "  [0, 0, 0, 0, 0, 0, 0, 0],\n",
       "  [0, 0, 0, 0, 0, 0, 0, 0],\n",
       "  [0, 0, 0, 0, 0, 0, 0, 0]],\n",
       " [[0, 0, 0, 0, 0, 0, 0, 0],\n",
       "  [0, 0, 0, 0, 0, 0, 0, 0],\n",
       "  [0, 0, 0, 0, 0, 0, 0, 0],\n",
       "  [0, 0, 0, 0, 0, 0, 0, 0],\n",
       "  [0, 0, 0, 0, 0, 0, 0, 0]]]"
      ]
     },
     "execution_count": 108,
     "metadata": {},
     "output_type": "execute_result"
    }
   ],
   "source": [
    "array = [[ [0 for col in range(8)] for col in range(5)] for row in range(3)]\n",
    "array\n"
   ]
  },
  {
   "cell_type": "code",
   "execution_count": 113,
   "id": "6bac3476",
   "metadata": {},
   "outputs": [
    {
     "data": {
      "text/plain": [
       "[24, 35, 70, 155]"
      ]
     },
     "execution_count": 113,
     "metadata": {},
     "output_type": "execute_result"
    }
   ],
   "source": [
    "lst= [12,24,35,70,88,120,155]\n",
    "lst=[x for (i, x) in enumerate(lst) if i not in (0, 4, 5)]\n",
    "lst"
   ]
  },
  {
   "cell_type": "code",
   "execution_count": 118,
   "id": "d4badde2",
   "metadata": {},
   "outputs": [
    {
     "name": "stdout",
     "output_type": "stream",
     "text": [
      "[12, 35, 70, 88, 120, 155]\n"
     ]
    }
   ],
   "source": [
    "lst= [12,24,35,70,88,120,155]\n",
    "lst.remove(24)\n",
    "print(lst)"
   ]
  },
  {
   "cell_type": "markdown",
   "id": "0b227b41",
   "metadata": {},
   "source": [
    "Question 93\n",
    "\n",
    "With two given lists [1,3,6,78,35,55] and [12,24,35,24,88,120,155], write a program to make a list whose elements are intersection of the above given lists.\n",
    "\n",
    "Hints: Use set() and \"&=\" to do set intersection operation.\n",
    "\n",
    "Solution:"
   ]
  },
  {
   "cell_type": "code",
   "execution_count": 124,
   "id": "5b48bf8d",
   "metadata": {},
   "outputs": [
    {
     "name": "stdout",
     "output_type": "stream",
     "text": [
      "[35]\n"
     ]
    }
   ],
   "source": [
    "li1= set([1,3,6,78,35,55] )\n",
    "li2= set([12,24,35,24,88,120,155])\n",
    "li1 &=li2\n",
    "li= list(li1)\n",
    "print(li)"
   ]
  },
  {
   "cell_type": "markdown",
   "id": "9f1e3857",
   "metadata": {},
   "source": [
    "Question 94\n",
    "\n",
    "With a given list [12,24,35,24,88,120,155,88,120,155], write a program to print this list after removing all duplicate values with original order reserved.\n",
    "\n",
    "Hints: Use set() to store a number of values without duplicate.\n",
    "\n",
    "Solution:"
   ]
  },
  {
   "cell_type": "code",
   "execution_count": 126,
   "id": "ce71b668",
   "metadata": {},
   "outputs": [
    {
     "data": {
      "text/plain": [
       "[12, 24, 35, 88, 120, 155]"
      ]
     },
     "execution_count": 126,
     "metadata": {},
     "output_type": "execute_result"
    }
   ],
   "source": [
    "def removeDuplicate(li):\n",
    "    new=[]\n",
    "    for x in li:\n",
    "        if x not in new:\n",
    "            new.append(x)\n",
    "    return new\n",
    "        \n",
    "li=[12,24,35,24,88,120,155,88,120,155]\n",
    "new= removeDuplicate(li)\n",
    "new"
   ]
  },
  {
   "cell_type": "markdown",
   "id": "8069efae",
   "metadata": {},
   "source": [
    "Question 95\n",
    "\n",
    "Define a class Person and its two child classes: Male and Female. All classes have a method \"getGender\" which can print \"Male\" for Male class and \"Female\" for Female class.\n",
    "\n",
    "Hints: Use Subclass(Parentclass) to define a child class.\n",
    "\n",
    "Solution:"
   ]
  },
  {
   "cell_type": "code",
   "execution_count": 128,
   "id": "9abaf9f3",
   "metadata": {},
   "outputs": [
    {
     "name": "stdout",
     "output_type": "stream",
     "text": [
      "Male\n"
     ]
    }
   ],
   "source": [
    "class Person(object):\n",
    "    def getgender(self):\n",
    "        return \"Unknown\"\n",
    "    \n",
    "class Male(Person):\n",
    "    def getgender(self):\n",
    "        return \"Male\"\n",
    "class Female(Person):\n",
    "    def getgender(self):\n",
    "        return \"Female\"\n",
    "    \n",
    "aMale= Male()\n",
    "aFemale=Female()\n",
    "print(aMale.getgender())"
   ]
  },
  {
   "cell_type": "code",
   "execution_count": null,
   "id": "85a67cd3",
   "metadata": {},
   "outputs": [],
   "source": []
  },
  {
   "cell_type": "code",
   "execution_count": null,
   "id": "cb92b200",
   "metadata": {},
   "outputs": [],
   "source": []
  }
 ],
 "metadata": {
  "kernelspec": {
   "display_name": "Python 3 (ipykernel)",
   "language": "python",
   "name": "python3"
  },
  "language_info": {
   "codemirror_mode": {
    "name": "ipython",
    "version": 3
   },
   "file_extension": ".py",
   "mimetype": "text/x-python",
   "name": "python",
   "nbconvert_exporter": "python",
   "pygments_lexer": "ipython3",
   "version": "3.9.7"
  }
 },
 "nbformat": 4,
 "nbformat_minor": 5
}
