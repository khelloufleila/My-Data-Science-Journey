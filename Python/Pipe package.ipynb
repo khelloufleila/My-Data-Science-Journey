{
 "cells": [
  {
   "cell_type": "markdown",
   "id": "1a0e3ff3",
   "metadata": {},
   "source": [
    "#  What is pipe ? \n",
    "- Pipe is python library that enables you to use pipes in python. A pipe(|) passes the results of one method to another method.\n",
    "- It makes the code look cleaner when applying multiple methods to a python iterable.\n",
    "\n",
    "   - pip install pipe "
   ]
  },
  {
   "cell_type": "code",
   "execution_count": 3,
   "id": "583bec9b",
   "metadata": {},
   "outputs": [
    {
     "data": {
      "text/plain": [
       "[2, 4, 6]"
      ]
     },
     "execution_count": 3,
     "metadata": {},
     "output_type": "execute_result"
    }
   ],
   "source": [
    "# where -> filter element in an iterable\n",
    "from pipe import where\n",
    "\n",
    "arr=[1, 2, 3, 4, 5, 6, 7]\n",
    "list(arr |where(lambda x: x%2==0))\n"
   ]
  },
  {
   "cell_type": "code",
   "execution_count": 5,
   "id": "790e9f2a",
   "metadata": {},
   "outputs": [
    {
     "data": {
      "text/plain": [
       "[2, 4, 6, 8, 10, 12, 14]"
      ]
     },
     "execution_count": 5,
     "metadata": {},
     "output_type": "execute_result"
    }
   ],
   "source": [
    "# select -> apply a function to an iterable\n",
    "from pipe import select\n",
    "arr=[1, 2, 3, 4, 5, 6, 7]\n",
    "list(arr| select(lambda x: x*2))\n"
   ]
  },
  {
   "cell_type": "code",
   "execution_count": 7,
   "id": "72f4ba08",
   "metadata": {},
   "outputs": [
    {
     "data": {
      "text/plain": [
       "[4, 8, 12]"
      ]
     },
     "execution_count": 7,
     "metadata": {},
     "output_type": "execute_result"
    }
   ],
   "source": [
    "# use select and where \n",
    "list(arr| where(lambda x: x%2==0)\n",
    "        | select(lambda x: x*2))"
   ]
  },
  {
   "cell_type": "code",
   "execution_count": 10,
   "id": "5d3ca2eb",
   "metadata": {},
   "outputs": [
    {
     "data": {
      "text/plain": [
       "[1, 2, [3], 4, 5]"
      ]
     },
     "execution_count": 10,
     "metadata": {},
     "output_type": "execute_result"
    }
   ],
   "source": [
    "# chain -> chain a sequence of iterables \n",
    "from pipe import chain\n",
    "\n",
    "nested=[[1, 2, [3]],[4, 5]]\n",
    "list(nested| chain)"
   ]
  },
  {
   "cell_type": "code",
   "execution_count": 12,
   "id": "2a7b8da1",
   "metadata": {},
   "outputs": [
    {
     "data": {
      "text/plain": [
       "[1, 2, 3, 4, 5]"
      ]
     },
     "execution_count": 12,
     "metadata": {},
     "output_type": "execute_result"
    }
   ],
   "source": [
    "# traverse -> recursively unfold iterable \n",
    "\n",
    "from pipe import traverse \n",
    "\n",
    "nested=[[1, 2, [3]],[4, 5]]\n",
    "list(nested | traverse)"
   ]
  },
  {
   "cell_type": "code",
   "execution_count": 14,
   "id": "14d01a2a",
   "metadata": {},
   "outputs": [
    {
     "data": {
      "text/plain": [
       "[2, 5, 4, 5]"
      ]
     },
     "execution_count": 14,
     "metadata": {},
     "output_type": "execute_result"
    }
   ],
   "source": [
    "fruit=[\n",
    "    {\"name\": \"apple\", \"price\":[2, 5]},\n",
    "    {\"name\": \"orange\", \"price\":4},\n",
    "    {\"name\": \"grape\", \"price\":5}\n",
    "]\n",
    "list(fruit| select(lambda fruit: fruit[\"price\"])\n",
    "          | traverse)"
   ]
  },
  {
   "cell_type": "code",
   "execution_count": 23,
   "id": "5455bd27",
   "metadata": {},
   "outputs": [
    {
     "data": {
      "text/plain": [
       "[{'Even': [4, 6, 8]}, {'old': [3, 5, 7, 9]}]"
      ]
     },
     "execution_count": 23,
     "metadata": {},
     "output_type": "execute_result"
    }
   ],
   "source": [
    "# Group element in list \n",
    "\n",
    "from pipe import groupby, select \n",
    "\n",
    "tpl = (1, 2, 3, 4, 5, 6, 7, 8, 9)\n",
    "list(tpl | groupby (lambda x: \"Even\" if x%2==0 else \"old\")\n",
    "         | select (lambda x : {x[0]:list(x[1]\n",
    "         | where (lambda x: x>2))}) )"
   ]
  },
  {
   "cell_type": "code",
   "execution_count": 24,
   "id": "5163ec64",
   "metadata": {},
   "outputs": [
    {
     "data": {
      "text/plain": [
       "[1, 2, 3, 4, 5, 6, 7, 8]"
      ]
     },
     "execution_count": 24,
     "metadata": {},
     "output_type": "execute_result"
    }
   ],
   "source": [
    "# dedup -> Deplicate values using a key\n",
    "from pipe import dedup\n",
    "arr= [1, 1, 2, 2, 2, 3, 4, 4, 5, 6, 7 ,7, 7, 8, 8]\n",
    "list(arr| dedup)"
   ]
  },
  {
   "cell_type": "code",
   "execution_count": 25,
   "id": "578534aa",
   "metadata": {},
   "outputs": [
    {
     "data": {
      "text/plain": [
       "[1, 5]"
      ]
     },
     "execution_count": 25,
     "metadata": {},
     "output_type": "execute_result"
    }
   ],
   "source": [
    "list(arr | dedup (lambda x: x<5))"
   ]
  },
  {
   "cell_type": "code",
   "execution_count": 28,
   "id": "9d43f77a",
   "metadata": {},
   "outputs": [
    {
     "data": {
      "text/plain": [
       "[2]"
      ]
     },
     "execution_count": 28,
     "metadata": {},
     "output_type": "execute_result"
    }
   ],
   "source": [
    "from pipe import dedup , select, where\n",
    "\n",
    "data=[\n",
    "    {\"name\": \"apple\", \"count\":2},\n",
    "    {\"name\": \"orange\", \"count\":4.5},\n",
    "    {\"name\": \"grape\", \"count\":None},\n",
    "    {\"name\": \"orange\", \"count\":7}\n",
    "]\n",
    "\n",
    "list(data | dedup(lambda fruit: fruit['name'])\n",
    "          | select(lambda fruit: fruit['count'])\n",
    "          | where (lambda count: isinstance(count, int)))"
   ]
  },
  {
   "cell_type": "code",
   "execution_count": null,
   "id": "e1148ad1",
   "metadata": {},
   "outputs": [],
   "source": []
  }
 ],
 "metadata": {
  "kernelspec": {
   "display_name": "Python 3 (ipykernel)",
   "language": "python",
   "name": "python3"
  },
  "language_info": {
   "codemirror_mode": {
    "name": "ipython",
    "version": 3
   },
   "file_extension": ".py",
   "mimetype": "text/x-python",
   "name": "python",
   "nbconvert_exporter": "python",
   "pygments_lexer": "ipython3",
   "version": "3.9.7"
  }
 },
 "nbformat": 4,
 "nbformat_minor": 5
}
