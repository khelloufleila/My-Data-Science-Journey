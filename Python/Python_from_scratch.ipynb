{
 "cells": [
  {
   "cell_type": "markdown",
   "id": "0f122a9a",
   "metadata": {},
   "source": [
    "\n",
    "<div class=\"alert alert-info\" style=\"background-color:#5d3a8e; color:white; padding:0px 10px; border-radius:5px;\"><h2 style='margin:10px 5px'> Python from scratch</h2>\n",
    "</div>\n",
    "\n",
    "## Principes de base:\n",
    "### Un langage interprété, de haut niveau et orienté objet\n",
    " 1)  Langage interprété: c'est un langage de programmation qui est traité de manière directe.\n",
    "      - le principal avantage d'un langage interpété est sa simplicité de débogage. \n",
    "      - Son principal défaut est sa lenteur \n",
    " 2) Un langage de haut niveau: \n",
    "      - Il se rapproche le plus possible au langage naturel: il se lit comme il s'applique \n",
    "      - Il est optimisé\n",
    "      - le langage de bas niveau : il se rapproche le plus possible du langage machine sur lequel il s'applique \n",
    "3) Python se base sur quelques principes: \n",
    "- Il est basé sur l'indentation \n",
    "- Il est extremement souple \n",
    "- Ses règles sont fixées par la communauté Python \n",
    "\n",
    "- la différence entre Python 2 et Python 3: \n",
    "- Python 2: print \"leila\"\n",
    "- Python 3: print(\"leila\")\n",
    " "
   ]
  },
  {
   "cell_type": "code",
   "execution_count": 2,
   "id": "7b999afe",
   "metadata": {},
   "outputs": [
    {
     "data": {
      "application/json": {
       "cell": {
        "!": "OSMagics",
        "HTML": "Other",
        "SVG": "Other",
        "bash": "Other",
        "capture": "ExecutionMagics",
        "cmd": "Other",
        "debug": "ExecutionMagics",
        "file": "Other",
        "html": "DisplayMagics",
        "javascript": "DisplayMagics",
        "js": "DisplayMagics",
        "latex": "DisplayMagics",
        "markdown": "DisplayMagics",
        "perl": "Other",
        "prun": "ExecutionMagics",
        "pypy": "Other",
        "python": "Other",
        "python2": "Other",
        "python3": "Other",
        "ruby": "Other",
        "script": "ScriptMagics",
        "sh": "Other",
        "svg": "DisplayMagics",
        "sx": "OSMagics",
        "system": "OSMagics",
        "time": "ExecutionMagics",
        "timeit": "ExecutionMagics",
        "writefile": "OSMagics"
       },
       "line": {
        "alias": "OSMagics",
        "alias_magic": "BasicMagics",
        "autoawait": "AsyncMagics",
        "autocall": "AutoMagics",
        "automagic": "AutoMagics",
        "autosave": "KernelMagics",
        "bookmark": "OSMagics",
        "cd": "OSMagics",
        "clear": "KernelMagics",
        "cls": "KernelMagics",
        "colors": "BasicMagics",
        "conda": "PackagingMagics",
        "config": "ConfigMagics",
        "connect_info": "KernelMagics",
        "copy": "Other",
        "ddir": "Other",
        "debug": "ExecutionMagics",
        "dhist": "OSMagics",
        "dirs": "OSMagics",
        "doctest_mode": "BasicMagics",
        "echo": "Other",
        "ed": "Other",
        "edit": "KernelMagics",
        "env": "OSMagics",
        "gui": "BasicMagics",
        "hist": "Other",
        "history": "HistoryMagics",
        "killbgscripts": "ScriptMagics",
        "ldir": "Other",
        "less": "KernelMagics",
        "load": "CodeMagics",
        "load_ext": "ExtensionMagics",
        "loadpy": "CodeMagics",
        "logoff": "LoggingMagics",
        "logon": "LoggingMagics",
        "logstart": "LoggingMagics",
        "logstate": "LoggingMagics",
        "logstop": "LoggingMagics",
        "ls": "Other",
        "lsmagic": "BasicMagics",
        "macro": "ExecutionMagics",
        "magic": "BasicMagics",
        "matplotlib": "PylabMagics",
        "mkdir": "Other",
        "more": "KernelMagics",
        "notebook": "BasicMagics",
        "page": "BasicMagics",
        "pastebin": "CodeMagics",
        "pdb": "ExecutionMagics",
        "pdef": "NamespaceMagics",
        "pdoc": "NamespaceMagics",
        "pfile": "NamespaceMagics",
        "pinfo": "NamespaceMagics",
        "pinfo2": "NamespaceMagics",
        "pip": "PackagingMagics",
        "popd": "OSMagics",
        "pprint": "BasicMagics",
        "precision": "BasicMagics",
        "prun": "ExecutionMagics",
        "psearch": "NamespaceMagics",
        "psource": "NamespaceMagics",
        "pushd": "OSMagics",
        "pwd": "OSMagics",
        "pycat": "OSMagics",
        "pylab": "PylabMagics",
        "qtconsole": "KernelMagics",
        "quickref": "BasicMagics",
        "recall": "HistoryMagics",
        "rehashx": "OSMagics",
        "reload_ext": "ExtensionMagics",
        "ren": "Other",
        "rep": "Other",
        "rerun": "HistoryMagics",
        "reset": "NamespaceMagics",
        "reset_selective": "NamespaceMagics",
        "rmdir": "Other",
        "run": "ExecutionMagics",
        "save": "CodeMagics",
        "sc": "OSMagics",
        "set_env": "OSMagics",
        "store": "StoreMagics",
        "sx": "OSMagics",
        "system": "OSMagics",
        "tb": "ExecutionMagics",
        "time": "ExecutionMagics",
        "timeit": "ExecutionMagics",
        "unalias": "OSMagics",
        "unload_ext": "ExtensionMagics",
        "who": "NamespaceMagics",
        "who_ls": "NamespaceMagics",
        "whos": "NamespaceMagics",
        "xdel": "NamespaceMagics",
        "xmode": "BasicMagics"
       }
      },
      "text/plain": [
       "Available line magics:\n",
       "%alias  %alias_magic  %autoawait  %autocall  %automagic  %autosave  %bookmark  %cd  %clear  %cls  %colors  %conda  %config  %connect_info  %copy  %ddir  %debug  %dhist  %dirs  %doctest_mode  %echo  %ed  %edit  %env  %gui  %hist  %history  %killbgscripts  %ldir  %less  %load  %load_ext  %loadpy  %logoff  %logon  %logstart  %logstate  %logstop  %ls  %lsmagic  %macro  %magic  %matplotlib  %mkdir  %more  %notebook  %page  %pastebin  %pdb  %pdef  %pdoc  %pfile  %pinfo  %pinfo2  %pip  %popd  %pprint  %precision  %prun  %psearch  %psource  %pushd  %pwd  %pycat  %pylab  %qtconsole  %quickref  %recall  %rehashx  %reload_ext  %ren  %rep  %rerun  %reset  %reset_selective  %rmdir  %run  %save  %sc  %set_env  %store  %sx  %system  %tb  %time  %timeit  %unalias  %unload_ext  %who  %who_ls  %whos  %xdel  %xmode\n",
       "\n",
       "Available cell magics:\n",
       "%%!  %%HTML  %%SVG  %%bash  %%capture  %%cmd  %%debug  %%file  %%html  %%javascript  %%js  %%latex  %%markdown  %%perl  %%prun  %%pypy  %%python  %%python2  %%python3  %%ruby  %%script  %%sh  %%svg  %%sx  %%system  %%time  %%timeit  %%writefile\n",
       "\n",
       "Automagic is ON, % prefix IS NOT needed for line magics."
      ]
     },
     "execution_count": 2,
     "metadata": {},
     "output_type": "execute_result"
    }
   ],
   "source": [
    "# obtenir la liste de toutes les clés magiques!!!\n",
    "%lsmagic"
   ]
  },
  {
   "cell_type": "code",
   "execution_count": 3,
   "id": "e210718e",
   "metadata": {},
   "outputs": [
    {
     "name": "stdout",
     "output_type": "stream",
     "text": [
      "27.4 ns ± 2.8 ns per loop (mean ± std. dev. of 7 runs, 100000000 loops each)\n"
     ]
    }
   ],
   "source": [
    "%timeit x=5"
   ]
  },
  {
   "cell_type": "code",
   "execution_count": 5,
   "id": "ca15c918",
   "metadata": {},
   "outputs": [
    {
     "name": "stdout",
     "output_type": "stream",
     "text": [
      "Interactive namespace is empty.\n"
     ]
    }
   ],
   "source": [
    "# les variables chargées en mémoire\n",
    "%who"
   ]
  },
  {
   "cell_type": "code",
   "execution_count": 9,
   "id": "256eac60",
   "metadata": {},
   "outputs": [
    {
     "name": "stdout",
     "output_type": "stream",
     "text": [
      "Stored 'liste' (list)\n"
     ]
    }
   ],
   "source": [
    "# pour le stockage des objets \n",
    "liste=[3, 6, 8]\n",
    "\n",
    "%store liste"
   ]
  },
  {
   "cell_type": "code",
   "execution_count": 8,
   "id": "9ebaf273",
   "metadata": {},
   "outputs": [
    {
     "name": "stdout",
     "output_type": "stream",
     "text": [
      "Stored variables and their in-db values:\n",
      "liste             -> [3, 6, 8]\n"
     ]
    }
   ],
   "source": [
    "%store"
   ]
  },
  {
   "cell_type": "markdown",
   "id": "1ac513cc",
   "metadata": {},
   "source": [
    "<div class=\"alert alert-info\" style=\"background-color:#5d3a8e; color:white; padding:0px 10px; border-radius:5px;\"><h2 style='margin:10px 5px'> La base pour comencer à coder</h2>\n",
    "</div>\n"
   ]
  },
  {
   "cell_type": "code",
   "execution_count": 11,
   "id": "92441353",
   "metadata": {},
   "outputs": [
    {
     "data": {
      "text/plain": [
       "True"
      ]
     },
     "execution_count": 11,
     "metadata": {},
     "output_type": "execute_result"
    }
   ],
   "source": [
    "chaine1=\"python\"\n",
    "type(chaine1) is str"
   ]
  },
  {
   "cell_type": "code",
   "execution_count": 12,
   "id": "1fd51265",
   "metadata": {},
   "outputs": [
    {
     "name": "stdout",
     "output_type": "stream",
     "text": [
      "7 7\n"
     ]
    }
   ],
   "source": [
    "# Séquence d'instruction\n",
    "a, b= 3,7\n",
    "a=b\n",
    "b=a\n",
    "print(a,b)"
   ]
  },
  {
   "cell_type": "code",
   "execution_count": 13,
   "id": "43ba22b8",
   "metadata": {},
   "outputs": [
    {
     "name": "stdout",
     "output_type": "stream",
     "text": [
      "a dépasse la centaine\n"
     ]
    }
   ],
   "source": [
    "a=150\n",
    "if (a>100):\n",
    "    print(\"a dépasse la centaine\")"
   ]
  },
  {
   "cell_type": "code",
   "execution_count": 15,
   "id": "4d78e7d2",
   "metadata": {},
   "outputs": [
    {
     "name": "stdout",
     "output_type": "stream",
     "text": [
      "a dépasse la centaine \n"
     ]
    }
   ],
   "source": [
    "a=150\n",
    "if(a>100):\n",
    "    print(\"a dépasse la centaine \")\n",
    "else: \n",
    "    print(\" a ne depasse pas cent\")"
   ]
  },
  {
   "cell_type": "code",
   "execution_count": 16,
   "id": "268a9ea7",
   "metadata": {},
   "outputs": [
    {
     "name": "stdout",
     "output_type": "stream",
     "text": [
      "a est nul\n"
     ]
    }
   ],
   "source": [
    "a=0\n",
    "if a> 0: \n",
    "    print(\"a est positif\")\n",
    "elif a<0:\n",
    "    print(\"a est négtif\")\n",
    "else: \n",
    "    print(\"a est nul\")"
   ]
  },
  {
   "cell_type": "code",
   "execution_count": 19,
   "id": "569bbafe",
   "metadata": {},
   "outputs": [
    {
     "name": "stdout",
     "output_type": "stream",
     "text": [
      "a est un nombre impair\n"
     ]
    }
   ],
   "source": [
    "a=7\n",
    "if (a % 2==0):\n",
    "    print(\"a est un nombre pair\")\n",
    "else: \n",
    "    print(\"a est un nombre impair\")"
   ]
  },
  {
   "cell_type": "code",
   "execution_count": 20,
   "id": "5d697f2e",
   "metadata": {},
   "outputs": [
    {
     "name": "stdout",
     "output_type": "stream",
     "text": [
      "230\n",
      "356\n"
     ]
    }
   ],
   "source": [
    "# Instruction répétitives \n",
    "# Réaffectation \n",
    "altitude=230\n",
    "print(altitude)\n",
    "altitude= 356\n",
    "print(altitude)"
   ]
  },
  {
   "cell_type": "code",
   "execution_count": 34,
   "id": "1329ae15",
   "metadata": {
    "scrolled": true
   },
   "outputs": [
    {
     "name": "stdout",
     "output_type": "stream",
     "text": [
      "3\n",
      "4\n",
      "5\n",
      "6\n",
      "7\n",
      "8\n"
     ]
    }
   ],
   "source": [
    "a=2\n",
    "while (a<=7):\n",
    "    a +=1\n",
    "    print(a)\n",
    "   "
   ]
  },
  {
   "cell_type": "code",
   "execution_count": 41,
   "id": "87a7e539",
   "metadata": {},
   "outputs": [
    {
     "name": "stdout",
     "output_type": "stream",
     "text": [
      "1 2 3 5 8 13 21 34 55 89 "
     ]
    }
   ],
   "source": [
    "a, b, c= 1, 1, 1\n",
    "while (c<11): \n",
    "    print(b, end= \" \")\n",
    "    a, b, c= b, a+b, c+1"
   ]
  },
  {
   "cell_type": "code",
   "execution_count": 44,
   "id": "1428e234",
   "metadata": {},
   "outputs": [
    {
     "name": "stdout",
     "output_type": "stream",
     "text": [
      "\n",
      "*\n",
      "**\n",
      "***\n",
      "****\n",
      "*****\n",
      "******\n",
      "*******\n"
     ]
    }
   ],
   "source": [
    "a=0\n",
    "str1=\"*\"\n",
    "while (a<8):\n",
    "    q= a* str1\n",
    "    a+=1\n",
    "    print(q)\n",
    "    "
   ]
  },
  {
   "cell_type": "code",
   "execution_count": 69,
   "id": "9933d32e",
   "metadata": {},
   "outputs": [
    {
     "name": "stdout",
     "output_type": "stream",
     "text": [
      "0 *\n",
      "7\n",
      "14\n",
      "21 *\n",
      "28\n",
      "35\n",
      "42 *\n",
      "49\n",
      "56\n",
      "63 *\n",
      "70\n",
      "77\n",
      "84 *\n",
      "91\n",
      "98\n",
      "105 *\n",
      "112\n",
      "119\n",
      "126 *\n",
      "133\n"
     ]
    }
   ],
   "source": [
    "def multi_par_7(a, b, taille):\n",
    "\n",
    "    for i in range(taille):\n",
    "        mul= a*i\n",
    "        if (mul% b==0 ):\n",
    "            print(mul, \"*\")\n",
    "            taille+=1\n",
    "        else: \n",
    "            print(mul)\n",
    "            \n",
    "multi_par_7(7, 3, 20)\n",
    "\n"
   ]
  },
  {
   "cell_type": "code",
   "execution_count": 76,
   "id": "2ebd95be",
   "metadata": {},
   "outputs": [
    {
     "name": "stdout",
     "output_type": "stream",
     "text": [
      "C H R I S T I N E "
     ]
    }
   ],
   "source": [
    "ch= \"Christine\"\n",
    "for i in range(len(ch)):\n",
    "    print(ch[i].upper(), end= \" \")"
   ]
  },
  {
   "cell_type": "code",
   "execution_count": 80,
   "id": "af10a255",
   "metadata": {},
   "outputs": [
    {
     "name": "stdout",
     "output_type": "stream",
     "text": [
      "Petit poisson deviendra grand\n"
     ]
    }
   ],
   "source": [
    "a='Petit poisson'\n",
    "b= ' deviendra grand'\n",
    "c=a + b\n",
    "print(c)"
   ]
  },
  {
   "cell_type": "code",
   "execution_count": 90,
   "id": "391fcacb",
   "metadata": {},
   "outputs": [
    {
     "name": "stdout",
     "output_type": "stream",
     "text": [
      "adam bnidjr ne contient pas la lettre  e\n"
     ]
    }
   ],
   "source": [
    "# determiner si une chaine contient ou non le caractère \"e\"\n",
    "def car_chaine(chaine, lettre):\n",
    "    for i in range(len(chaine)):\n",
    "        if (chaine[i]==lettre):\n",
    "            print(chaine, \" contient la lettre \", lettre)\n",
    "            return \n",
    "        \n",
    "    print(chaine , \"ne contient pas la lettre \", lettre)\n",
    "            \n",
    "chaine=\"adam bnidjr\"\n",
    "lettre='e'\n",
    "car_chaine(chaine, lettre)\n",
    "    "
   ]
  },
  {
   "cell_type": "code",
   "execution_count": 96,
   "id": "aedc9a04",
   "metadata": {},
   "outputs": [
    {
     "name": "stdout",
     "output_type": "stream",
     "text": [
      "AnotherString contient la lettre  e\n"
     ]
    }
   ],
   "source": [
    "myString = \"e\"\n",
    "String = \"AnotherString\"\n",
    "\n",
    "# Casting to string is not needed but it's good practice\n",
    "# to check for errors \n",
    "\n",
    "if str(myString) in str(String): \n",
    "    print(String ,\"contient la lettre \", myString)\n",
    "else:\n",
    "    print(String ,\"ne contient pas la lettre \", myString)"
   ]
  },
  {
   "cell_type": "code",
   "execution_count": 97,
   "id": "4a3f2381",
   "metadata": {},
   "outputs": [
    {
     "data": {
      "text/plain": [
       "'a'"
      ]
     },
     "execution_count": 97,
     "metadata": {},
     "output_type": "execute_result"
    }
   ],
   "source": [
    "chaine=\"leila\"\n",
    "chaine[-1]"
   ]
  },
  {
   "cell_type": "code",
   "execution_count": 106,
   "id": "516526bb",
   "metadata": {},
   "outputs": [
    {
     "name": "stdout",
     "output_type": "stream",
     "text": [
      "The sliced string is: nohtyPnraeL\n"
     ]
    }
   ],
   "source": [
    "# inverse d'une chaine de caractère\n",
    "\n",
    "str=\"LearnPython\"\n",
    "length_str=len(str)\n",
    "\n",
    "sliced_str=str[length_str::-1] \n",
    "print (\"The sliced string is:\",sliced_str)    "
   ]
  },
  {
   "cell_type": "code",
   "execution_count": 109,
   "id": "5d7d23a6",
   "metadata": {},
   "outputs": [
    {
     "data": {
      "text/plain": [
       "'nohtyPnraeL'"
      ]
     },
     "execution_count": 109,
     "metadata": {},
     "output_type": "execute_result"
    }
   ],
   "source": [
    "str = \"LearnPython\"\n",
    "\n",
    "def inverse(chaine):\n",
    "    lst=''\n",
    "    i=len(chaine)\n",
    "    while (i >0):\n",
    "        lst+=chaine[i-1]\n",
    "        i-=1\n",
    "    return lst\n",
    "inverse(str)"
   ]
  },
  {
   "cell_type": "markdown",
   "id": "cb5cc2a3",
   "metadata": {},
   "source": [
    "<div class=\"alert alert-info\" style=\"background-color:#5d3a8e; color:white; padding:0px 10px; border-radius:5px;\"><h2 style='margin:10px 5px'> Les structures (Tuples, Listes, Dictionnaires) </h2>\n",
    "</div>"
   ]
  },
  {
   "cell_type": "code",
   "execution_count": 113,
   "id": "6e7393cb",
   "metadata": {},
   "outputs": [
    {
     "name": "stdout",
     "output_type": "stream",
     "text": [
      "1 dimanche\n",
      "2 lundi\n",
      "3 mardi\n",
      "4 mercredi\n",
      "5 jeudi\n",
      "6 vendredi\n",
      "7 samedi\n",
      "8 dimanche\n",
      "9 lundi\n",
      "10 mardi\n",
      "11 mercredi\n",
      "12 jeudi\n",
      "13 vendredi\n",
      "14 samedi\n",
      "15 dimanche\n",
      "16 lundi\n",
      "17 mardi\n",
      "18 mercredi\n",
      "19 jeudi\n",
      "20 vendredi\n",
      "21 samedi\n",
      "22 dimanche\n",
      "23 lundi\n",
      "24 mardi\n",
      "25 mercredi\n"
     ]
    }
   ],
   "source": [
    "jour=['dimanche', 'lundi', 'mardi', 'mercredi', 'jeudi', 'vendredi','samedi']\n",
    "a, b= 0, 0\n",
    "while a<25:  \n",
    "    b=a% 7\n",
    "    a+=1\n",
    "    print(a, jour[b])"
   ]
  },
  {
   "cell_type": "code",
   "execution_count": 135,
   "id": "36022e91",
   "metadata": {},
   "outputs": [
    {
     "name": "stdout",
     "output_type": "stream",
     "text": [
      "['janvier', 31, 'fevrier', 28, 'mars', 31, 'avril', 30, 'mai', 31, 'juin', 31, 'juillet', 31, 'aout', 30]\n"
     ]
    }
   ],
   "source": [
    "t1=[31, 28, 31, 30, 31, 31, 31, 30]\n",
    "t2= [ 'janvier', 'fevrier', 'mars', 'avril', 'mai', 'juin', 'juillet', 'aout']\n",
    "lst=[]\n",
    "for i in range(len(t1)):\n",
    "    lst.append(t2[i])\n",
    "    lst.append(t1[i])\n",
    "print(lst)"
   ]
  },
  {
   "cell_type": "code",
   "execution_count": 138,
   "id": "ecac83df",
   "metadata": {},
   "outputs": [
    {
     "name": "stdout",
     "output_type": "stream",
     "text": [
      "JANVIER FEVRIER MARS AVRIL MAI JUIN JUILLET AOUT \n"
     ]
    }
   ],
   "source": [
    "\n",
    "string=''\n",
    "i=0\n",
    "while i<len(t2):\n",
    "    string += t2[i].upper()+ ' '\n",
    "    i+=1\n",
    "print(string)"
   ]
  },
  {
   "cell_type": "code",
   "execution_count": 150,
   "id": "61a56e46",
   "metadata": {},
   "outputs": [
    {
     "name": "stdout",
     "output_type": "stream",
     "text": [
      "le plus grand element de cette liste est : 99\n"
     ]
    }
   ],
   "source": [
    "lst=[2, 4, 44, 6, 7, 88, 99, 2]\n",
    "val_max=0\n",
    "for i in range(len(lst)):\n",
    "    if (val_max < lst[i]):\n",
    "        val_max=lst[i]\n",
    "print(\"le plus grand element de cette liste est :\",val_max)\n",
    "    "
   ]
  },
  {
   "cell_type": "code",
   "execution_count": 168,
   "id": "4238da80",
   "metadata": {},
   "outputs": [
    {
     "name": "stdout",
     "output_type": "stream",
     "text": [
      "aliel\n"
     ]
    }
   ],
   "source": [
    "# reverse a string using a list.reverse()\n",
    "string='leila'\n",
    "lst=[]\n",
    "new_str=''\n",
    "for i in range(len(string)):\n",
    "    lst.append(string[i])\n",
    "lst.reverse()\n",
    "for i in range(len(lst)):\n",
    "    new_str+= lst[i]\n",
    "print(new_str)"
   ]
  },
  {
   "cell_type": "code",
   "execution_count": 169,
   "id": "448fab5a",
   "metadata": {},
   "outputs": [
    {
     "name": "stdout",
     "output_type": "stream",
     "text": [
      "7.8\n",
      "2\n"
     ]
    }
   ],
   "source": [
    "# Les tuples\n",
    "tup1= (1, True, 7.8, 9, 9)\n",
    "print(tup1[2])\n",
    "print(tup1.count(9))"
   ]
  },
  {
   "cell_type": "code",
   "execution_count": 197,
   "id": "6d08f938",
   "metadata": {},
   "outputs": [
    {
     "data": {
      "text/plain": [
       "[64, 36, 4]"
      ]
     },
     "execution_count": 197,
     "metadata": {},
     "output_type": "execute_result"
    }
   ],
   "source": [
    "list_init=[2, 6, 8, 9]\n",
    "list_comp=[val**2 for val in list_init if val%2==0]\n",
    "list_comp.reverse()\n",
    "list_comp"
   ]
  },
  {
   "cell_type": "code",
   "execution_count": 212,
   "id": "a44832c8",
   "metadata": {},
   "outputs": [
    {
     "name": "stdout",
     "output_type": "stream",
     "text": [
      "science data pour Python\n",
      "science data pour Python\n"
     ]
    }
   ],
   "source": [
    "chaine1= 'Python pour data science'\n",
    "#print(chaine1[-8:])\n",
    "chaine2= chaine1.split()\n",
    "chaine2.reverse()\n",
    "chaine1bis= ' '.join(chaine2)\n",
    "chaine1bis.capitalize()\n",
    "print(chaine1bis)\n",
    "chaine1bis.find('pour')\n",
    "print(chaine1bis.rstrip())"
   ]
  },
  {
   "cell_type": "code",
   "execution_count": 221,
   "id": "2ec74963",
   "metadata": {},
   "outputs": [
    {
     "name": "stdout",
     "output_type": "stream",
     "text": [
      "valeur1\n",
      "dict_keys(['cel1', 'cel2', 'cel3'])\n",
      "dict_items([('cel1', 'valeur1'), ('cel2', 'valuer2'), ('cel3', 'valuer3')])\n"
     ]
    },
    {
     "data": {
      "text/plain": [
       "{'cel1': 'valeur1', 'cel2': 55, 'cel3': 'valuer3'}"
      ]
     },
     "execution_count": 221,
     "metadata": {},
     "output_type": "execute_result"
    }
   ],
   "source": [
    "# Les dictionnaires \n",
    "dict1={\"cel1\": 'valeur1', \"cel2\":'valuer2', \"cel3\":'valuer3'}\n",
    "print(dict1[\"cel1\"])\n",
    "print(dict1.keys())\n",
    "print(dict1.items())\n",
    "dict1[\"cel2\"]=55\n",
    "dict1"
   ]
  },
  {
   "cell_type": "code",
   "execution_count": 223,
   "id": "a4bbdc73",
   "metadata": {},
   "outputs": [
    {
     "name": "stdout",
     "output_type": "stream",
     "text": [
      "is false\n"
     ]
    }
   ],
   "source": [
    "# les boucles \n",
    "if a is True:\n",
    "    print(\"is true\")\n",
    "else:\n",
    "    print(\"is false\")"
   ]
  },
  {
   "cell_type": "code",
   "execution_count": 230,
   "id": "98c4c195",
   "metadata": {},
   "outputs": [
    {
     "name": "stdout",
     "output_type": "stream",
     "text": [
      "Lundi, il fera beau\n",
      "Mardi, il fera beau\n",
      "Mercredi, il fera mauvais\n",
      "Jeudi, il fera beau\n"
     ]
    }
   ],
   "source": [
    "jours=['lundi', 'mardi','mercredi','jeudi']\n",
    "meteos=[\"beau\", \"beau\", \"mauvais\", \"beau\"]\n",
    "for jour, meteo in zip(jours, meteos):\n",
    "    print(\"%s, il fera %s\"%(jour.capitalize(), meteo))"
   ]
  },
  {
   "cell_type": "code",
   "execution_count": 234,
   "id": "77134656",
   "metadata": {},
   "outputs": [
    {
     "name": "stdout",
     "output_type": "stream",
     "text": [
      "41\n"
     ]
    }
   ],
   "source": [
    "# boucle while \n",
    "i=1\n",
    "val_stop=40\n",
    "while(i<100):\n",
    "    i+=1\n",
    "    if i> val_stop:\n",
    "        break\n",
    "print(i)       "
   ]
  },
  {
   "cell_type": "code",
   "execution_count": 301,
   "id": "02c31f53",
   "metadata": {},
   "outputs": [
    {
     "name": "stdout",
     "output_type": "stream",
     "text": [
      "[3, 6, 8, 9, 3, 6, 8, 9]\n"
     ]
    }
   ],
   "source": [
    "list_funct=[3, 6, 8, 9]\n",
    "print(list_funct*2)"
   ]
  },
  {
   "cell_type": "markdown",
   "id": "2d22c1ae",
   "metadata": {},
   "source": [
    "# Les arguments multiples ( **args , ***kwargs)\n",
    "\n",
    "- Il s'agit en fait d'un tuple de paramètres obligatoires pour args, dont on ne connait pas la taille, et \n",
    "- d'un dictionnaire de paramètres pour kargs, dont on ne connait pas la taille non plus. "
   ]
  },
  {
   "cell_type": "code",
   "execution_count": 242,
   "id": "507f6976",
   "metadata": {},
   "outputs": [
    {
     "name": "stdout",
     "output_type": "stream",
     "text": [
      "Argument obligatoire : Data\n",
      "Argument dans args:  Science\n",
      "Argument dans args:  Python\n",
      "Nom d'argument et valeur dans kwargs :option:mon_option\n",
      "Nom d'argument et valeur dans kwargs :kind:book\n"
     ]
    }
   ],
   "source": [
    "def ma_fonct(param_obligatoire, *args, **kwargs):\n",
    "    print(\"Argument obligatoire :\", param_obligatoire)\n",
    "    if args:\n",
    "        for val in args:\n",
    "            print(\"Argument dans args: \", val)\n",
    "    if kwargs:\n",
    "        for key, val in kwargs.items():\n",
    "            print(\"Nom d'argument et valeur dans kwargs \", key, val, sep=\":\")\n",
    "ma_fonct(\"Data\", \"Science\", \"Python\", option=\"mon_option\", kind= \"book\")"
   ]
  },
  {
   "cell_type": "code",
   "execution_count": 250,
   "id": "d0bb02c5",
   "metadata": {},
   "outputs": [
    {
     "name": "stdout",
     "output_type": "stream",
     "text": [
      "Help on function ma_fonction in module __main__:\n",
      "\n",
      "ma_fonction(*args)\n",
      "    cette fonction return la somme des paramètres\n",
      "\n"
     ]
    },
    {
     "data": {
      "text/plain": [
       "' cette fonction return la somme des paramètres '"
      ]
     },
     "execution_count": 250,
     "metadata": {},
     "output_type": "execute_result"
    }
   ],
   "source": [
    "# Les dogstrings\n",
    "def ma_fonction(*args):\n",
    "    ''' cette fonction return la somme des paramètres '''\n",
    "    if args:\n",
    "        return sum(args)\n",
    "    else: \n",
    "        return None\n",
    "#try this\n",
    "help(ma_fonction)\n",
    "# or this\n",
    "ma_fonction.__doc__"
   ]
  },
  {
   "cell_type": "code",
   "execution_count": 252,
   "id": "be99b614",
   "metadata": {},
   "outputs": [
    {
     "data": {
      "text/plain": [
       "(9, 128)"
      ]
     },
     "execution_count": 252,
     "metadata": {},
     "output_type": "execute_result"
    }
   ],
   "source": [
    "# les retours multiples \n",
    "def ma_fonct(a, b):\n",
    "    return a+b, a**b\n",
    "ma_fonct(2,7)"
   ]
  },
  {
   "cell_type": "code",
   "execution_count": 255,
   "id": "b9851eee",
   "metadata": {},
   "outputs": [
    {
     "data": {
      "text/plain": [
       "[6, 8, 9, 11, 20, 88]"
      ]
     },
     "execution_count": 255,
     "metadata": {},
     "output_type": "execute_result"
    }
   ],
   "source": [
    "# Les fonctions lambda \n",
    "\n",
    "ma_liste=[2, 6, 8, 9, 11, 20, 88]\n",
    "nouvelle_liste= list(filter(lambda x: (x>=6), ma_liste))\n",
    "nouvelle_liste"
   ]
  },
  {
   "cell_type": "code",
   "execution_count": 257,
   "id": "cae261c2",
   "metadata": {},
   "outputs": [],
   "source": [
    "# des structures pour le traitement des données \n",
    "\n",
    "frame_rs['Budget_vs_moyen']= frame_rs['Budget'].apply(lambda x: x/budget_moyen*100)"
   ]
  },
  {
   "cell_type": "markdown",
   "id": "ed14360a",
   "metadata": {},
   "source": [
    "# Les Classes et les objets"
   ]
  },
  {
   "cell_type": "code",
   "execution_count": 264,
   "id": "26237b5c",
   "metadata": {},
   "outputs": [
    {
     "name": "stdout",
     "output_type": "stream",
     "text": [
      "1000\n"
     ]
    }
   ],
   "source": [
    "class MonImage:\n",
    "    #__init__ est le constructeur de classe\n",
    "    def __init__(self, resolution=300, source=\"./\", taille=500):\n",
    "        self.resolution=resolution \n",
    "        self.source=source\n",
    "        self.taille= taille \n",
    "        \n",
    "    def affiche_caract(self):\n",
    "        print(\"Resolution: \", self.resolution)\n",
    "        print('taille: ', self.taille)\n",
    "        print(\"source: \", self.source)\n",
    "    def agrandir_image(self, facteur):\n",
    "        self.taille*= facteur\n",
    "        \n",
    "image_1= MonImage(source=\"da1 (2).jpeg\")  \n",
    "image_1.agrandir_image(2)\n",
    "print(image_1.taille)"
   ]
  },
  {
   "cell_type": "code",
   "execution_count": 266,
   "id": "2ae580c8",
   "metadata": {},
   "outputs": [
    {
     "name": "stdout",
     "output_type": "stream",
     "text": [
      "2021-12-13\n"
     ]
    }
   ],
   "source": [
    "import datetime \n",
    "print(datetime.date.today())"
   ]
  },
  {
   "cell_type": "markdown",
   "id": "7e205242",
   "metadata": {},
   "source": [
    "# La gestion des exceptions:"
   ]
  },
  {
   "cell_type": "code",
   "execution_count": 267,
   "id": "f679bc38",
   "metadata": {},
   "outputs": [],
   "source": [
    "def rapport(x, y):\n",
    "    try:\n",
    "        return x/y\n",
    "    except ZeroDivisionError:\n",
    "        print(\"Division par zero\")\n",
    "        return None\n",
    "    except TypeError: \n",
    "        print(\"Le type entré ne correspond pas \")\n",
    "        return None \n"
   ]
  },
  {
   "cell_type": "code",
   "execution_count": 275,
   "id": "cc1fb0ae",
   "metadata": {},
   "outputs": [
    {
     "name": "stdout",
     "output_type": "stream",
     "text": [
      "le resultat est 0.50\n",
      "le calcul est terminé\n"
     ]
    }
   ],
   "source": [
    "def rapport(x, y): \n",
    "    try: \n",
    "        result=x/y\n",
    "    except ZeroDivisionError:\n",
    "        print(\"Division par zero\")\n",
    "    else: \n",
    "        print(\"le resultat est %.2f\"%(result))\n",
    "    finally: \n",
    "        print(\"le calcul est terminé\")\n",
    "rapport(5, 10)"
   ]
  },
  {
   "cell_type": "markdown",
   "id": "cde263a6",
   "metadata": {},
   "source": [
    "# Les expressions régulières"
   ]
  },
  {
   "cell_type": "code",
   "execution_count": 278,
   "id": "75429993",
   "metadata": {},
   "outputs": [
    {
     "name": "stdout",
     "output_type": "stream",
     "text": [
      "Faux\n"
     ]
    }
   ],
   "source": [
    "# l'expression suivant vérifier que la chaine de caractères est bien une adress mail\n",
    "import re \n",
    "chaine= \"info@statdecison.com\"\n",
    "chaine1= \"leila\"\n",
    "regexp=\"(^[a-z0-9._-]+@[a-z0-9._-]+\\.[(com|fr)]+)\"\n",
    "\n",
    "if re.match(regexp, chaine1) is not None: \n",
    "    print(\"Vrai\")\n",
    "else: \n",
    "    print(\"Faux\")"
   ]
  },
  {
   "cell_type": "code",
   "execution_count": 281,
   "id": "b531a883",
   "metadata": {},
   "outputs": [
    {
     "name": "stdout",
     "output_type": "stream",
     "text": [
      "bonjour! \n",
      "Au revoir!!\n"
     ]
    }
   ],
   "source": [
    "# decorateur \n",
    "\n",
    "def mon_premier_decorateur(fonction):\n",
    "    def bonjour():\n",
    "        print(\"bonjour! \")\n",
    "        fonction()\n",
    "    return bonjour()\n",
    "def fonction():\n",
    "    print(\"Au revoir!!\")\n",
    "focntion_decora= mon_premier_decorateur(fonction)"
   ]
  },
  {
   "cell_type": "code",
   "execution_count": 285,
   "id": "8b6bd3f9",
   "metadata": {},
   "outputs": [
    {
     "name": "stdout",
     "output_type": "stream",
     "text": [
      "bonjour! \n",
      "comment allez_vous?\n"
     ]
    },
    {
     "ename": "TypeError",
     "evalue": "'NoneType' object is not callable",
     "output_type": "error",
     "traceback": [
      "\u001b[1;31m---------------------------------------------------------------------------\u001b[0m",
      "\u001b[1;31mTypeError\u001b[0m                                 Traceback (most recent call last)",
      "\u001b[1;32m~\\AppData\\Local\\Temp/ipykernel_3156/3399838151.py\u001b[0m in \u001b[0;36m<module>\u001b[1;34m\u001b[0m\n\u001b[0;32m      3\u001b[0m     \u001b[0mprint\u001b[0m\u001b[1;33m(\u001b[0m\u001b[1;34m\"comment allez_vous?\"\u001b[0m\u001b[1;33m)\u001b[0m\u001b[1;33m\u001b[0m\u001b[1;33m\u001b[0m\u001b[0m\n\u001b[0;32m      4\u001b[0m \u001b[1;33m\u001b[0m\u001b[0m\n\u001b[1;32m----> 5\u001b[1;33m \u001b[0mfonction2\u001b[0m\u001b[1;33m(\u001b[0m\u001b[1;33m)\u001b[0m\u001b[1;33m\u001b[0m\u001b[1;33m\u001b[0m\u001b[0m\n\u001b[0m",
      "\u001b[1;31mTypeError\u001b[0m: 'NoneType' object is not callable"
     ]
    }
   ],
   "source": [
    "@mon_premier_decorateur\n",
    "def fonction2():\n",
    "    print(\"comment allez_vous?\")\n",
    "    \n",
    "fonction2()"
   ]
  },
  {
   "cell_type": "code",
   "execution_count": 296,
   "id": "fa7f342f",
   "metadata": {},
   "outputs": [
    {
     "name": "stdout",
     "output_type": "stream",
     "text": [
      "Mauvais utilisateur\n"
     ]
    }
   ],
   "source": [
    "# véfication d'un nom d'utilisateur \n",
    "\n",
    "def test_utilisateur(fonction):\n",
    "    def verif_utilisateur(*args):\n",
    "        if args[0]==\"LEILA\":\n",
    "            fonction(*args)\n",
    "        else: \n",
    "            print(\"Mauvais utilisateur\")\n",
    "    return verif_utilisateur\n",
    "utili= \"LEILAL\"\n",
    "password= \"adam\"\n",
    "\n",
    "@test_utilisateur\n",
    "def affiche_mot_de_passe(utilisateur):\n",
    "    print(\"Mon mot de passe est % s\"% (password))\n",
    "    \n",
    "affiche_mot_de_passe(utili)"
   ]
  },
  {
   "cell_type": "markdown",
   "id": "82ae4eca",
   "metadata": {},
   "source": [
    "# fonction input "
   ]
  },
  {
   "cell_type": "code",
   "execution_count": 298,
   "id": "f78301f6",
   "metadata": {},
   "outputs": [
    {
     "name": "stdout",
     "output_type": "stream",
     "text": [
      "Entrez le nom d'utilisateur LEILA\n",
      "Mon mot de passe est adam\n"
     ]
    }
   ],
   "source": [
    "utilisateur= input(\"Entrez le nom d'utilisateur \")\n",
    "affiche_mot_de_passe(utilisateur)"
   ]
  },
  {
   "cell_type": "code",
   "execution_count": 300,
   "id": "01e47073",
   "metadata": {},
   "outputs": [
    {
     "name": "stdout",
     "output_type": "stream",
     "text": [
      "Veuillez entrer un nombre postif quelconque:  4\n",
      "le carre de  4 vaut  16\n"
     ]
    }
   ],
   "source": [
    "print(\"Veuillez entrer un nombre postif quelconque: \", end= \" \")\n",
    "ch= input()\n",
    "print( \"le carre de \", int(ch), \"vaut \", int(ch)**2)"
   ]
  },
  {
   "cell_type": "code",
   "execution_count": 303,
   "id": "6f479f2d",
   "metadata": {},
   "outputs": [
    {
     "name": "stdout",
     "output_type": "stream",
     "text": [
      "id of dummyFoo = 2143410095008\n"
     ]
    }
   ],
   "source": [
    "class Foo:\n",
    "    b = 5\n",
    "\n",
    "dummyFoo = Foo()\n",
    "print('id of dummyFoo =',id(dummyFoo))"
   ]
  },
  {
   "cell_type": "code",
   "execution_count": null,
   "id": "f79cb3f8",
   "metadata": {},
   "outputs": [],
   "source": []
  },
  {
   "cell_type": "code",
   "execution_count": 315,
   "id": "60227780",
   "metadata": {},
   "outputs": [
    {
     "name": "stdout",
     "output_type": "stream",
     "text": [
      "le perimetre est 16.97056274847714\n"
     ]
    }
   ],
   "source": [
    "from math import *\n",
    "def perimetre(a, b, c, d):\n",
    "    return sqrt(d*(d-a)*(d-b)*(d-c))\n",
    "\n",
    "per= perimetre(2, 3, 2, 6)\n",
    "print( \"le perimetre est %s\"%per)"
   ]
  },
  {
   "cell_type": "code",
   "execution_count": 10,
   "id": "95925b76",
   "metadata": {},
   "outputs": [],
   "source": [
    "from turtle import *\n",
    "forward(120)\n",
    "left(90)\n",
    "color('red')\n",
    "forward(80)\n",
    "reset()\n",
    "a=0\n",
    "while(a<50):\n",
    "    a=a+1\n",
    "    forward(150)\n",
    "    left(150)"
   ]
  },
  {
   "cell_type": "code",
   "execution_count": null,
   "id": "50db6446",
   "metadata": {},
   "outputs": [],
   "source": []
  }
 ],
 "metadata": {
  "kernelspec": {
   "display_name": "Python 3 (ipykernel)",
   "language": "python",
   "name": "python3"
  },
  "language_info": {
   "codemirror_mode": {
    "name": "ipython",
    "version": 3
   },
   "file_extension": ".py",
   "mimetype": "text/x-python",
   "name": "python",
   "nbconvert_exporter": "python",
   "pygments_lexer": "ipython3",
   "version": "3.9.7"
  }
 },
 "nbformat": 4,
 "nbformat_minor": 5
}
